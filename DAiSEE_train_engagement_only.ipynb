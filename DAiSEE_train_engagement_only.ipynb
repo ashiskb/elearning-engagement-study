{
 "cells": [
  {
   "cell_type": "code",
   "execution_count": 1,
   "metadata": {
    "executionInfo": {
     "elapsed": 5960,
     "status": "ok",
     "timestamp": 1649616990205,
     "user": {
      "displayName": "James Thiering",
      "userId": "02262056658604878482"
     },
     "user_tz": 360
    },
    "id": "VOMh4LFxDbL2"
   },
   "outputs": [],
   "source": [
    "# === Imports === #\n",
    "\n",
    "import tensorflow as tf\n",
    "from tensorflow.keras.models import load_model\n",
    "\n",
    "from tqdm import tqdm\n",
    "\n",
    "# Various python packages are used in this notebook. Please get yourself used to them (optional).\n",
    "import pandas as pd  # used for storing a tabular representation of the dataset, similar to XLS files.\n",
    "from pathlib import Path # used to check if the saved model files and accessories.\n",
    "import requests #used to request remote judge.csv evaluation \n",
    "from sklearn.preprocessing import StandardScaler  # used for normalization of dataset\n",
    "from sklearn.preprocessing   import LabelBinarizer    # used for splitting the gender column\n",
    "from sklearn.preprocessing   import MinMaxScaler      # used for normalization of dataset\n",
    "from sklearn.model_selection import train_test_split  # used for performing the train-test split of a dataframe\n",
    "import cv2                                            # OpenCV used for image processing\n",
    "import random   #random number generator\n",
    "import datetime #used to get current date/time\n",
    "import math     #math/numerical functions\n",
    "import os       #os specific functions, like file open/close etc.\n",
    "import gc       #garbage collection module -- used to manually clean up memory spaces/references.\n",
    "\n",
    "\n",
    "from sklearn.preprocessing import OneHotEncoder   #My favorite categorical to numerical feature conversion tool\n",
    "from tensorflow import keras  # keras used for construction of the Artificial neural network\n",
    "from keras.models import Model, Sequential #keras model architectures\n",
    "from keras.layers import Conv2D, MaxPool2D, Dense, Flatten, Dropout, BatchNormalization, GlobalAveragePooling2D #types of layers\n",
    "from keras.losses import mean_squared_error, huber, log_cosh  #built-in loss \n",
    "from tensorflow.python.keras.saving import hdf5_format  #used for saving models \n",
    "from keras.callbacks import EarlyStopping, ModelCheckpoint, ReduceLROnPlateau, TensorBoard  #callbacks\n",
    "from keras.models import model_from_json  #used for loading model architecture from json file\n",
    "import h5py  #saved model type\n",
    "\n",
    "import matplotlib.pyplot as plt  # used for training visualization\n",
    "import numpy as np  # numpy arrays used for matrix computations\n",
    "\n",
    "# === Extra Configurations for the GPU Environment === #\n",
    "import tensorflow as tf\n",
    "physical_devices = tf.config.list_physical_devices('GPU') \n",
    "if len(physical_devices)>0: #If you have at least one \"configured\" GPU, let's use it; otherwise, pass\n",
    "    tf.config.experimental.set_memory_growth(physical_devices[0], True)\n",
    "\n",
    "# https://github.com/zaid478/Transfer-Learning-from-Xception-Model-in-Keras-/blob/master/transfer_learn.py\n",
    "\n",
    "from keras.applications import xception\n",
    "from keras import backend as K\n",
    "from keras.utils import np_utils\n",
    "\n",
    "from tensorflow.keras.optimizers import RMSprop\n",
    "from tensorflow.keras.losses import SparseCategoricalCrossentropy\n",
    "from tensorflow.keras.callbacks import EarlyStopping, TensorBoard"
   ]
  },
  {
   "cell_type": "code",
   "execution_count": 2,
   "metadata": {
    "colab": {
     "base_uri": "https://localhost:8080/"
    },
    "executionInfo": {
     "elapsed": 14357,
     "status": "ok",
     "timestamp": 1649617004554,
     "user": {
      "displayName": "James Thiering",
      "userId": "02262056658604878482"
     },
     "user_tz": 360
    },
    "id": "D21GsWN-CCy9",
    "outputId": "7fdb4fd3-3d28-4301-e607-11e214022687"
   },
   "outputs": [
    {
     "name": "stdout",
     "output_type": "stream",
     "text": [
      "Running on Google colab...\n",
      "Mounted at /content/drive\n"
     ]
    }
   ],
   "source": [
    "\"\"\"\n",
    "Setting work environment with dataset. If on Google colaboratory, we need to extract dataset stored in google drive,\n",
    "otherwise the dataset is already there.\n",
    "\"\"\"\n",
    "try:\n",
    "    from google.colab import drive\n",
    "    print('Running on Google colab...')\n",
    "    drive.mount('/content/drive')\n",
    "except:\n",
    "    print('Running on local machine...')"
   ]
  },
  {
   "cell_type": "markdown",
   "metadata": {
    "id": "hs5sRWTO9OyD"
   },
   "source": [
    "# IMPORTANT VARIABLES"
   ]
  },
  {
   "cell_type": "code",
   "execution_count": 3,
   "metadata": {
    "executionInfo": {
     "elapsed": 4,
     "status": "ok",
     "timestamp": 1649617004555,
     "user": {
      "displayName": "James Thiering",
      "userId": "02262056658604878482"
     },
     "user_tz": 360
    },
    "id": "gN52UDNE9OkO"
   },
   "outputs": [],
   "source": [
    "train_path = 'drive/MyDrive/Colab Notebooks/DAiSEE/gen-full-4/Train/'\n",
    "test_path = 'drive/MyDrive/Colab Notebooks/DAiSEE/gen-full-4/Test/'\n",
    "\n",
    "image_shape = (224, 299, 3) # HEIGHT, WIDTH, CHANNELS"
   ]
  },
  {
   "cell_type": "markdown",
   "metadata": {
    "id": "iOqN6MfCHilD"
   },
   "source": [
    "# Train a new Xception model"
   ]
  },
  {
   "cell_type": "code",
   "execution_count": 4,
   "metadata": {
    "colab": {
     "base_uri": "https://localhost:8080/"
    },
    "executionInfo": {
     "elapsed": 4439,
     "status": "ok",
     "timestamp": 1649617008991,
     "user": {
      "displayName": "James Thiering",
      "userId": "02262056658604878482"
     },
     "user_tz": 360
    },
    "id": "agbrvwtvHlck",
    "outputId": "8cb237b1-ffa7-4f15-9afd-e2d2e8d0ecba"
   },
   "outputs": [
    {
     "name": "stdout",
     "output_type": "stream",
     "text": [
      "Downloading data from https://storage.googleapis.com/tensorflow/keras-applications/xception/xception_weights_tf_dim_ordering_tf_kernels_notop.h5\n",
      "83689472/83683744 [==============================] - 0s 0us/step\n",
      "83697664/83683744 [==============================] - 0s 0us/step\n"
     ]
    }
   ],
   "source": [
    "xception_tl = tf.keras.applications.Xception(\n",
    "    include_top=False,\n",
    "    weights=\"imagenet\",\n",
    "    input_tensor=None,\n",
    "    input_shape=image_shape,\n",
    "    pooling=None,\n",
    "    classes=4,\n",
    "    classifier_activation=\"softmax\",\n",
    ")"
   ]
  },
  {
   "cell_type": "code",
   "execution_count": 5,
   "metadata": {
    "executionInfo": {
     "elapsed": 11,
     "status": "ok",
     "timestamp": 1649617008992,
     "user": {
      "displayName": "James Thiering",
      "userId": "02262056658604878482"
     },
     "user_tz": 360
    },
    "id": "vLcjutnAH9ys"
   },
   "outputs": [],
   "source": [
    "for layer in xception_tl.layers:\n",
    "\tlayer.trainable=False"
   ]
  },
  {
   "cell_type": "code",
   "execution_count": 6,
   "metadata": {
    "executionInfo": {
     "elapsed": 11,
     "status": "ok",
     "timestamp": 1649617008992,
     "user": {
      "displayName": "James Thiering",
      "userId": "02262056658604878482"
     },
     "user_tz": 360
    },
    "id": "LvUg3bslEvab"
   },
   "outputs": [],
   "source": [
    "x = xception_tl.output\n",
    "x = GlobalAveragePooling2D()(x)\n",
    "x = Dense(1024, activation='relu', name='learning_layer')(x)\n",
    "y1 = Dense(4, activation='softmax', name='y1')(x)\n",
    "\n",
    "xception_tl_DAiSEE=Model(xception_tl.input, y1)"
   ]
  },
  {
   "cell_type": "code",
   "execution_count": 7,
   "metadata": {
    "colab": {
     "base_uri": "https://localhost:8080/"
    },
    "executionInfo": {
     "elapsed": 10,
     "status": "ok",
     "timestamp": 1649617008992,
     "user": {
      "displayName": "James Thiering",
      "userId": "02262056658604878482"
     },
     "user_tz": 360
    },
    "id": "zOsBUKv5KlJe",
    "outputId": "eb1fd78b-ab13-4d1e-e563-e1fd8d3a7fda"
   },
   "outputs": [
    {
     "data": {
      "text/plain": [
       "<KerasTensor: shape=(None, 4) dtype=float32 (created by layer 'y1')>"
      ]
     },
     "execution_count": 7,
     "metadata": {},
     "output_type": "execute_result"
    }
   ],
   "source": [
    "xception_tl_DAiSEE.output"
   ]
  },
  {
   "cell_type": "markdown",
   "metadata": {
    "id": "SHtOo-WqSWVy"
   },
   "source": [
    "https://stanford.edu/~shervine/blog/keras-how-to-generate-data-on-the-fly"
   ]
  },
  {
   "cell_type": "code",
   "execution_count": 8,
   "metadata": {
    "executionInfo": {
     "elapsed": 10,
     "status": "ok",
     "timestamp": 1649617008993,
     "user": {
      "displayName": "James Thiering",
      "userId": "02262056658604878482"
     },
     "user_tz": 360
    },
    "id": "PYUPtMD2tpbx"
   },
   "outputs": [],
   "source": [
    "class DataGenerator(tf.keras.utils.Sequence):\n",
    "    'Generates data for Keras'\n",
    "    def __init__(self, path, list_IDs, labels, batch_size=32, dim=(480,640), n_channels=3,\n",
    "                 n_classes=4, shuffle=True):\n",
    "        self.dim = dim\n",
    "        self.batch_size = batch_size\n",
    "        self.labels = labels\n",
    "        self.list_IDs = list_IDs\n",
    "        self.path = path\n",
    "        self.n_channels = n_channels\n",
    "        self.n_classes = n_classes\n",
    "        self.shuffle = shuffle\n",
    "        self.on_epoch_end()\n",
    "\n",
    "    def __len__(self):\n",
    "        'Denotes the number of batches per epoch'\n",
    "        return int(np.floor(len(self.list_IDs) / self.batch_size))\n",
    "\n",
    "    def __getitem__(self, index):\n",
    "        'Generate one batch of data'\n",
    "        # Generate indexes of the batch\n",
    "        indexes = self.indexes[index*self.batch_size:(index+1)*self.batch_size]\n",
    "\n",
    "        # Find list of IDs\n",
    "        list_IDs_temp = [self.list_IDs[k] for k in indexes]\n",
    "\n",
    "        # Generate data\n",
    "        X, y = self.__data_generation(indexes)\n",
    "\n",
    "        return X, y\n",
    "\n",
    "    def on_epoch_end(self):\n",
    "        'Updates indexes after each epoch'\n",
    "        self.indexes = np.arange(len(self.list_IDs))\n",
    "        if self.shuffle == True:\n",
    "            np.random.shuffle(self.indexes)\n",
    "\n",
    "    def __data_generation(self, list_IDs_temp):\n",
    "        'Generates data containing batch_size samples' # X : (n_samples, *dim, n_channels)\n",
    "        # Initialization\n",
    "        X = np.empty((self.batch_size, *self.dim, self.n_channels))\n",
    "        y = np.empty((self.batch_size, 4), dtype='float32')\n",
    "\n",
    "        # Generate data\n",
    "        for i, ID in enumerate(list_IDs_temp):\n",
    "            filename = os.path.join(self.path, self.list_IDs[ID])\n",
    "            x = cv2.imread(filename)\n",
    "            X[i,] = tf.keras.applications.xception.preprocess_input(x)\n",
    "            y[i,:] = tf.one_hot(self.labels[ID][1], depth=4)\n",
    "\n",
    "        return X, tf.convert_to_tensor(y)"
   ]
  },
  {
   "cell_type": "code",
   "execution_count": 10,
   "metadata": {
    "colab": {
     "base_uri": "https://localhost:8080/",
     "height": 35
    },
    "executionInfo": {
     "elapsed": 10727832,
     "status": "ok",
     "timestamp": 1649629210980,
     "user": {
      "displayName": "James Thiering",
      "userId": "02262056658604878482"
     },
     "user_tz": 360
    },
    "id": "3Qns-HBP6pun",
    "outputId": "aaee0fdb-5235-4723-c32d-994fb6f7ba0f"
   },
   "outputs": [
    {
     "data": {
      "application/vnd.google.colaboratory.intrinsic+json": {
       "type": "string"
      },
      "text/plain": [
       "'temp_data/test'"
      ]
     },
     "execution_count": 10,
     "metadata": {},
     "output_type": "execute_result"
    }
   ],
   "source": [
    "import os\n",
    "import shutil\n",
    "#os.getcwd()\n",
    "\n",
    "temp_data_location = 'temp_data'\n",
    "\n",
    "if temp_data_location in os.listdir(os.getcwd()):\n",
    "    shutil.rmtree(temp_data_location)\n",
    "\n",
    "os.mkdir(temp_data_location)\n",
    "\n",
    "#assert temp_data_location not in os.listdir(os.getcwd())\n",
    "\n",
    "\n",
    "local_train_path = os.path.join(temp_data_location, 'train')\n",
    "local_test_path = os.path.join(temp_data_location, 'test') \n",
    "\n",
    "# Copytree makes the folders\n",
    "#os.mkdir(local_train_path)\n",
    "#os.mkdir(local_test_path)\n",
    "\n",
    "shutil.copytree(train_path, local_train_path) \n",
    "shutil.copytree(test_path, local_test_path)"
   ]
  },
  {
   "cell_type": "code",
   "execution_count": 11,
   "metadata": {
    "colab": {
     "base_uri": "https://localhost:8080/"
    },
    "executionInfo": {
     "elapsed": 45295,
     "status": "ok",
     "timestamp": 1649629256271,
     "user": {
      "displayName": "James Thiering",
      "userId": "02262056658604878482"
     },
     "user_tz": 360
    },
    "id": "8R8qKEZUtmTx",
    "outputId": "d8eea1fc-81b8-4d62-a23c-25a06a46294d"
   },
   "outputs": [
    {
     "name": "stdout",
     "output_type": "stream",
     "text": [
      "building train set\n"
     ]
    },
    {
     "name": "stderr",
     "output_type": "stream",
     "text": [
      "100%|██████████| 38374/38374 [00:36<00:00, 1046.76it/s]\n"
     ]
    },
    {
     "name": "stdout",
     "output_type": "stream",
     "text": [
      "building test set\n"
     ]
    },
    {
     "name": "stderr",
     "output_type": "stream",
     "text": [
      "  3%|▎         | 358/13062 [00:00<00:07, 1784.94it/s]"
     ]
    },
    {
     "name": "stdout",
     "output_type": "stream",
     "text": [
      "9988260264\n",
      "9988260229\n",
      "9988260212\n",
      "9988260215\n",
      "9988260127\n",
      "9988260126\n",
      "9988260250\n",
      "9988260276\n",
      "9988260146\n",
      "998826021\n",
      "9988260141\n",
      "9988260137\n",
      "998826014\n",
      "9988260138\n"
     ]
    },
    {
     "name": "stderr",
     "output_type": "stream",
     "text": [
      "\r",
      "  4%|▍         | 537/13062 [00:00<00:07, 1710.42it/s]"
     ]
    },
    {
     "name": "stdout",
     "output_type": "stream",
     "text": [
      "9988260236\n",
      "998826016\n",
      "9988260224\n",
      "9988260150\n",
      "9988260127\n",
      "9988260145\n",
      "998826019\n",
      "9988260243\n",
      "9988260249\n"
     ]
    },
    {
     "name": "stderr",
     "output_type": "stream",
     "text": [
      "  7%|▋         | 888/13062 [00:00<00:07, 1735.71it/s]"
     ]
    },
    {
     "name": "stdout",
     "output_type": "stream",
     "text": [
      "9988260250\n",
      "9988260216\n",
      "9988260160\n",
      "9988260135\n",
      "9988260279\n",
      "998826026\n",
      "9988260139\n",
      "9988260250\n",
      "9988260233\n",
      "9988260133\n",
      "9988260134\n",
      "9988260228\n",
      "9988260123\n",
      "9988260154\n",
      "9988260163\n",
      "9988260246\n",
      "9988260243\n",
      "9988260259\n"
     ]
    },
    {
     "name": "stderr",
     "output_type": "stream",
     "text": [
      " 11%|█         | 1423/13062 [00:00<00:06, 1731.21it/s]"
     ]
    },
    {
     "name": "stdout",
     "output_type": "stream",
     "text": [
      "9988260154\n",
      "9988260152\n",
      "9988260212\n",
      "9988260259\n",
      "9988260228\n",
      "998826014\n",
      "9988260214\n",
      "9988260264\n",
      "9988260210\n",
      "9988260254\n",
      "9988260277\n",
      "9988260167\n",
      "9988260144\n",
      "9988260243\n",
      "9988260248\n",
      "9988260234\n",
      "9988260123\n",
      "9988260275\n",
      "9988260254\n",
      "9988260273\n",
      "9988260251\n",
      "9988260160\n",
      "9988260237\n",
      "9988260130\n",
      "9988260247\n",
      "9988260273\n",
      "9988260138\n",
      "9988260141\n",
      "9988260236\n"
     ]
    },
    {
     "name": "stderr",
     "output_type": "stream",
     "text": [
      " 15%|█▌        | 1968/13062 [00:01<00:06, 1767.37it/s]"
     ]
    },
    {
     "name": "stdout",
     "output_type": "stream",
     "text": [
      "998826024\n",
      "9988260144\n",
      "9988260134\n",
      "9988260264\n",
      "9988260143\n",
      "9988260139\n",
      "9988260139\n",
      "9988260141\n",
      "9988260167\n",
      "9988260240\n",
      "9988260121\n",
      "9988260246\n",
      "9988260224\n",
      "9988260269\n",
      "998826024\n",
      "9988260132\n",
      "9988260143\n",
      "9988260154\n",
      "998826016\n",
      "9988260146\n",
      "998826026\n",
      "998826017\n",
      "9988260132\n",
      "9988260279\n"
     ]
    },
    {
     "name": "stderr",
     "output_type": "stream",
     "text": [
      " 19%|█▉        | 2510/13062 [00:01<00:05, 1777.75it/s]"
     ]
    },
    {
     "name": "stdout",
     "output_type": "stream",
     "text": [
      "9988260248\n",
      "9988260129\n",
      "998826019\n",
      "9988260259\n",
      "9988260246\n",
      "9988260129\n",
      "9988260237\n",
      "9988260279\n",
      "9988260211\n",
      "9988260273\n",
      "9988260233\n",
      "9988260144\n",
      "998826013\n",
      "9988260212\n",
      "9988260135\n",
      "9988260127\n",
      "9988260211\n",
      "9988260222\n",
      "9988260144\n",
      "9988260247\n",
      "9988260250\n",
      "9988260249\n"
     ]
    },
    {
     "name": "stderr",
     "output_type": "stream",
     "text": [
      " 23%|██▎       | 3056/13062 [00:01<00:05, 1794.17it/s]"
     ]
    },
    {
     "name": "stdout",
     "output_type": "stream",
     "text": [
      "9988260277\n",
      "9988260257\n",
      "998826019\n",
      "9988260152\n",
      "998826017\n",
      "9988260232\n",
      "998826017\n",
      "9988260121\n",
      "998826024\n",
      "998826017\n",
      "9988260249\n",
      "998826022\n",
      "9988260231\n",
      "9988260241\n",
      "9988260269\n",
      "9988260141\n",
      "9988260230\n"
     ]
    },
    {
     "name": "stderr",
     "output_type": "stream",
     "text": [
      " 28%|██▊       | 3594/13062 [00:02<00:05, 1769.10it/s]"
     ]
    },
    {
     "name": "stdout",
     "output_type": "stream",
     "text": [
      "9988260254\n",
      "9988260246\n",
      "9988260232\n",
      "9988260143\n",
      "9988260165\n",
      "9988260215\n",
      "9988260237\n",
      "9988260121\n",
      "998826019\n",
      "9988260268\n",
      "9988260216\n",
      "9988260150\n",
      "9988260144\n",
      "9988260255\n",
      "9988260243\n",
      "9988260235\n",
      "998826024\n",
      "9988260233\n",
      "9988260229\n",
      "9988260241\n",
      "9988260233\n",
      "998826014\n",
      "9988260241\n",
      "9988260214\n",
      "9988260217\n",
      "9988260229\n",
      "9988260259\n",
      "9988260163\n",
      "9988260150\n",
      "9988260137\n",
      "9988260150\n"
     ]
    },
    {
     "name": "stderr",
     "output_type": "stream",
     "text": [
      " 32%|███▏      | 4135/13062 [00:02<00:05, 1775.43it/s]"
     ]
    },
    {
     "name": "stdout",
     "output_type": "stream",
     "text": [
      "9988260251\n",
      "9988260146\n",
      "998826016\n",
      "9988260132\n",
      "9988260237\n",
      "998826026\n",
      "9988260163\n",
      "9988260255\n",
      "9988260250\n",
      "9988260123\n",
      "9988260157\n",
      "9988260242\n",
      "9988260275\n",
      "998826022\n",
      "9988260210\n",
      "9988260276\n",
      "9988260216\n",
      "9988260234\n",
      "9988260254\n",
      "9988260268\n",
      "9988260229\n",
      "9988260247\n"
     ]
    },
    {
     "name": "stderr",
     "output_type": "stream",
     "text": [
      " 36%|███▌      | 4668/13062 [00:02<00:04, 1758.33it/s]"
     ]
    },
    {
     "name": "stdout",
     "output_type": "stream",
     "text": [
      "998826022\n",
      "9988260216\n",
      "9988260154\n",
      "9988260152\n",
      "9988260211\n",
      "9988260216\n",
      "998826019\n",
      "9988260230\n",
      "9988260217\n",
      "9988260214\n",
      "9988260222\n",
      "9988260235\n",
      "998826013\n",
      "9988260255\n",
      "9988260212\n",
      "9988260237\n",
      "9988260215\n",
      "9988260157\n",
      "9988260152\n",
      "9988260152\n",
      "9988260241\n",
      "9988260268\n",
      "9988260270\n"
     ]
    },
    {
     "name": "stderr",
     "output_type": "stream",
     "text": [
      " 40%|███▉      | 5199/13062 [00:02<00:04, 1727.90it/s]"
     ]
    },
    {
     "name": "stdout",
     "output_type": "stream",
     "text": [
      "9988260233\n",
      "9988260239\n",
      "9988260121\n",
      "9988260211\n",
      "9988260242\n",
      "9988260250\n",
      "9988260141\n",
      "9988260157\n",
      "998826021\n",
      "9988260138\n",
      "9988260227\n",
      "998826016\n",
      "9988260157\n",
      "9988260281\n",
      "9988260273\n",
      "9988260235\n",
      "9988260279\n",
      "9988260277\n",
      "9988260273\n",
      "9988260235\n",
      "9988260160\n",
      "9988260257\n"
     ]
    },
    {
     "name": "stderr",
     "output_type": "stream",
     "text": [
      " 44%|████▍     | 5737/13062 [00:03<00:04, 1767.97it/s]"
     ]
    },
    {
     "name": "stdout",
     "output_type": "stream",
     "text": [
      "9988260146\n",
      "998826019\n",
      "9988260246\n",
      "9988260150\n",
      "9988260248\n",
      "998826023\n",
      "9988260160\n",
      "9988260269\n",
      "9988260145\n",
      "9988260257\n",
      "9988260222\n",
      "9988260154\n",
      "998826023\n",
      "998826017\n",
      "9988260241\n",
      "9988260210\n",
      "9988260240\n",
      "9988260123\n"
     ]
    },
    {
     "name": "stderr",
     "output_type": "stream",
     "text": [
      " 47%|████▋     | 6097/13062 [00:03<00:03, 1777.15it/s]"
     ]
    },
    {
     "name": "stdout",
     "output_type": "stream",
     "text": [
      "9988260163\n",
      "998826014\n",
      "9988260234\n",
      "9988260268\n",
      "9988260232\n",
      "9988260211\n",
      "9988260222\n",
      "998826014\n",
      "9988260217\n",
      "9988260254\n",
      "9988260255\n",
      "9988260214\n",
      "9988260242\n",
      "9988260251\n",
      "9988260228\n",
      "9988260245\n",
      "9988260145\n",
      "9988260241\n",
      "9988260212\n",
      "9988260165"
     ]
    },
    {
     "name": "stderr",
     "output_type": "stream",
     "text": [
      " 52%|█████▏    | 6815/13062 [00:03<00:03, 1782.05it/s]"
     ]
    },
    {
     "name": "stdout",
     "output_type": "stream",
     "text": [
      "\n",
      "9988260139\n",
      "9988260251\n",
      "9988260165\n",
      "9988260165\n",
      "9988260235\n",
      "9988260237\n",
      "9988260259\n",
      "998826024\n",
      "9988260134\n",
      "9988260281\n",
      "9988260245\n",
      "998826017\n",
      "9988260275\n",
      "9988260165\n",
      "9988260216\n",
      "9988260234\n",
      "9988260249\n",
      "9988260134\n",
      "9988260222\n",
      "9988260227\n",
      "9988260123\n",
      "9988260264\n",
      "9988260268\n"
     ]
    },
    {
     "name": "stderr",
     "output_type": "stream",
     "text": [
      " 56%|█████▌    | 7345/13062 [00:04<00:03, 1731.55it/s]"
     ]
    },
    {
     "name": "stdout",
     "output_type": "stream",
     "text": [
      "9988260127\n",
      "9988260129\n",
      "998826013\n",
      "9988260211\n",
      "9988260268\n",
      "9988260121\n",
      "9988260137\n",
      "9988260240\n",
      "9988260248\n",
      "9988260215\n",
      "9988260132\n",
      "9988260141\n",
      "9988260234\n",
      "9988260228\n",
      "9988260240\n",
      "9988260157\n",
      "9988260139\n",
      "9988260251\n",
      "9988260138\n",
      "9988260232\n",
      "9988260273\n"
     ]
    },
    {
     "name": "stderr",
     "output_type": "stream",
     "text": [
      " 60%|██████    | 7878/13062 [00:04<00:02, 1734.07it/s]"
     ]
    },
    {
     "name": "stdout",
     "output_type": "stream",
     "text": [
      "9988260214\n",
      "9988260247\n",
      "9988260217\n",
      "9988260243\n",
      "9988260249\n",
      "9988260130\n",
      "9988260217\n",
      "9988260231\n",
      "9988260126\n",
      "9988260144\n",
      "998826026\n",
      "9988260143\n",
      "9988260255\n",
      "998826017\n",
      "9988260132\n",
      "9988260235\n",
      "9988260154\n",
      "9988260145\n",
      "9988260134\n",
      "9988260242\n",
      "9988260275\n",
      "998826023\n",
      "9988260127\n",
      "9988260150\n",
      "9988260276\n"
     ]
    },
    {
     "name": "stderr",
     "output_type": "stream",
     "text": [
      " 63%|██████▎   | 8238/13062 [00:04<00:02, 1758.13it/s]"
     ]
    },
    {
     "name": "stdout",
     "output_type": "stream",
     "text": [
      "9988260146\n",
      "9988260269\n",
      "9988260229\n",
      "998826023\n",
      "9988260276\n",
      "9988260277\n",
      "9988260264\n",
      "9988260134\n",
      "9988260137\n",
      "9988260134\n",
      "9988260250\n",
      "9988260257\n",
      "9988260230\n",
      "998826023\n",
      "9988260210\n",
      "9988260227\n",
      "9988260157\n",
      "9988260135\n",
      "9988260139\n",
      "9988260281\n",
      "9988260236\n"
     ]
    },
    {
     "name": "stderr",
     "output_type": "stream",
     "text": [
      " 68%|██████▊   | 8947/13062 [00:05<00:02, 1757.23it/s]"
     ]
    },
    {
     "name": "stdout",
     "output_type": "stream",
     "text": [
      "998826013\n",
      "9988260163\n",
      "9988260273\n",
      "9988260230\n",
      "9988260231\n",
      "9988260145\n",
      "998826014\n",
      "9988260217\n",
      "9988260237\n",
      "9988260232\n",
      "9988260277\n",
      "998826013\n",
      "9988260222\n",
      "9988260239\n",
      "9988260167\n",
      "998826022\n",
      "9988260245\n",
      "9988260227\n",
      "9988260157\n",
      "9988260138\n",
      "9988260233\n",
      "9988260143\n"
     ]
    },
    {
     "name": "stderr",
     "output_type": "stream",
     "text": [
      " 74%|███████▍  | 9664/13062 [00:05<00:01, 1769.80it/s]"
     ]
    },
    {
     "name": "stdout",
     "output_type": "stream",
     "text": [
      "9988260269\n",
      "9988260264\n",
      "9988260254\n",
      "9988260242\n",
      "9988260167\n",
      "9988260135\n",
      "9988260247\n",
      "9988260243\n",
      "9988260123\n",
      "9988260210\n",
      "9988260279\n",
      "9988260211\n",
      "9988260127\n",
      "9988260133\n",
      "9988260214\n",
      "9988260138\n",
      "9988260236\n",
      "9988260163\n",
      "9988260212\n",
      "9988260133\n",
      "998826016\n",
      "9988260126\n",
      "9988260129\n",
      "9988260279\n",
      "9988260224\n",
      "9988260275\n",
      "9988260165\n",
      "9988260154\n",
      "9988260230\n",
      "9988260249\n",
      "998826023\n",
      "9988260217\n"
     ]
    },
    {
     "name": "stderr",
     "output_type": "stream",
     "text": [
      " 77%|███████▋  | 10018/13062 [00:05<00:01, 1706.90it/s]"
     ]
    },
    {
     "name": "stdout",
     "output_type": "stream",
     "text": [
      "9988260247\n",
      "9988260255\n",
      "9988260129\n",
      "998826021\n",
      "9988260165\n",
      "9988260210\n",
      "9988260281\n",
      "9988260150\n",
      "998826021\n",
      "9988260215\n",
      "9988260126\n",
      "9988260139\n",
      "9988260269\n",
      "9988260233\n",
      "9988260123\n",
      "9988260257\n",
      "9988260138\n",
      "9988260135\n",
      "9988260228\n",
      "9988260231\n",
      "9988260210\n",
      "9988260145\n",
      "9988260248\n",
      "9988260137\n"
     ]
    },
    {
     "name": "stderr",
     "output_type": "stream",
     "text": [
      " 81%|████████  | 10541/13062 [00:06<00:01, 1668.24it/s]"
     ]
    },
    {
     "name": "stdout",
     "output_type": "stream",
     "text": [
      "9988260152\n",
      "9988260163\n",
      "9988260245\n",
      "9988260143\n",
      "9988260279\n",
      "9988260231\n",
      "9988260229\n",
      "998826022\n",
      "9988260259\n",
      "998826016\n",
      "9988260228\n",
      "9988260126\n",
      "9988260130\n",
      "9988260133\n",
      "9988260239\n",
      "9988260234\n",
      "9988260241\n",
      "9988260141\n",
      "9988260224\n",
      "9988260268\n",
      "9988260270\n",
      "9988260160\n",
      "9988260227\n",
      "9988260270\n",
      "9988260251\n"
     ]
    },
    {
     "name": "stderr",
     "output_type": "stream",
     "text": [
      " 86%|████████▌ | 11245/13062 [00:06<00:01, 1742.97it/s]"
     ]
    },
    {
     "name": "stdout",
     "output_type": "stream",
     "text": [
      "9988260235\n",
      "9988260246\n",
      "9988260270\n",
      "9988260145\n",
      "9988260146\n",
      "9988260132\n",
      "9988260229\n",
      "9988260239\n",
      "9988260270\n",
      "9988260215\n",
      "9988260224\n",
      "9988260212\n",
      "9988260276\n",
      "9988260216\n",
      "9988260248\n",
      "9988260236\n",
      "998826026\n",
      "9988260143\n",
      "9988260167\n",
      "9988260228\n",
      "9988260127\n",
      "9988260275\n",
      "9988260146\n",
      "9988260276\n",
      "9988260121\n",
      "9988260227\n",
      "9988260231\n",
      "9988260130\n",
      "9988260137\n",
      "9988260240\n",
      "9988260214\n"
     ]
    },
    {
     "name": "stderr",
     "output_type": "stream",
     "text": [
      " 92%|█████████▏| 11964/13062 [00:06<00:00, 1764.34it/s]"
     ]
    },
    {
     "name": "stdout",
     "output_type": "stream",
     "text": [
      "9988260135\n",
      "9988260243\n",
      "9988260121\n",
      "9988260234\n",
      "9988260281\n",
      "9988260152\n",
      "9988260230\n",
      "9988260254\n",
      "9988260230\n",
      "998826026\n",
      "9988260277\n",
      "9988260133\n",
      "9988260133\n",
      "9988260281\n",
      "9988260130\n",
      "9988260130\n",
      "9988260240\n",
      "9988260227\n",
      "9988260231\n",
      "9988260160\n",
      "9988260277\n",
      "9988260276\n",
      "9988260245\n",
      "9988260167\n",
      "9988260236\n",
      "998826021\n",
      "9988260275\n",
      "9988260126\n",
      "9988260246\n",
      "9988260144\n",
      "998826021\n",
      "9988260130\n",
      "9988260239\n",
      "9988260224\n",
      "9988260126\n",
      "9988260257\n",
      "9988260135\n"
     ]
    },
    {
     "name": "stderr",
     "output_type": "stream",
     "text": [
      " 97%|█████████▋| 12683/13062 [00:07<00:00, 1789.38it/s]"
     ]
    },
    {
     "name": "stdout",
     "output_type": "stream",
     "text": [
      "9988260255\n",
      "9988260259\n",
      "9988260269\n",
      "9988260239\n",
      "9988260240\n",
      "9988260242\n",
      "9988260251\n",
      "9988260257\n",
      "998826026\n",
      "998826022\n",
      "998826021\n",
      "998826013\n",
      "998826019\n",
      "9988260132\n",
      "9988260167\n",
      "9988260270\n",
      "9988260129\n",
      "9988260281\n",
      "9988260222\n",
      "9988260129\n",
      "9988260270\n",
      "9988260242\n",
      "9988260160\n",
      "9988260247\n",
      "998826024\n",
      "9988260248\n",
      "998826013\n",
      "9988260236\n",
      "9988260133\n",
      "9988260232\n"
     ]
    },
    {
     "name": "stderr",
     "output_type": "stream",
     "text": [
      "100%|██████████| 13062/13062 [00:07<00:00, 1741.53it/s]"
     ]
    },
    {
     "name": "stdout",
     "output_type": "stream",
     "text": [
      "998826014\n",
      "998826016\n",
      "9988260249\n",
      "9988260239\n",
      "9988260224\n",
      "998826022\n",
      "998826024\n",
      "9988260137\n",
      "9988260232\n",
      "9988260245\n",
      "998826023\n",
      "9988260245\n",
      "9988260264\n",
      "9988260215\n"
     ]
    },
    {
     "name": "stderr",
     "output_type": "stream",
     "text": [
      "\n"
     ]
    }
   ],
   "source": [
    "# Generator Parameters\n",
    "params = {'dim': (image_shape[0], image_shape[1]),\n",
    "          'batch_size': 64,\n",
    "          'n_classes': 4,\n",
    "          'n_channels': 3,\n",
    "          'shuffle': True}\n",
    "\n",
    "folder_path = './drive/MyDrive/Colab Notebooks/DAiSEE/'\n",
    "all_labels = pd.read_csv(os.path.join(folder_path, 'Labels/AllLabels.csv'))\n",
    "all_labels['ID_num'] = all_labels['ClipID'].str[:-4]\n",
    "\n",
    "train_labels = pd.read_csv(os.path.join(folder_path, 'Labels/TrainLabels.csv'))\n",
    "train_labels['ID_num'] = train_labels['ClipID'].str[:-4]\n",
    "\n",
    "test_labels = pd.read_csv(os.path.join(folder_path, 'Labels/TestLabels.csv'))\n",
    "test_labels['ID_num'] = test_labels['ClipID'].str[:-4]\n",
    "\n",
    "# Train Set\n",
    "file_labels = []\n",
    "print(\"building train set\")\n",
    "for filename in tqdm(os.listdir(local_train_path)):\n",
    "    try:\n",
    "        sample_ID = filename[:filename.index('-')]\n",
    "        label = all_labels[all_labels['ID_num']==sample_ID].values.tolist()[0][1:-1]\n",
    "        file_labels.append((filename, np.array(label)))\n",
    "    except IndexError:\n",
    "        print(sample_ID)\n",
    "\n",
    "label_arr = np.array(file_labels, dtype=object)\n",
    "X_train = label_arr[:, 0]\n",
    "y_train = label_arr[:, 1]\n",
    "\n",
    "# Test Set\n",
    "file_labels = []\n",
    "print(\"building test set\")\n",
    "for filename in tqdm(os.listdir(local_test_path)):\n",
    "    try:\n",
    "        sample_ID = filename[:filename.index('-')]\n",
    "        \n",
    "        label = test_labels[test_labels['ID_num']==sample_ID].values.tolist()[0][1:-1]\n",
    "        file_labels.append((filename, np.array(label)))\n",
    "    except IndexError:\n",
    "        print(sample_ID)\n",
    "\n",
    "label_arr = np.array(file_labels, dtype=object)\n",
    "X_test = label_arr[:, 0]\n",
    "y_test = label_arr[:, 1]"
   ]
  },
  {
   "cell_type": "code",
   "execution_count": 12,
   "metadata": {
    "colab": {
     "base_uri": "https://localhost:8080/"
    },
    "executionInfo": {
     "elapsed": 333,
     "status": "ok",
     "timestamp": 1649629256596,
     "user": {
      "displayName": "James Thiering",
      "userId": "02262056658604878482"
     },
     "user_tz": 360
    },
    "id": "DlwtmfYouyw2",
    "outputId": "ee87a350-4a88-4958-c421-374b13548d76"
   },
   "outputs": [
    {
     "data": {
      "text/plain": [
       "(12488,)"
      ]
     },
     "execution_count": 12,
     "metadata": {},
     "output_type": "execute_result"
    }
   ],
   "source": [
    "y_test.shape"
   ]
  },
  {
   "cell_type": "code",
   "execution_count": 13,
   "metadata": {
    "executionInfo": {
     "elapsed": 6,
     "status": "ok",
     "timestamp": 1649629256597,
     "user": {
      "displayName": "James Thiering",
      "userId": "02262056658604878482"
     },
     "user_tz": 360
    },
    "id": "IoXYxDuy1X65"
   },
   "outputs": [],
   "source": [
    "# Generators\n",
    "training_generator = DataGenerator(local_train_path, X_train, y_train, **params)\n",
    "validation_generator = DataGenerator(local_test_path, X_test, y_test, **params) "
   ]
  },
  {
   "cell_type": "code",
   "execution_count": 14,
   "metadata": {
    "executionInfo": {
     "elapsed": 6,
     "status": "ok",
     "timestamp": 1649629256597,
     "user": {
      "displayName": "James Thiering",
      "userId": "02262056658604878482"
     },
     "user_tz": 360
    },
    "id": "t6iQBFAtojoK"
   },
   "outputs": [],
   "source": [
    "'''\n",
    "class_weight = {0: 75.,\n",
    "                1: 10.,\n",
    "                2: 1.,\n",
    "                3: 1.}\n",
    "'''\n",
    "class_weight = {0: 1.,\n",
    "                1: 1.,\n",
    "                2: 1.,\n",
    "                3: 1.}"
   ]
  },
  {
   "cell_type": "code",
   "execution_count": 15,
   "metadata": {
    "executionInfo": {
     "elapsed": 5,
     "status": "ok",
     "timestamp": 1649629256597,
     "user": {
      "displayName": "James Thiering",
      "userId": "02262056658604878482"
     },
     "user_tz": 360
    },
    "id": "qtx0UybnC_Vz"
   },
   "outputs": [],
   "source": [
    "%reload_ext tensorboard\n",
    "model_path = os.path.join(folder_path, 'saved_models/model_' + datetime.datetime.now().strftime(\"%Y%m%d-%H%M%S\") + '_.sav')\n",
    "log_dir = os.path.join(folder_path, \"logs/fit/\" + datetime.datetime.now().strftime(\"%Y%m%d-%H%M%S\"))\n",
    "\n",
    "tensorboard_cbk = TensorBoard(log_dir=log_dir, histogram_freq=1)\n",
    "early_stopping_cbk = EarlyStopping(monitor='val_accuracy', patience=10, verbose=0, mode='min')\n",
    "mcp_save_cbk = ModelCheckpoint(model_path+'.mcp.hdf5', save_best_only=True, monitor='val_accuracy', mode='min')\n",
    "reduce_lr_plateau_cbk = ReduceLROnPlateau(monitor='val_loss', factor=0.1, patience=7, verbose=1, mode='min')\n",
    "callbacks = [early_stopping_cbk, mcp_save_cbk, reduce_lr_plateau_cbk, tensorboard_cbk]"
   ]
  },
  {
   "cell_type": "code",
   "execution_count": 16,
   "metadata": {
    "executionInfo": {
     "elapsed": 3,
     "status": "ok",
     "timestamp": 1649629256597,
     "user": {
      "displayName": "James Thiering",
      "userId": "02262056658604878482"
     },
     "user_tz": 360
    },
    "id": "iT--vGRHkJA6"
   },
   "outputs": [],
   "source": [
    "xception_tl_DAiSEE.compile(loss = 'categorical_crossentropy', optimizer='adam',\n",
    "                         metrics = ['cosine_similarity', 'mean_absolute_error', 'accuracy'])"
   ]
  },
  {
   "cell_type": "code",
   "execution_count": 17,
   "metadata": {
    "colab": {
     "base_uri": "https://localhost:8080/"
    },
    "executionInfo": {
     "elapsed": 7507208,
     "status": "ok",
     "timestamp": 1649636763802,
     "user": {
      "displayName": "James Thiering",
      "userId": "02262056658604878482"
     },
     "user_tz": 360
    },
    "id": "E162Dgb5tdCT",
    "outputId": "7da61639-52e9-4015-d25c-0ddc07105797"
   },
   "outputs": [
    {
     "name": "stdout",
     "output_type": "stream",
     "text": [
      "Epoch 1/50\n",
      "599/599 [==============================] - 279s 447ms/step - loss: 0.7986 - cosine_similarity: 0.7121 - mean_absolute_error: 0.2417 - accuracy: 0.6120 - val_loss: 0.8932 - val_cosine_similarity: 0.6644 - val_mean_absolute_error: 0.2644 - val_accuracy: 0.5256 - lr: 0.0010\n",
      "Epoch 2/50\n",
      "599/599 [==============================] - 273s 456ms/step - loss: 0.7502 - cosine_similarity: 0.7268 - mean_absolute_error: 0.2331 - accuracy: 0.6377 - val_loss: 0.8988 - val_cosine_similarity: 0.6740 - val_mean_absolute_error: 0.2779 - val_accuracy: 0.5480 - lr: 0.0010\n",
      "Epoch 3/50\n",
      "599/599 [==============================] - 273s 455ms/step - loss: 0.7279 - cosine_similarity: 0.7344 - mean_absolute_error: 0.2276 - accuracy: 0.6465 - val_loss: 0.8992 - val_cosine_similarity: 0.6747 - val_mean_absolute_error: 0.2620 - val_accuracy: 0.5356 - lr: 0.0010\n",
      "Epoch 4/50\n",
      "599/599 [==============================] - 273s 455ms/step - loss: 0.7106 - cosine_similarity: 0.7393 - mean_absolute_error: 0.2232 - accuracy: 0.6533 - val_loss: 0.9079 - val_cosine_similarity: 0.6747 - val_mean_absolute_error: 0.2707 - val_accuracy: 0.5256 - lr: 0.0010\n",
      "Epoch 5/50\n",
      "599/599 [==============================] - 272s 454ms/step - loss: 0.6902 - cosine_similarity: 0.7470 - mean_absolute_error: 0.2179 - accuracy: 0.6629 - val_loss: 0.9965 - val_cosine_similarity: 0.6391 - val_mean_absolute_error: 0.2726 - val_accuracy: 0.5058 - lr: 0.0010\n",
      "Epoch 6/50\n",
      "599/599 [==============================] - 273s 455ms/step - loss: 0.6772 - cosine_similarity: 0.7516 - mean_absolute_error: 0.2135 - accuracy: 0.6681 - val_loss: 0.9582 - val_cosine_similarity: 0.6577 - val_mean_absolute_error: 0.2790 - val_accuracy: 0.5343 - lr: 0.0010\n",
      "Epoch 7/50\n",
      "599/599 [==============================] - 273s 455ms/step - loss: 0.6613 - cosine_similarity: 0.7576 - mean_absolute_error: 0.2094 - accuracy: 0.6783 - val_loss: 0.9561 - val_cosine_similarity: 0.6682 - val_mean_absolute_error: 0.2645 - val_accuracy: 0.5480 - lr: 0.0010\n",
      "Epoch 8/50\n",
      "599/599 [==============================] - ETA: 0s - loss: 0.6450 - cosine_similarity: 0.7635 - mean_absolute_error: 0.2049 - accuracy: 0.6851\n",
      "Epoch 8: ReduceLROnPlateau reducing learning rate to 0.00010000000474974513.\n",
      "599/599 [==============================] - 271s 452ms/step - loss: 0.6450 - cosine_similarity: 0.7635 - mean_absolute_error: 0.2049 - accuracy: 0.6851 - val_loss: 0.9940 - val_cosine_similarity: 0.6464 - val_mean_absolute_error: 0.2721 - val_accuracy: 0.5143 - lr: 0.0010\n",
      "Epoch 9/50\n",
      "599/599 [==============================] - 272s 455ms/step - loss: 0.5976 - cosine_similarity: 0.7820 - mean_absolute_error: 0.1955 - accuracy: 0.7131 - val_loss: 1.0055 - val_cosine_similarity: 0.6446 - val_mean_absolute_error: 0.2717 - val_accuracy: 0.5163 - lr: 1.0000e-04\n",
      "Epoch 10/50\n",
      "599/599 [==============================] - 272s 455ms/step - loss: 0.5868 - cosine_similarity: 0.7861 - mean_absolute_error: 0.1923 - accuracy: 0.7171 - val_loss: 1.0142 - val_cosine_similarity: 0.6435 - val_mean_absolute_error: 0.2691 - val_accuracy: 0.5220 - lr: 1.0000e-04\n",
      "Epoch 11/50\n",
      "599/599 [==============================] - 271s 453ms/step - loss: 0.5801 - cosine_similarity: 0.7888 - mean_absolute_error: 0.1904 - accuracy: 0.7214 - val_loss: 1.0288 - val_cosine_similarity: 0.6359 - val_mean_absolute_error: 0.2725 - val_accuracy: 0.5023 - lr: 1.0000e-04\n",
      "Epoch 12/50\n",
      "599/599 [==============================] - 272s 454ms/step - loss: 0.5745 - cosine_similarity: 0.7907 - mean_absolute_error: 0.1891 - accuracy: 0.7238 - val_loss: 1.0551 - val_cosine_similarity: 0.6277 - val_mean_absolute_error: 0.2713 - val_accuracy: 0.5042 - lr: 1.0000e-04\n",
      "Epoch 13/50\n",
      "599/599 [==============================] - 274s 457ms/step - loss: 0.5704 - cosine_similarity: 0.7921 - mean_absolute_error: 0.1876 - accuracy: 0.7253 - val_loss: 1.0637 - val_cosine_similarity: 0.6231 - val_mean_absolute_error: 0.2753 - val_accuracy: 0.4946 - lr: 1.0000e-04\n",
      "Epoch 14/50\n",
      "599/599 [==============================] - 272s 455ms/step - loss: 0.5657 - cosine_similarity: 0.7941 - mean_absolute_error: 0.1865 - accuracy: 0.7285 - val_loss: 1.0619 - val_cosine_similarity: 0.6262 - val_mean_absolute_error: 0.2730 - val_accuracy: 0.5002 - lr: 1.0000e-04\n",
      "Epoch 15/50\n",
      "599/599 [==============================] - ETA: 0s - loss: 0.5610 - cosine_similarity: 0.7960 - mean_absolute_error: 0.1850 - accuracy: 0.7315\n",
      "Epoch 15: ReduceLROnPlateau reducing learning rate to 1.0000000474974514e-05.\n",
      "599/599 [==============================] - 275s 459ms/step - loss: 0.5610 - cosine_similarity: 0.7960 - mean_absolute_error: 0.1850 - accuracy: 0.7315 - val_loss: 1.0681 - val_cosine_similarity: 0.6229 - val_mean_absolute_error: 0.2746 - val_accuracy: 0.4849 - lr: 1.0000e-04\n",
      "Epoch 16/50\n",
      "599/599 [==============================] - 272s 454ms/step - loss: 0.5533 - cosine_similarity: 0.7992 - mean_absolute_error: 0.1834 - accuracy: 0.7355 - val_loss: 1.0727 - val_cosine_similarity: 0.6226 - val_mean_absolute_error: 0.2737 - val_accuracy: 0.4882 - lr: 1.0000e-05\n",
      "Epoch 17/50\n",
      "599/599 [==============================] - 270s 450ms/step - loss: 0.5516 - cosine_similarity: 0.7999 - mean_absolute_error: 0.1829 - accuracy: 0.7367 - val_loss: 1.0746 - val_cosine_similarity: 0.6225 - val_mean_absolute_error: 0.2732 - val_accuracy: 0.4888 - lr: 1.0000e-05\n",
      "Epoch 18/50\n",
      "599/599 [==============================] - 272s 455ms/step - loss: 0.5508 - cosine_similarity: 0.8002 - mean_absolute_error: 0.1828 - accuracy: 0.7373 - val_loss: 1.0781 - val_cosine_similarity: 0.6212 - val_mean_absolute_error: 0.2736 - val_accuracy: 0.4881 - lr: 1.0000e-05\n",
      "Epoch 19/50\n",
      "599/599 [==============================] - 272s 454ms/step - loss: 0.5503 - cosine_similarity: 0.8004 - mean_absolute_error: 0.1825 - accuracy: 0.7380 - val_loss: 1.0814 - val_cosine_similarity: 0.6198 - val_mean_absolute_error: 0.2742 - val_accuracy: 0.4872 - lr: 1.0000e-05\n",
      "Epoch 20/50\n",
      "599/599 [==============================] - 271s 453ms/step - loss: 0.5497 - cosine_similarity: 0.8006 - mean_absolute_error: 0.1825 - accuracy: 0.7387 - val_loss: 1.0802 - val_cosine_similarity: 0.6211 - val_mean_absolute_error: 0.2734 - val_accuracy: 0.4885 - lr: 1.0000e-05\n",
      "Epoch 21/50\n",
      "599/599 [==============================] - 272s 454ms/step - loss: 0.5492 - cosine_similarity: 0.8008 - mean_absolute_error: 0.1823 - accuracy: 0.7387 - val_loss: 1.0878 - val_cosine_similarity: 0.6182 - val_mean_absolute_error: 0.2742 - val_accuracy: 0.4868 - lr: 1.0000e-05\n",
      "Epoch 22/50\n",
      "599/599 [==============================] - ETA: 0s - loss: 0.5486 - cosine_similarity: 0.8010 - mean_absolute_error: 0.1821 - accuracy: 0.7389\n",
      "Epoch 22: ReduceLROnPlateau reducing learning rate to 1.0000000656873453e-06.\n",
      "599/599 [==============================] - 272s 454ms/step - loss: 0.5486 - cosine_similarity: 0.8010 - mean_absolute_error: 0.1821 - accuracy: 0.7389 - val_loss: 1.0848 - val_cosine_similarity: 0.6196 - val_mean_absolute_error: 0.2737 - val_accuracy: 0.4881 - lr: 1.0000e-05\n",
      "Epoch 23/50\n",
      "599/599 [==============================] - 272s 454ms/step - loss: 0.5475 - cosine_similarity: 0.8015 - mean_absolute_error: 0.1818 - accuracy: 0.7390 - val_loss: 1.0846 - val_cosine_similarity: 0.6196 - val_mean_absolute_error: 0.2737 - val_accuracy: 0.4880 - lr: 1.0000e-06\n",
      "Epoch 24/50\n",
      "599/599 [==============================] - 273s 455ms/step - loss: 0.5475 - cosine_similarity: 0.8015 - mean_absolute_error: 0.1818 - accuracy: 0.7393 - val_loss: 1.0851 - val_cosine_similarity: 0.6196 - val_mean_absolute_error: 0.2736 - val_accuracy: 0.4877 - lr: 1.0000e-06\n",
      "Epoch 25/50\n",
      "599/599 [==============================] - 272s 454ms/step - loss: 0.5474 - cosine_similarity: 0.8016 - mean_absolute_error: 0.1818 - accuracy: 0.7392 - val_loss: 1.0848 - val_cosine_similarity: 0.6196 - val_mean_absolute_error: 0.2737 - val_accuracy: 0.4877 - lr: 1.0000e-06\n"
     ]
    }
   ],
   "source": [
    "history = xception_tl_DAiSEE.fit(training_generator, validation_data=validation_generator, class_weight=class_weight, batch_size=64, epochs=50, callbacks=callbacks)"
   ]
  },
  {
   "cell_type": "markdown",
   "metadata": {
    "id": "iUL2wYS9uzQT"
   },
   "source": [
    "# END"
   ]
  }
 ],
 "metadata": {
  "accelerator": "GPU",
  "colab": {
   "authorship_tag": "ABX9TyOXufI0XoTCHj+Nsq6ExRpc",
   "collapsed_sections": [],
   "name": "DAiSEE_train_engagement_only.ipynb",
   "provenance": []
  },
  "kernelspec": {
   "display_name": "Python 3 (ipykernel)",
   "language": "python",
   "name": "python3"
  },
  "language_info": {
   "codemirror_mode": {
    "name": "ipython",
    "version": 3
   },
   "file_extension": ".py",
   "mimetype": "text/x-python",
   "name": "python",
   "nbconvert_exporter": "python",
   "pygments_lexer": "ipython3",
   "version": "3.10.12"
  }
 },
 "nbformat": 4,
 "nbformat_minor": 4
}
