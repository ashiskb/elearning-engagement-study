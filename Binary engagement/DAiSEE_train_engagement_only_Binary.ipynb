{
 "cells": [
  {
   "cell_type": "code",
   "execution_count": 62,
   "metadata": {
    "executionInfo": {
     "elapsed": 295,
     "status": "ok",
     "timestamp": 1651203864033,
     "user": {
      "displayName": "James Thiering",
      "userId": "02262056658604878482"
     },
     "user_tz": 360
    },
    "id": "VOMh4LFxDbL2"
   },
   "outputs": [],
   "source": [
    "# === Imports === #\n",
    "\n",
    "import tensorflow as tf\n",
    "from tensorflow.keras.models import load_model\n",
    "\n",
    "from tqdm import tqdm\n",
    "\n",
    "# Various python packages are used in this notebook. Please get yourself used to them (optional).\n",
    "import pandas as pd  # used for storing a tabular representation of the dataset, similar to XLS files.\n",
    "from pathlib import Path # used to check if the saved model files and accessories.\n",
    "import requests #used to request remote judge.csv evaluation \n",
    "from sklearn.preprocessing import StandardScaler  # used for normalization of dataset\n",
    "from sklearn.preprocessing   import LabelBinarizer    # used for splitting the gender column\n",
    "from sklearn.preprocessing   import MinMaxScaler      # used for normalization of dataset\n",
    "from sklearn.model_selection import train_test_split  # used for performing the train-test split of a dataframe\n",
    "import cv2                                            # OpenCV used for image processing\n",
    "import random   #random number generator\n",
    "import datetime #used to get current date/time\n",
    "import math     #math/numerical functions\n",
    "import os       #os specific functions, like file open/close etc.\n",
    "import gc       #garbage collection module -- used to manually clean up memory spaces/references.\n",
    "\n",
    "\n",
    "from sklearn.preprocessing import OneHotEncoder   #My favorite categorical to numerical feature conversion tool\n",
    "from tensorflow import keras  # keras used for construction of the Artificial neural network\n",
    "from keras.models import Model, Sequential #keras model architectures\n",
    "from keras.layers import Conv2D, MaxPool2D, Dense, Flatten, Dropout, BatchNormalization, GlobalAveragePooling2D #types of layers\n",
    "from keras.losses import mean_squared_error, huber, log_cosh  #built-in loss \n",
    "from tensorflow.python.keras.saving import hdf5_format  #used for saving models \n",
    "from keras.callbacks import EarlyStopping, ModelCheckpoint, ReduceLROnPlateau, TensorBoard  #callbacks\n",
    "from keras.models import model_from_json  #used for loading model architecture from json file\n",
    "import h5py  #saved model type\n",
    "\n",
    "import matplotlib.pyplot as plt  # used for training visualization\n",
    "import numpy as np  # numpy arrays used for matrix computations\n",
    "\n",
    "# === Extra Configurations for the GPU Environment === #\n",
    "import tensorflow as tf\n",
    "physical_devices = tf.config.list_physical_devices('GPU') \n",
    "if len(physical_devices)>0: #If you have at least one \"configured\" GPU, let's use it; otherwise, pass\n",
    "    tf.config.experimental.set_memory_growth(physical_devices[0], True)\n",
    "\n",
    "# https://github.com/zaid478/Transfer-Learning-from-Xception-Model-in-Keras-/blob/master/transfer_learn.py\n",
    "\n",
    "from keras.applications import xception\n",
    "from keras import backend as K\n",
    "from keras.utils import np_utils\n",
    "\n",
    "from tensorflow.keras.optimizers import RMSprop\n",
    "from tensorflow.keras.losses import SparseCategoricalCrossentropy\n",
    "from tensorflow.keras.callbacks import EarlyStopping, TensorBoard"
   ]
  },
  {
   "cell_type": "code",
   "execution_count": 63,
   "metadata": {
    "colab": {
     "base_uri": "https://localhost:8080/"
    },
    "executionInfo": {
     "elapsed": 813,
     "status": "ok",
     "timestamp": 1651203865327,
     "user": {
      "displayName": "James Thiering",
      "userId": "02262056658604878482"
     },
     "user_tz": 360
    },
    "id": "D21GsWN-CCy9",
    "outputId": "db337e4c-bfee-45de-aaa7-7fb5c94e2aa3"
   },
   "outputs": [
    {
     "name": "stdout",
     "output_type": "stream",
     "text": [
      "Running on Google colab...\n",
      "Drive already mounted at /content/drive; to attempt to forcibly remount, call drive.mount(\"/content/drive\", force_remount=True).\n"
     ]
    }
   ],
   "source": [
    "\"\"\"\n",
    "Setting work environment with dataset. If on Google colaboratory, we need to extract dataset stored in google drive,\n",
    "otherwise the dataset is already there.\n",
    "\"\"\"\n",
    "try:\n",
    "    from google.colab import drive\n",
    "    print('Running on Google colab...')\n",
    "    drive.mount('/content/drive')\n",
    "except:\n",
    "    print('Running on local machine...')"
   ]
  },
  {
   "cell_type": "markdown",
   "metadata": {
    "id": "hs5sRWTO9OyD"
   },
   "source": [
    "# IMPORTANT VARIABLES"
   ]
  },
  {
   "cell_type": "code",
   "execution_count": 64,
   "metadata": {
    "executionInfo": {
     "elapsed": 3,
     "status": "ok",
     "timestamp": 1651203865328,
     "user": {
      "displayName": "James Thiering",
      "userId": "02262056658604878482"
     },
     "user_tz": 360
    },
    "id": "gN52UDNE9OkO"
   },
   "outputs": [],
   "source": [
    "train_path = 'drive/MyDrive/Colab Notebooks/DAiSEE/gen-full-4/Train/'\n",
    "test_path = 'drive/MyDrive/Colab Notebooks/DAiSEE/gen-full-4/Test/'\n",
    "\n",
    "image_shape = (224, 299, 3) # HEIGHT, WIDTH, CHANNELS"
   ]
  },
  {
   "cell_type": "markdown",
   "metadata": {
    "id": "iOqN6MfCHilD"
   },
   "source": [
    "# Train a new Xception model"
   ]
  },
  {
   "cell_type": "code",
   "execution_count": 65,
   "metadata": {
    "executionInfo": {
     "elapsed": 1610,
     "status": "ok",
     "timestamp": 1651203866936,
     "user": {
      "displayName": "James Thiering",
      "userId": "02262056658604878482"
     },
     "user_tz": 360
    },
    "id": "agbrvwtvHlck"
   },
   "outputs": [],
   "source": [
    "xception_tl = tf.keras.applications.Xception(\n",
    "    include_top=False,\n",
    "    weights=\"imagenet\",\n",
    "    input_tensor=None,\n",
    "    input_shape=image_shape,\n",
    "    pooling=None,\n",
    "    classes=2,\n",
    "    classifier_activation=\"softmax\",\n",
    ")"
   ]
  },
  {
   "cell_type": "code",
   "execution_count": 66,
   "metadata": {
    "executionInfo": {
     "elapsed": 8,
     "status": "ok",
     "timestamp": 1651203866936,
     "user": {
      "displayName": "James Thiering",
      "userId": "02262056658604878482"
     },
     "user_tz": 360
    },
    "id": "vLcjutnAH9ys"
   },
   "outputs": [],
   "source": [
    "for layer in xception_tl.layers:\n",
    "\tlayer.trainable=False"
   ]
  },
  {
   "cell_type": "code",
   "execution_count": 67,
   "metadata": {
    "executionInfo": {
     "elapsed": 9,
     "status": "ok",
     "timestamp": 1651203866937,
     "user": {
      "displayName": "James Thiering",
      "userId": "02262056658604878482"
     },
     "user_tz": 360
    },
    "id": "LvUg3bslEvab"
   },
   "outputs": [],
   "source": [
    "x = xception_tl.output\n",
    "x = GlobalAveragePooling2D()(x)\n",
    "x = Dense(1024, activation='relu', name='learning_layer')(x)\n",
    "y1 = Dense(2, activation='softmax', name='y1')(x)\n",
    "\n",
    "xception_tl_DAiSEE=Model(xception_tl.input, y1)"
   ]
  },
  {
   "cell_type": "code",
   "execution_count": 68,
   "metadata": {
    "colab": {
     "base_uri": "https://localhost:8080/"
    },
    "executionInfo": {
     "elapsed": 8,
     "status": "ok",
     "timestamp": 1651203866937,
     "user": {
      "displayName": "James Thiering",
      "userId": "02262056658604878482"
     },
     "user_tz": 360
    },
    "id": "zOsBUKv5KlJe",
    "outputId": "dddd3787-386e-4729-b785-167be218208a"
   },
   "outputs": [
    {
     "data": {
      "text/plain": [
       "<KerasTensor: shape=(None, 2) dtype=float32 (created by layer 'y1')>"
      ]
     },
     "execution_count": 68,
     "metadata": {},
     "output_type": "execute_result"
    }
   ],
   "source": [
    "xception_tl_DAiSEE.output"
   ]
  },
  {
   "cell_type": "markdown",
   "metadata": {
    "id": "SHtOo-WqSWVy"
   },
   "source": [
    "https://stanford.edu/~shervine/blog/keras-how-to-generate-data-on-the-fly"
   ]
  },
  {
   "cell_type": "code",
   "execution_count": 69,
   "metadata": {
    "executionInfo": {
     "elapsed": 7,
     "status": "ok",
     "timestamp": 1651203866937,
     "user": {
      "displayName": "James Thiering",
      "userId": "02262056658604878482"
     },
     "user_tz": 360
    },
    "id": "PYUPtMD2tpbx"
   },
   "outputs": [],
   "source": [
    "class DataGenerator(tf.keras.utils.Sequence):\n",
    "    'Generates data for Keras'\n",
    "    def __init__(self, path, list_IDs, labels, batch_size=32, dim=(480,640), n_channels=3,\n",
    "                 n_classes=4, shuffle=True):\n",
    "        self.dim = dim\n",
    "        self.batch_size = batch_size\n",
    "        self.labels = labels\n",
    "        self.list_IDs = list_IDs\n",
    "        self.path = path\n",
    "        self.n_channels = n_channels\n",
    "        self.n_classes = n_classes\n",
    "        self.shuffle = shuffle\n",
    "        self.on_epoch_end()\n",
    "\n",
    "    def __len__(self):\n",
    "        'Denotes the number of batches per epoch'\n",
    "        return int(np.floor(len(self.list_IDs) / self.batch_size))\n",
    "\n",
    "    def __getitem__(self, index):\n",
    "        'Generate one batch of data'\n",
    "        # Generate indexes of the batch\n",
    "        indexes = self.indexes[index*self.batch_size:(index+1)*self.batch_size]\n",
    "\n",
    "        # Find list of IDs\n",
    "        list_IDs_temp = [self.list_IDs[k] for k in indexes]\n",
    "\n",
    "        # Generate data\n",
    "        X, y = self.__data_generation(indexes)\n",
    "\n",
    "        return X, y\n",
    "\n",
    "    def on_epoch_end(self):\n",
    "        'Updates indexes after each epoch'\n",
    "        self.indexes = np.arange(len(self.list_IDs))\n",
    "        if self.shuffle == True:\n",
    "            np.random.shuffle(self.indexes)\n",
    "\n",
    "    def __data_generation(self, list_IDs_temp):\n",
    "        'Generates data containing batch_size samples' # X : (n_samples, *dim, n_channels)\n",
    "        # Initialization\n",
    "        X = np.empty((self.batch_size, *self.dim, self.n_channels))\n",
    "        y = np.empty((self.batch_size, self.n_classes), dtype='float32')\n",
    "\n",
    "        # Generate data\n",
    "        for i, ID in enumerate(list_IDs_temp):\n",
    "            filename = os.path.join(self.path, self.list_IDs[ID])\n",
    "            x = cv2.imread(filename)\n",
    "            X[i,] = tf.keras.applications.xception.preprocess_input(x)\n",
    "            #y[i,:] = tf.one_hot(self.labels[ID][1], depth=4)\n",
    "            y[i,:] = tf.one_hot(self.labels[ID][1]>=2, depth=2) # binary classification\n",
    "\n",
    "        return X, tf.convert_to_tensor(y)"
   ]
  },
  {
   "cell_type": "code",
   "execution_count": 70,
   "metadata": {
    "colab": {
     "base_uri": "https://localhost:8080/",
     "height": 35
    },
    "executionInfo": {
     "elapsed": 8,
     "status": "ok",
     "timestamp": 1651203866938,
     "user": {
      "displayName": "James Thiering",
      "userId": "02262056658604878482"
     },
     "user_tz": 360
    },
    "id": "H0VCE0X8MMuR",
    "outputId": "db7bc3c9-4a6a-492b-cac8-e57b7731eee3"
   },
   "outputs": [
    {
     "data": {
      "application/vnd.google.colaboratory.intrinsic+json": {
       "type": "string"
      },
      "text/plain": [
       "'\\nimport numpy as np\\ny = [3, 2, 1, 2, 3, 1, 0, 0 ,1]\\ny = [1 if  i>=2 else 0 for i in y]\\nprint(y)\\n'"
      ]
     },
     "execution_count": 70,
     "metadata": {},
     "output_type": "execute_result"
    }
   ],
   "source": [
    "'''\n",
    "import numpy as np\n",
    "y = [3, 2, 1, 2, 3, 1, 0, 0 ,1]\n",
    "y = [1 if  i>=2 else 0 for i in y]\n",
    "print(y)\n",
    "'''"
   ]
  },
  {
   "cell_type": "code",
   "execution_count": 71,
   "metadata": {
    "executionInfo": {
     "elapsed": 24765,
     "status": "ok",
     "timestamp": 1651203891697,
     "user": {
      "displayName": "James Thiering",
      "userId": "02262056658604878482"
     },
     "user_tz": 360
    },
    "id": "mhUsmnieU-_A"
   },
   "outputs": [],
   "source": [
    "'''\n",
    "Alternative method for loading the dataset via tar file\n",
    "'''\n",
    "\n",
    "import os\n",
    "import shutil\n",
    "import tarfile\n",
    "\n",
    "tar_name = 'gen-full-4.tar'\n",
    "tar_path = 'drive/MyDrive/Colab Notebooks/DAiSEE/' + tar_name\n",
    "\n",
    "temp_data_location = 'temp_data'\n",
    "\n",
    "if temp_data_location in os.listdir(os.getcwd()):\n",
    "    shutil.rmtree(temp_data_location)\n",
    "\n",
    "os.mkdir(temp_data_location)\n",
    "\n",
    "shutil.copyfile(tar_path, os.path.join('/content/', tar_name)) \n",
    "\n",
    "tar = tarfile.open(os.path.join('/content/', tar_name)) \n",
    "tar.extractall(path=temp_data_location)\n",
    "tar.close()\n"
   ]
  },
  {
   "cell_type": "code",
   "execution_count": 72,
   "metadata": {
    "executionInfo": {
     "elapsed": 7,
     "status": "ok",
     "timestamp": 1651203891697,
     "user": {
      "displayName": "James Thiering",
      "userId": "02262056658604878482"
     },
     "user_tz": 360
    },
    "id": "wj7c82FXehQl"
   },
   "outputs": [],
   "source": [
    "local_train_path = os.path.join(temp_data_location, 'Train')\n",
    "local_test_path = os.path.join(temp_data_location, 'Test') "
   ]
  },
  {
   "cell_type": "code",
   "execution_count": 73,
   "metadata": {
    "executionInfo": {
     "elapsed": 7,
     "status": "ok",
     "timestamp": 1651203891697,
     "user": {
      "displayName": "James Thiering",
      "userId": "02262056658604878482"
     },
     "user_tz": 360
    },
    "id": "5EQpJ474dg54"
   },
   "outputs": [],
   "source": [
    "#shutil.copyfile(tar_path, os.path.join('/content/', tar_name)) "
   ]
  },
  {
   "cell_type": "code",
   "execution_count": 74,
   "metadata": {
    "colab": {
     "base_uri": "https://localhost:8080/",
     "height": 70
    },
    "executionInfo": {
     "elapsed": 7,
     "status": "ok",
     "timestamp": 1651203891698,
     "user": {
      "displayName": "James Thiering",
      "userId": "02262056658604878482"
     },
     "user_tz": 360
    },
    "id": "3Qns-HBP6pun",
    "outputId": "c540c167-e689-4c53-a3d6-c35a7139e1bf"
   },
   "outputs": [
    {
     "data": {
      "application/vnd.google.colaboratory.intrinsic+json": {
       "type": "string"
      },
      "text/plain": [
       "\"\\n\\nimport os\\nimport shutil\\n#os.getcwd()\\n\\ntemp_data_location = 'temp_data'\\n\\nif temp_data_location in os.listdir(os.getcwd()):\\n    shutil.rmtree(temp_data_location)\\n\\nos.mkdir(temp_data_location)\\n\\n#assert temp_data_location not in os.listdir(os.getcwd())\\n\\n\\nlocal_train_path = os.path.join(temp_data_location, 'Train')\\nlocal_test_path = os.path.join(temp_data_location, 'Test') \\n\\n# Copytree makes the folders\\n#os.mkdir(local_train_path)\\n#os.mkdir(local_test_path)\\n\\nshutil.copytree(train_path, local_train_path) \\nshutil.copytree(test_path, local_test_path)\\n\""
      ]
     },
     "execution_count": 74,
     "metadata": {},
     "output_type": "execute_result"
    }
   ],
   "source": [
    "'''\n",
    "\n",
    "import os\n",
    "import shutil\n",
    "#os.getcwd()\n",
    "\n",
    "temp_data_location = 'temp_data'\n",
    "\n",
    "if temp_data_location in os.listdir(os.getcwd()):\n",
    "    shutil.rmtree(temp_data_location)\n",
    "\n",
    "os.mkdir(temp_data_location)\n",
    "\n",
    "#assert temp_data_location not in os.listdir(os.getcwd())\n",
    "\n",
    "\n",
    "local_train_path = os.path.join(temp_data_location, 'Train')\n",
    "local_test_path = os.path.join(temp_data_location, 'Test') \n",
    "\n",
    "# Copytree makes the folders\n",
    "#os.mkdir(local_train_path)\n",
    "#os.mkdir(local_test_path)\n",
    "\n",
    "shutil.copytree(train_path, local_train_path) \n",
    "shutil.copytree(test_path, local_test_path)\n",
    "'''"
   ]
  },
  {
   "cell_type": "code",
   "execution_count": 75,
   "metadata": {
    "executionInfo": {
     "elapsed": 5,
     "status": "ok",
     "timestamp": 1651203891698,
     "user": {
      "displayName": "James Thiering",
      "userId": "02262056658604878482"
     },
     "user_tz": 360
    },
    "id": "hMIJ-88Far-h"
   },
   "outputs": [],
   "source": [
    "# temp solution\n",
    "#shutil.copytree(local_train_path, local_test_path)"
   ]
  },
  {
   "cell_type": "code",
   "execution_count": 76,
   "metadata": {
    "colab": {
     "base_uri": "https://localhost:8080/"
    },
    "executionInfo": {
     "elapsed": 58665,
     "status": "ok",
     "timestamp": 1651203950358,
     "user": {
      "displayName": "James Thiering",
      "userId": "02262056658604878482"
     },
     "user_tz": 360
    },
    "id": "8R8qKEZUtmTx",
    "outputId": "29433af5-5d07-4955-82af-d32ad0e492d8"
   },
   "outputs": [
    {
     "name": "stdout",
     "output_type": "stream",
     "text": [
      "building train set\n"
     ]
    },
    {
     "name": "stderr",
     "output_type": "stream",
     "text": [
      "100%|██████████| 38374/38374 [00:43<00:00, 881.65it/s]\n"
     ]
    },
    {
     "name": "stdout",
     "output_type": "stream",
     "text": [
      "building test set\n"
     ]
    },
    {
     "name": "stderr",
     "output_type": "stream",
     "text": [
      "100%|██████████| 13062/13062 [00:14<00:00, 882.01it/s]\n"
     ]
    }
   ],
   "source": [
    "# Generator Parameters\n",
    "params = {'dim': (image_shape[0], image_shape[1]),\n",
    "          'batch_size': 64,\n",
    "          'n_classes': 2,\n",
    "          'n_channels': 3,\n",
    "          'shuffle': True}\n",
    "\n",
    "folder_path = './drive/MyDrive/Colab Notebooks/DAiSEE/'\n",
    "all_labels = pd.read_csv(os.path.join(folder_path, 'Labels/AllLabels.csv'))\n",
    "all_labels['ID_num'] = all_labels['ClipID'].str[:-4]\n",
    "\n",
    "train_labels = pd.read_csv(os.path.join(folder_path, 'Labels/TrainLabels.csv'))\n",
    "train_labels['ID_num'] = train_labels['ClipID'].str[:-4]\n",
    "\n",
    "test_labels = pd.read_csv(os.path.join(folder_path, 'Labels/TestLabels.csv'))\n",
    "test_labels['ID_num'] = test_labels['ClipID'].str[:-4]\n",
    "\n",
    "# Train Set\n",
    "file_labels = []\n",
    "print(\"building train set\")\n",
    "for filename in tqdm(os.listdir(local_train_path)):\n",
    "    try:\n",
    "        sample_ID = filename[:filename.index('-')]\n",
    "        label = all_labels[all_labels['ID_num']==sample_ID].values.tolist()[0][1:-1]\n",
    "        file_labels.append((filename, np.array(label)))\n",
    "    except IndexError:\n",
    "        #print(sample_ID)\n",
    "        pass\n",
    "\n",
    "label_arr = np.array(file_labels, dtype=object)\n",
    "X_train = label_arr[:, 0]\n",
    "y_train = label_arr[:, 1]\n",
    "\n",
    "# Test Set\n",
    "file_labels = []\n",
    "print(\"building test set\")\n",
    "for filename in tqdm(os.listdir(local_test_path)):\n",
    "    try:\n",
    "        sample_ID = filename[:filename.index('-')]\n",
    "        label = all_labels[all_labels['ID_num']==sample_ID].values.tolist()[0][1:-1]\n",
    "        #label = test_labels[test_labels['ID_num']==sample_ID].values.tolist()[0][1:-1]\n",
    "        file_labels.append((filename, np.array(label)))\n",
    "    except IndexError:\n",
    "        #print(sample_ID)\n",
    "        pass\n",
    "\n",
    "label_arr = np.array(file_labels, dtype=object)\n",
    "X_test = label_arr[:, 0]\n",
    "y_test = label_arr[:, 1]"
   ]
  },
  {
   "cell_type": "code",
   "execution_count": 77,
   "metadata": {
    "colab": {
     "base_uri": "https://localhost:8080/"
    },
    "executionInfo": {
     "elapsed": 8,
     "status": "ok",
     "timestamp": 1651203950358,
     "user": {
      "displayName": "James Thiering",
      "userId": "02262056658604878482"
     },
     "user_tz": 360
    },
    "id": "dKfezxxbbLi9",
    "outputId": "1eebc7eb-73ba-4dde-a0f9-5b37ad0cc50d"
   },
   "outputs": [
    {
     "data": {
      "text/plain": [
       "array([array([0, 3, 0, 0]), array([2, 2, 1, 1]), array([1, 2, 0, 0]), ...,\n",
       "       array([2, 2, 0, 1]), array([1, 1, 0, 0]), array([0, 3, 0, 0])],\n",
       "      dtype=object)"
      ]
     },
     "execution_count": 77,
     "metadata": {},
     "output_type": "execute_result"
    }
   ],
   "source": [
    "y_test"
   ]
  },
  {
   "cell_type": "code",
   "execution_count": 78,
   "metadata": {
    "colab": {
     "base_uri": "https://localhost:8080/"
    },
    "executionInfo": {
     "elapsed": 6,
     "status": "ok",
     "timestamp": 1651203950359,
     "user": {
      "displayName": "James Thiering",
      "userId": "02262056658604878482"
     },
     "user_tz": 360
    },
    "id": "DlwtmfYouyw2",
    "outputId": "194bb1a0-4c0d-4b63-9107-9d80bbd02157"
   },
   "outputs": [
    {
     "data": {
      "text/plain": [
       "(12061,)"
      ]
     },
     "execution_count": 78,
     "metadata": {},
     "output_type": "execute_result"
    }
   ],
   "source": [
    "y_test.shape"
   ]
  },
  {
   "cell_type": "code",
   "execution_count": 79,
   "metadata": {
    "executionInfo": {
     "elapsed": 5,
     "status": "ok",
     "timestamp": 1651203950359,
     "user": {
      "displayName": "James Thiering",
      "userId": "02262056658604878482"
     },
     "user_tz": 360
    },
    "id": "IoXYxDuy1X65"
   },
   "outputs": [],
   "source": [
    "# Generators\n",
    "training_generator = DataGenerator(local_train_path, X_train, y_train, **params)\n",
    "validation_generator = DataGenerator(local_test_path, X_test, y_test, **params) "
   ]
  },
  {
   "cell_type": "code",
   "execution_count": 80,
   "metadata": {
    "executionInfo": {
     "elapsed": 5,
     "status": "ok",
     "timestamp": 1651203950359,
     "user": {
      "displayName": "James Thiering",
      "userId": "02262056658604878482"
     },
     "user_tz": 360
    },
    "id": "t6iQBFAtojoK"
   },
   "outputs": [],
   "source": [
    "'''\n",
    "class_weight = {0: 75.,\n",
    "                1: 10.,\n",
    "                2: 1.,\n",
    "                3: 1.}\n",
    "\n",
    "class_weight = {0: 1.,\n",
    "                1: 1.,\n",
    "                2: 1.,\n",
    "                3: 1.}\n",
    "'''\n",
    "\n",
    "#class_weight = {0: 2., 1: 1.}\n",
    "class_weight = {0: 1., 1: 1.}"
   ]
  },
  {
   "cell_type": "code",
   "execution_count": 81,
   "metadata": {
    "executionInfo": {
     "elapsed": 5,
     "status": "ok",
     "timestamp": 1651203950359,
     "user": {
      "displayName": "James Thiering",
      "userId": "02262056658604878482"
     },
     "user_tz": 360
    },
    "id": "qtx0UybnC_Vz"
   },
   "outputs": [],
   "source": [
    "%reload_ext tensorboard\n",
    "model_path = os.path.join(folder_path, 'saved_models/model_' + datetime.datetime.now().strftime(\"%Y%m%d-%H%M%S\") + '_.sav')\n",
    "log_dir = os.path.join(folder_path, \"logs/fit/\" + datetime.datetime.now().strftime(\"%Y%m%d-%H%M%S\"))\n",
    "\n",
    "tensorboard_cbk = TensorBoard(log_dir=log_dir, histogram_freq=1)\n",
    "early_stopping_cbk = EarlyStopping(monitor='val_accuracy', patience=10, verbose=0, mode='min')\n",
    "mcp_save_cbk = ModelCheckpoint(model_path+'.mcp.hdf5', save_best_only=True, monitor='val_accuracy', mode='min')\n",
    "reduce_lr_plateau_cbk = ReduceLROnPlateau(monitor='val_loss', factor=0.1, patience=7, verbose=1, mode='min')\n",
    "#callbacks = [early_stopping_cbk, mcp_save_cbk, reduce_lr_plateau_cbk, tensorboard_cbk]\n",
    "callbacks = [mcp_save_cbk, reduce_lr_plateau_cbk, tensorboard_cbk]"
   ]
  },
  {
   "cell_type": "code",
   "execution_count": 82,
   "metadata": {
    "executionInfo": {
     "elapsed": 6,
     "status": "ok",
     "timestamp": 1651203950360,
     "user": {
      "displayName": "James Thiering",
      "userId": "02262056658604878482"
     },
     "user_tz": 360
    },
    "id": "iT--vGRHkJA6"
   },
   "outputs": [],
   "source": [
    "xception_tl_DAiSEE.compile(loss = 'binary_crossentropy', optimizer='adam',\n",
    "                         metrics = ['cosine_similarity', 'mean_absolute_error', 'accuracy'])"
   ]
  },
  {
   "cell_type": "code",
   "execution_count": 83,
   "metadata": {
    "colab": {
     "base_uri": "https://localhost:8080/"
    },
    "executionInfo": {
     "elapsed": 15906637,
     "status": "ok",
     "timestamp": 1651219856992,
     "user": {
      "displayName": "James Thiering",
      "userId": "02262056658604878482"
     },
     "user_tz": 360
    },
    "id": "E162Dgb5tdCT",
    "outputId": "e210ddc8-8f4a-47b6-8d20-5f8f3459c70e"
   },
   "outputs": [
    {
     "name": "stdout",
     "output_type": "stream",
     "text": [
      "Epoch 1/50\n",
      "599/599 [==============================] - 318s 526ms/step - loss: 0.1718 - cosine_similarity: 0.9554 - mean_absolute_error: 0.0503 - accuracy: 0.9541 - val_loss: 0.2041 - val_cosine_similarity: 0.9509 - val_mean_absolute_error: 0.0560 - val_accuracy: 0.9506 - lr: 0.0010\n",
      "Epoch 2/50\n",
      "599/599 [==============================] - 312s 521ms/step - loss: 0.1530 - cosine_similarity: 0.9571 - mean_absolute_error: 0.0497 - accuracy: 0.9548 - val_loss: 0.2210 - val_cosine_similarity: 0.9508 - val_mean_absolute_error: 0.0554 - val_accuracy: 0.9506 - lr: 0.0010\n",
      "Epoch 3/50\n",
      "599/599 [==============================] - 312s 522ms/step - loss: 0.1444 - cosine_similarity: 0.9581 - mean_absolute_error: 0.0494 - accuracy: 0.9549 - val_loss: 0.2369 - val_cosine_similarity: 0.9506 - val_mean_absolute_error: 0.0588 - val_accuracy: 0.9507 - lr: 0.0010\n",
      "Epoch 4/50\n",
      "599/599 [==============================] - 311s 520ms/step - loss: 0.1385 - cosine_similarity: 0.9592 - mean_absolute_error: 0.0490 - accuracy: 0.9558 - val_loss: 0.2705 - val_cosine_similarity: 0.9467 - val_mean_absolute_error: 0.0866 - val_accuracy: 0.9491 - lr: 0.0010\n",
      "Epoch 5/50\n",
      "599/599 [==============================] - 315s 526ms/step - loss: 0.1320 - cosine_similarity: 0.9608 - mean_absolute_error: 0.0477 - accuracy: 0.9572 - val_loss: 0.3239 - val_cosine_similarity: 0.9272 - val_mean_absolute_error: 0.1275 - val_accuracy: 0.9247 - lr: 0.0010\n",
      "Epoch 6/50\n",
      "599/599 [==============================] - 313s 522ms/step - loss: 0.1265 - cosine_similarity: 0.9615 - mean_absolute_error: 0.0473 - accuracy: 0.9577 - val_loss: 0.2964 - val_cosine_similarity: 0.9439 - val_mean_absolute_error: 0.0923 - val_accuracy: 0.9454 - lr: 0.0010\n",
      "Epoch 7/50\n",
      "599/599 [==============================] - 314s 524ms/step - loss: 0.1203 - cosine_similarity: 0.9627 - mean_absolute_error: 0.0461 - accuracy: 0.9580 - val_loss: 0.2853 - val_cosine_similarity: 0.9499 - val_mean_absolute_error: 0.0645 - val_accuracy: 0.9505 - lr: 0.0010\n",
      "Epoch 8/50\n",
      "599/599 [==============================] - ETA: 0s - loss: 0.1162 - cosine_similarity: 0.9635 - mean_absolute_error: 0.0454 - accuracy: 0.9590\n",
      "Epoch 8: ReduceLROnPlateau reducing learning rate to 0.00010000000474974513.\n",
      "599/599 [==============================] - 313s 522ms/step - loss: 0.1162 - cosine_similarity: 0.9635 - mean_absolute_error: 0.0454 - accuracy: 0.9590 - val_loss: 0.3206 - val_cosine_similarity: 0.9382 - val_mean_absolute_error: 0.1013 - val_accuracy: 0.9395 - lr: 0.0010\n",
      "Epoch 9/50\n",
      "599/599 [==============================] - 315s 526ms/step - loss: 0.1006 - cosine_similarity: 0.9674 - mean_absolute_error: 0.0411 - accuracy: 0.9624 - val_loss: 0.3411 - val_cosine_similarity: 0.9246 - val_mean_absolute_error: 0.1214 - val_accuracy: 0.9210 - lr: 1.0000e-04\n",
      "Epoch 10/50\n",
      "599/599 [==============================] - 326s 544ms/step - loss: 0.0971 - cosine_similarity: 0.9683 - mean_absolute_error: 0.0402 - accuracy: 0.9636 - val_loss: 0.3483 - val_cosine_similarity: 0.9179 - val_mean_absolute_error: 0.1274 - val_accuracy: 0.9117 - lr: 1.0000e-04\n",
      "Epoch 11/50\n",
      "599/599 [==============================] - 315s 526ms/step - loss: 0.0955 - cosine_similarity: 0.9687 - mean_absolute_error: 0.0398 - accuracy: 0.9639 - val_loss: 0.3515 - val_cosine_similarity: 0.9164 - val_mean_absolute_error: 0.1283 - val_accuracy: 0.9096 - lr: 1.0000e-04\n",
      "Epoch 12/50\n",
      "599/599 [==============================] - 312s 521ms/step - loss: 0.0935 - cosine_similarity: 0.9691 - mean_absolute_error: 0.0394 - accuracy: 0.9646 - val_loss: 0.3546 - val_cosine_similarity: 0.9149 - val_mean_absolute_error: 0.1299 - val_accuracy: 0.9077 - lr: 1.0000e-04\n",
      "Epoch 13/50\n",
      "599/599 [==============================] - 309s 516ms/step - loss: 0.0921 - cosine_similarity: 0.9699 - mean_absolute_error: 0.0387 - accuracy: 0.9655 - val_loss: 0.3558 - val_cosine_similarity: 0.9202 - val_mean_absolute_error: 0.1190 - val_accuracy: 0.9141 - lr: 1.0000e-04\n",
      "Epoch 14/50\n",
      "599/599 [==============================] - 311s 519ms/step - loss: 0.0905 - cosine_similarity: 0.9701 - mean_absolute_error: 0.0383 - accuracy: 0.9655 - val_loss: 0.3743 - val_cosine_similarity: 0.9055 - val_mean_absolute_error: 0.1395 - val_accuracy: 0.8925 - lr: 1.0000e-04\n",
      "Epoch 15/50\n",
      "599/599 [==============================] - ETA: 0s - loss: 0.0893 - cosine_similarity: 0.9704 - mean_absolute_error: 0.0382 - accuracy: 0.9656\n",
      "Epoch 15: ReduceLROnPlateau reducing learning rate to 1.0000000474974514e-05.\n",
      "599/599 [==============================] - 309s 517ms/step - loss: 0.0893 - cosine_similarity: 0.9704 - mean_absolute_error: 0.0382 - accuracy: 0.9656 - val_loss: 0.3596 - val_cosine_similarity: 0.9178 - val_mean_absolute_error: 0.1209 - val_accuracy: 0.9118 - lr: 1.0000e-04\n",
      "Epoch 16/50\n",
      "599/599 [==============================] - 309s 516ms/step - loss: 0.0865 - cosine_similarity: 0.9713 - mean_absolute_error: 0.0371 - accuracy: 0.9667 - val_loss: 0.3660 - val_cosine_similarity: 0.9135 - val_mean_absolute_error: 0.1269 - val_accuracy: 0.9048 - lr: 1.0000e-05\n",
      "Epoch 17/50\n",
      "599/599 [==============================] - 309s 516ms/step - loss: 0.0861 - cosine_similarity: 0.9715 - mean_absolute_error: 0.0371 - accuracy: 0.9667 - val_loss: 0.3662 - val_cosine_similarity: 0.9145 - val_mean_absolute_error: 0.1250 - val_accuracy: 0.9059 - lr: 1.0000e-05\n",
      "Epoch 18/50\n",
      "599/599 [==============================] - 319s 533ms/step - loss: 0.0858 - cosine_similarity: 0.9716 - mean_absolute_error: 0.0370 - accuracy: 0.9665 - val_loss: 0.3640 - val_cosine_similarity: 0.9153 - val_mean_absolute_error: 0.1237 - val_accuracy: 0.9066 - lr: 1.0000e-05\n",
      "Epoch 19/50\n",
      "599/599 [==============================] - 308s 515ms/step - loss: 0.0856 - cosine_similarity: 0.9715 - mean_absolute_error: 0.0370 - accuracy: 0.9666 - val_loss: 0.3702 - val_cosine_similarity: 0.9116 - val_mean_absolute_error: 0.1291 - val_accuracy: 0.9032 - lr: 1.0000e-05\n",
      "Epoch 20/50\n",
      "599/599 [==============================] - 308s 514ms/step - loss: 0.0852 - cosine_similarity: 0.9718 - mean_absolute_error: 0.0369 - accuracy: 0.9670 - val_loss: 0.3681 - val_cosine_similarity: 0.9142 - val_mean_absolute_error: 0.1250 - val_accuracy: 0.9058 - lr: 1.0000e-05\n",
      "Epoch 21/50\n",
      "599/599 [==============================] - 319s 533ms/step - loss: 0.0852 - cosine_similarity: 0.9717 - mean_absolute_error: 0.0369 - accuracy: 0.9666 - val_loss: 0.3683 - val_cosine_similarity: 0.9137 - val_mean_absolute_error: 0.1257 - val_accuracy: 0.9054 - lr: 1.0000e-05\n",
      "Epoch 22/50\n",
      "599/599 [==============================] - ETA: 0s - loss: 0.0851 - cosine_similarity: 0.9717 - mean_absolute_error: 0.0368 - accuracy: 0.9667\n",
      "Epoch 22: ReduceLROnPlateau reducing learning rate to 1.0000000656873453e-06.\n",
      "599/599 [==============================] - 306s 510ms/step - loss: 0.0851 - cosine_similarity: 0.9717 - mean_absolute_error: 0.0368 - accuracy: 0.9667 - val_loss: 0.3714 - val_cosine_similarity: 0.9121 - val_mean_absolute_error: 0.1280 - val_accuracy: 0.9039 - lr: 1.0000e-05\n",
      "Epoch 23/50\n",
      "599/599 [==============================] - 305s 510ms/step - loss: 0.0847 - cosine_similarity: 0.9719 - mean_absolute_error: 0.0367 - accuracy: 0.9668 - val_loss: 0.3715 - val_cosine_similarity: 0.9121 - val_mean_absolute_error: 0.1279 - val_accuracy: 0.9042 - lr: 1.0000e-06\n",
      "Epoch 24/50\n",
      "599/599 [==============================] - 305s 510ms/step - loss: 0.0845 - cosine_similarity: 0.9719 - mean_absolute_error: 0.0366 - accuracy: 0.9669 - val_loss: 0.3699 - val_cosine_similarity: 0.9124 - val_mean_absolute_error: 0.1274 - val_accuracy: 0.9043 - lr: 1.0000e-06\n",
      "Epoch 25/50\n",
      "599/599 [==============================] - 307s 513ms/step - loss: 0.0846 - cosine_similarity: 0.9718 - mean_absolute_error: 0.0367 - accuracy: 0.9668 - val_loss: 0.3712 - val_cosine_similarity: 0.9121 - val_mean_absolute_error: 0.1277 - val_accuracy: 0.9041 - lr: 1.0000e-06\n",
      "Epoch 26/50\n",
      "599/599 [==============================] - 307s 512ms/step - loss: 0.0847 - cosine_similarity: 0.9718 - mean_absolute_error: 0.0367 - accuracy: 0.9668 - val_loss: 0.3715 - val_cosine_similarity: 0.9121 - val_mean_absolute_error: 0.1278 - val_accuracy: 0.9043 - lr: 1.0000e-06\n",
      "Epoch 27/50\n",
      "599/599 [==============================] - 307s 513ms/step - loss: 0.0847 - cosine_similarity: 0.9719 - mean_absolute_error: 0.0367 - accuracy: 0.9669 - val_loss: 0.3720 - val_cosine_similarity: 0.9119 - val_mean_absolute_error: 0.1280 - val_accuracy: 0.9040 - lr: 1.0000e-06\n",
      "Epoch 28/50\n",
      "599/599 [==============================] - 307s 512ms/step - loss: 0.0846 - cosine_similarity: 0.9718 - mean_absolute_error: 0.0367 - accuracy: 0.9668 - val_loss: 0.3718 - val_cosine_similarity: 0.9119 - val_mean_absolute_error: 0.1280 - val_accuracy: 0.9037 - lr: 1.0000e-06\n",
      "Epoch 29/50\n",
      "599/599 [==============================] - ETA: 0s - loss: 0.0846 - cosine_similarity: 0.9719 - mean_absolute_error: 0.0367 - accuracy: 0.9669\n",
      "Epoch 29: ReduceLROnPlateau reducing learning rate to 1.0000001111620805e-07.\n",
      "599/599 [==============================] - 305s 510ms/step - loss: 0.0846 - cosine_similarity: 0.9719 - mean_absolute_error: 0.0367 - accuracy: 0.9669 - val_loss: 0.3721 - val_cosine_similarity: 0.9118 - val_mean_absolute_error: 0.1281 - val_accuracy: 0.9035 - lr: 1.0000e-06\n",
      "Epoch 30/50\n",
      "599/599 [==============================] - 304s 508ms/step - loss: 0.0846 - cosine_similarity: 0.9719 - mean_absolute_error: 0.0367 - accuracy: 0.9669 - val_loss: 0.3716 - val_cosine_similarity: 0.9119 - val_mean_absolute_error: 0.1279 - val_accuracy: 0.9036 - lr: 1.0000e-07\n",
      "Epoch 31/50\n",
      "599/599 [==============================] - 311s 520ms/step - loss: 0.0845 - cosine_similarity: 0.9719 - mean_absolute_error: 0.0366 - accuracy: 0.9669 - val_loss: 0.3715 - val_cosine_similarity: 0.9119 - val_mean_absolute_error: 0.1279 - val_accuracy: 0.9036 - lr: 1.0000e-07\n",
      "Epoch 32/50\n",
      "599/599 [==============================] - 310s 517ms/step - loss: 0.0846 - cosine_similarity: 0.9719 - mean_absolute_error: 0.0367 - accuracy: 0.9669 - val_loss: 0.3719 - val_cosine_similarity: 0.9118 - val_mean_absolute_error: 0.1281 - val_accuracy: 0.9034 - lr: 1.0000e-07\n",
      "Epoch 33/50\n",
      "599/599 [==============================] - 309s 517ms/step - loss: 0.0845 - cosine_similarity: 0.9719 - mean_absolute_error: 0.0366 - accuracy: 0.9669 - val_loss: 0.3719 - val_cosine_similarity: 0.9118 - val_mean_absolute_error: 0.1279 - val_accuracy: 0.9037 - lr: 1.0000e-07\n",
      "Epoch 34/50\n",
      "599/599 [==============================] - 311s 519ms/step - loss: 0.0846 - cosine_similarity: 0.9719 - mean_absolute_error: 0.0367 - accuracy: 0.9669 - val_loss: 0.3721 - val_cosine_similarity: 0.9118 - val_mean_absolute_error: 0.1280 - val_accuracy: 0.9036 - lr: 1.0000e-07\n",
      "Epoch 35/50\n",
      "599/599 [==============================] - 316s 528ms/step - loss: 0.0846 - cosine_similarity: 0.9719 - mean_absolute_error: 0.0367 - accuracy: 0.9669 - val_loss: 0.3714 - val_cosine_similarity: 0.9119 - val_mean_absolute_error: 0.1280 - val_accuracy: 0.9037 - lr: 1.0000e-07\n",
      "Epoch 36/50\n",
      "599/599 [==============================] - ETA: 0s - loss: 0.0845 - cosine_similarity: 0.9719 - mean_absolute_error: 0.0366 - accuracy: 0.9669\n",
      "Epoch 36: ReduceLROnPlateau reducing learning rate to 1.000000082740371e-08.\n",
      "599/599 [==============================] - 317s 529ms/step - loss: 0.0845 - cosine_similarity: 0.9719 - mean_absolute_error: 0.0366 - accuracy: 0.9669 - val_loss: 0.3722 - val_cosine_similarity: 0.9118 - val_mean_absolute_error: 0.1281 - val_accuracy: 0.9036 - lr: 1.0000e-07\n",
      "Epoch 37/50\n",
      "599/599 [==============================] - 316s 528ms/step - loss: 0.0846 - cosine_similarity: 0.9719 - mean_absolute_error: 0.0367 - accuracy: 0.9669 - val_loss: 0.3715 - val_cosine_similarity: 0.9119 - val_mean_absolute_error: 0.1279 - val_accuracy: 0.9038 - lr: 1.0000e-08\n",
      "Epoch 38/50\n",
      "599/599 [==============================] - 316s 528ms/step - loss: 0.0846 - cosine_similarity: 0.9719 - mean_absolute_error: 0.0367 - accuracy: 0.9669 - val_loss: 0.3722 - val_cosine_similarity: 0.9118 - val_mean_absolute_error: 0.1280 - val_accuracy: 0.9036 - lr: 1.0000e-08\n",
      "Epoch 39/50\n",
      "599/599 [==============================] - 316s 527ms/step - loss: 0.0845 - cosine_similarity: 0.9719 - mean_absolute_error: 0.0366 - accuracy: 0.9669 - val_loss: 0.3717 - val_cosine_similarity: 0.9119 - val_mean_absolute_error: 0.1279 - val_accuracy: 0.9037 - lr: 1.0000e-08\n",
      "Epoch 40/50\n",
      "599/599 [==============================] - 309s 516ms/step - loss: 0.0845 - cosine_similarity: 0.9719 - mean_absolute_error: 0.0366 - accuracy: 0.9669 - val_loss: 0.3723 - val_cosine_similarity: 0.9118 - val_mean_absolute_error: 0.1281 - val_accuracy: 0.9036 - lr: 1.0000e-08\n",
      "Epoch 41/50\n",
      "599/599 [==============================] - 315s 526ms/step - loss: 0.0844 - cosine_similarity: 0.9720 - mean_absolute_error: 0.0366 - accuracy: 0.9670 - val_loss: 0.3722 - val_cosine_similarity: 0.9117 - val_mean_absolute_error: 0.1281 - val_accuracy: 0.9034 - lr: 1.0000e-08\n",
      "Epoch 42/50\n",
      "599/599 [==============================] - 308s 515ms/step - loss: 0.0846 - cosine_similarity: 0.9719 - mean_absolute_error: 0.0367 - accuracy: 0.9669 - val_loss: 0.3721 - val_cosine_similarity: 0.9118 - val_mean_absolute_error: 0.1281 - val_accuracy: 0.9035 - lr: 1.0000e-08\n",
      "Epoch 43/50\n",
      "599/599 [==============================] - ETA: 0s - loss: 0.0845 - cosine_similarity: 0.9719 - mean_absolute_error: 0.0367 - accuracy: 0.9669\n",
      "Epoch 43: ReduceLROnPlateau reducing learning rate to 1.000000082740371e-09.\n",
      "599/599 [==============================] - 306s 512ms/step - loss: 0.0845 - cosine_similarity: 0.9719 - mean_absolute_error: 0.0367 - accuracy: 0.9669 - val_loss: 0.3714 - val_cosine_similarity: 0.9118 - val_mean_absolute_error: 0.1280 - val_accuracy: 0.9037 - lr: 1.0000e-08\n",
      "Epoch 44/50\n",
      "599/599 [==============================] - 316s 527ms/step - loss: 0.0846 - cosine_similarity: 0.9719 - mean_absolute_error: 0.0367 - accuracy: 0.9669 - val_loss: 0.3719 - val_cosine_similarity: 0.9118 - val_mean_absolute_error: 0.1280 - val_accuracy: 0.9037 - lr: 1.0000e-09\n",
      "Epoch 45/50\n",
      "599/599 [==============================] - 307s 512ms/step - loss: 0.0845 - cosine_similarity: 0.9719 - mean_absolute_error: 0.0366 - accuracy: 0.9669 - val_loss: 0.3721 - val_cosine_similarity: 0.9118 - val_mean_absolute_error: 0.1280 - val_accuracy: 0.9036 - lr: 1.0000e-09\n",
      "Epoch 46/50\n",
      "599/599 [==============================] - 306s 511ms/step - loss: 0.0846 - cosine_similarity: 0.9719 - mean_absolute_error: 0.0367 - accuracy: 0.9669 - val_loss: 0.3720 - val_cosine_similarity: 0.9118 - val_mean_absolute_error: 0.1280 - val_accuracy: 0.9036 - lr: 1.0000e-09\n",
      "Epoch 47/50\n",
      "599/599 [==============================] - 305s 510ms/step - loss: 0.0844 - cosine_similarity: 0.9720 - mean_absolute_error: 0.0366 - accuracy: 0.9670 - val_loss: 0.3714 - val_cosine_similarity: 0.9118 - val_mean_absolute_error: 0.1280 - val_accuracy: 0.9035 - lr: 1.0000e-09\n",
      "Epoch 48/50\n",
      "599/599 [==============================] - 306s 510ms/step - loss: 0.0846 - cosine_similarity: 0.9719 - mean_absolute_error: 0.0367 - accuracy: 0.9669 - val_loss: 0.3722 - val_cosine_similarity: 0.9117 - val_mean_absolute_error: 0.1281 - val_accuracy: 0.9035 - lr: 1.0000e-09\n",
      "Epoch 49/50\n",
      "599/599 [==============================] - 305s 509ms/step - loss: 0.0845 - cosine_similarity: 0.9719 - mean_absolute_error: 0.0366 - accuracy: 0.9669 - val_loss: 0.3716 - val_cosine_similarity: 0.9119 - val_mean_absolute_error: 0.1279 - val_accuracy: 0.9036 - lr: 1.0000e-09\n",
      "Epoch 50/50\n",
      "599/599 [==============================] - ETA: 0s - loss: 0.0845 - cosine_similarity: 0.9719 - mean_absolute_error: 0.0366 - accuracy: 0.9669\n",
      "Epoch 50: ReduceLROnPlateau reducing learning rate to 1.000000082740371e-10.\n",
      "599/599 [==============================] - 305s 509ms/step - loss: 0.0845 - cosine_similarity: 0.9719 - mean_absolute_error: 0.0366 - accuracy: 0.9669 - val_loss: 0.3717 - val_cosine_similarity: 0.9119 - val_mean_absolute_error: 0.1279 - val_accuracy: 0.9037 - lr: 1.0000e-09\n"
     ]
    }
   ],
   "source": [
    "history = xception_tl_DAiSEE.fit(training_generator, validation_data=validation_generator, class_weight=class_weight, batch_size=64, epochs=50, callbacks=callbacks)"
   ]
  },
  {
   "cell_type": "markdown",
   "metadata": {
    "id": "iUL2wYS9uzQT"
   },
   "source": [
    "# END"
   ]
  }
 ],
 "metadata": {
  "accelerator": "GPU",
  "colab": {
   "authorship_tag": "ABX9TyMzHS1ji6ZP/Hl1X/7cVQQ1",
   "collapsed_sections": [],
   "name": "DAiSEE_train_engagement_only_Binary.ipynb",
   "provenance": []
  },
  "kernelspec": {
   "display_name": "Python 3 (ipykernel)",
   "language": "python",
   "name": "python3"
  },
  "language_info": {
   "codemirror_mode": {
    "name": "ipython",
    "version": 3
   },
   "file_extension": ".py",
   "mimetype": "text/x-python",
   "name": "python",
   "nbconvert_exporter": "python",
   "pygments_lexer": "ipython3",
   "version": "3.10.12"
  }
 },
 "nbformat": 4,
 "nbformat_minor": 4
}
