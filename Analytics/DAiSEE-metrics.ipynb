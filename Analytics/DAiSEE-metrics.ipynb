{
 "cells": [
  {
   "cell_type": "markdown",
   "id": "8052a33b",
   "metadata": {},
   "source": [
    "# DAiSEE Model Analysis\n",
    "- The purpose of this notebook is to run predictions with the pre-trained model and generate gender-based prediction analytics for bias quantification."
   ]
  },
  {
   "cell_type": "markdown",
   "id": "bcccc5d8",
   "metadata": {},
   "source": [
    "# Setup Requirements:\n",
    "- A folder with the generated samples should be located in a realative path: './dataset/'\n",
    "- Model should be located in a relative path: './Models/\n",
    "- A folder with some out-of-dataset images should be located in a relative path: './test_image'"
   ]
  },
  {
   "cell_type": "code",
   "execution_count": 1,
   "id": "3e1eb814",
   "metadata": {},
   "outputs": [],
   "source": [
    "import cv2\n",
    "import numpy as np\n",
    "\n",
    "import tensorflow as tf\n",
    "from tensorflow import keras\n",
    "from tensorflow.keras.models import load_model\n",
    "\n",
    "import matplotlib.pyplot as plt\n",
    "\n",
    "import os\n",
    "\n",
    "from tqdm import tqdm\n",
    "from matplotlib import image\n",
    "\n",
    "import pickle\n",
    "\n",
    "import pandas as pd"
   ]
  },
  {
   "cell_type": "markdown",
   "id": "4ad253ba",
   "metadata": {},
   "source": [
    "# Load and describe the model"
   ]
  },
  {
   "cell_type": "code",
   "execution_count": 2,
   "id": "d63ba313",
   "metadata": {},
   "outputs": [
    {
     "name": "stdout",
     "output_type": "stream",
     "text": [
      "Loading the DaiSEE model...\n"
     ]
    }
   ],
   "source": [
    "print(\"Loading the DaiSEE model...\")\n",
    "model_dir = \"Models/\"\n",
    "#model_name = 'Xception_on_DAiSEE.h5'\n",
    "model_name = 'Xception_on_DAiSEE_finetune_fc.h5'\n",
    "ER_model = load_model(f\"{str(model_dir)}/{str(model_name)}\")"
   ]
  },
  {
   "cell_type": "code",
   "execution_count": 3,
   "id": "653f9235",
   "metadata": {
    "scrolled": true
   },
   "outputs": [
    {
     "name": "stdout",
     "output_type": "stream",
     "text": [
      "Model: \"model_1\"\n",
      "__________________________________________________________________________________________________\n",
      " Layer (type)                   Output Shape         Param #     Connected to                     \n",
      "==================================================================================================\n",
      " input_2 (InputLayer)           [(None, 299, 299, 3  0           []                               \n",
      "                                )]                                                                \n",
      "                                                                                                  \n",
      " block1_conv1 (Conv2D)          (None, 149, 149, 32  864         ['input_2[0][0]']                \n",
      "                                )                                                                 \n",
      "                                                                                                  \n",
      " block1_conv1_bn (BatchNormaliz  (None, 149, 149, 32  128        ['block1_conv1[0][0]']           \n",
      " ation)                         )                                                                 \n",
      "                                                                                                  \n",
      " block1_conv1_act (Activation)  (None, 149, 149, 32  0           ['block1_conv1_bn[0][0]']        \n",
      "                                )                                                                 \n",
      "                                                                                                  \n",
      " block1_conv2 (Conv2D)          (None, 147, 147, 64  18432       ['block1_conv1_act[0][0]']       \n",
      "                                )                                                                 \n",
      "                                                                                                  \n",
      " block1_conv2_bn (BatchNormaliz  (None, 147, 147, 64  256        ['block1_conv2[0][0]']           \n",
      " ation)                         )                                                                 \n",
      "                                                                                                  \n",
      " block1_conv2_act (Activation)  (None, 147, 147, 64  0           ['block1_conv2_bn[0][0]']        \n",
      "                                )                                                                 \n",
      "                                                                                                  \n",
      " block2_sepconv1 (SeparableConv  (None, 147, 147, 12  8768       ['block1_conv2_act[0][0]']       \n",
      " 2D)                            8)                                                                \n",
      "                                                                                                  \n",
      " block2_sepconv1_bn (BatchNorma  (None, 147, 147, 12  512        ['block2_sepconv1[0][0]']        \n",
      " lization)                      8)                                                                \n",
      "                                                                                                  \n",
      " block2_sepconv2_act (Activatio  (None, 147, 147, 12  0          ['block2_sepconv1_bn[0][0]']     \n",
      " n)                             8)                                                                \n",
      "                                                                                                  \n",
      " block2_sepconv2 (SeparableConv  (None, 147, 147, 12  17536      ['block2_sepconv2_act[0][0]']    \n",
      " 2D)                            8)                                                                \n",
      "                                                                                                  \n",
      " block2_sepconv2_bn (BatchNorma  (None, 147, 147, 12  512        ['block2_sepconv2[0][0]']        \n",
      " lization)                      8)                                                                \n",
      "                                                                                                  \n",
      " conv2d_4 (Conv2D)              (None, 74, 74, 128)  8192        ['block1_conv2_act[0][0]']       \n",
      "                                                                                                  \n",
      " block2_pool (MaxPooling2D)     (None, 74, 74, 128)  0           ['block2_sepconv2_bn[0][0]']     \n",
      "                                                                                                  \n",
      " batch_normalization_4 (BatchNo  (None, 74, 74, 128)  512        ['conv2d_4[0][0]']               \n",
      " rmalization)                                                                                     \n",
      "                                                                                                  \n",
      " add_12 (Add)                   (None, 74, 74, 128)  0           ['block2_pool[0][0]',            \n",
      "                                                                  'batch_normalization_4[0][0]']  \n",
      "                                                                                                  \n",
      " block3_sepconv1_act (Activatio  (None, 74, 74, 128)  0          ['add_12[0][0]']                 \n",
      " n)                                                                                               \n",
      "                                                                                                  \n",
      " block3_sepconv1 (SeparableConv  (None, 74, 74, 256)  33920      ['block3_sepconv1_act[0][0]']    \n",
      " 2D)                                                                                              \n",
      "                                                                                                  \n",
      " block3_sepconv1_bn (BatchNorma  (None, 74, 74, 256)  1024       ['block3_sepconv1[0][0]']        \n",
      " lization)                                                                                        \n",
      "                                                                                                  \n",
      " block3_sepconv2_act (Activatio  (None, 74, 74, 256)  0          ['block3_sepconv1_bn[0][0]']     \n",
      " n)                                                                                               \n",
      "                                                                                                  \n",
      " block3_sepconv2 (SeparableConv  (None, 74, 74, 256)  67840      ['block3_sepconv2_act[0][0]']    \n",
      " 2D)                                                                                              \n",
      "                                                                                                  \n",
      " block3_sepconv2_bn (BatchNorma  (None, 74, 74, 256)  1024       ['block3_sepconv2[0][0]']        \n",
      " lization)                                                                                        \n",
      "                                                                                                  \n",
      " conv2d_5 (Conv2D)              (None, 37, 37, 256)  32768       ['add_12[0][0]']                 \n",
      "                                                                                                  \n",
      " block3_pool (MaxPooling2D)     (None, 37, 37, 256)  0           ['block3_sepconv2_bn[0][0]']     \n",
      "                                                                                                  \n",
      " batch_normalization_5 (BatchNo  (None, 37, 37, 256)  1024       ['conv2d_5[0][0]']               \n",
      " rmalization)                                                                                     \n",
      "                                                                                                  \n",
      " add_13 (Add)                   (None, 37, 37, 256)  0           ['block3_pool[0][0]',            \n",
      "                                                                  'batch_normalization_5[0][0]']  \n",
      "                                                                                                  \n",
      " block4_sepconv1_act (Activatio  (None, 37, 37, 256)  0          ['add_13[0][0]']                 \n",
      " n)                                                                                               \n",
      "                                                                                                  \n",
      " block4_sepconv1 (SeparableConv  (None, 37, 37, 728)  188672     ['block4_sepconv1_act[0][0]']    \n",
      " 2D)                                                                                              \n",
      "                                                                                                  \n"
     ]
    },
    {
     "name": "stdout",
     "output_type": "stream",
     "text": [
      " block4_sepconv1_bn (BatchNorma  (None, 37, 37, 728)  2912       ['block4_sepconv1[0][0]']        \n",
      " lization)                                                                                        \n",
      "                                                                                                  \n",
      " block4_sepconv2_act (Activatio  (None, 37, 37, 728)  0          ['block4_sepconv1_bn[0][0]']     \n",
      " n)                                                                                               \n",
      "                                                                                                  \n",
      " block4_sepconv2 (SeparableConv  (None, 37, 37, 728)  536536     ['block4_sepconv2_act[0][0]']    \n",
      " 2D)                                                                                              \n",
      "                                                                                                  \n",
      " block4_sepconv2_bn (BatchNorma  (None, 37, 37, 728)  2912       ['block4_sepconv2[0][0]']        \n",
      " lization)                                                                                        \n",
      "                                                                                                  \n",
      " conv2d_6 (Conv2D)              (None, 19, 19, 728)  186368      ['add_13[0][0]']                 \n",
      "                                                                                                  \n",
      " block4_pool (MaxPooling2D)     (None, 19, 19, 728)  0           ['block4_sepconv2_bn[0][0]']     \n",
      "                                                                                                  \n",
      " batch_normalization_6 (BatchNo  (None, 19, 19, 728)  2912       ['conv2d_6[0][0]']               \n",
      " rmalization)                                                                                     \n",
      "                                                                                                  \n",
      " add_14 (Add)                   (None, 19, 19, 728)  0           ['block4_pool[0][0]',            \n",
      "                                                                  'batch_normalization_6[0][0]']  \n",
      "                                                                                                  \n",
      " block5_sepconv1_act (Activatio  (None, 19, 19, 728)  0          ['add_14[0][0]']                 \n",
      " n)                                                                                               \n",
      "                                                                                                  \n",
      " block5_sepconv1 (SeparableConv  (None, 19, 19, 728)  536536     ['block5_sepconv1_act[0][0]']    \n",
      " 2D)                                                                                              \n",
      "                                                                                                  \n",
      " block5_sepconv1_bn (BatchNorma  (None, 19, 19, 728)  2912       ['block5_sepconv1[0][0]']        \n",
      " lization)                                                                                        \n",
      "                                                                                                  \n",
      " block5_sepconv2_act (Activatio  (None, 19, 19, 728)  0          ['block5_sepconv1_bn[0][0]']     \n",
      " n)                                                                                               \n",
      "                                                                                                  \n",
      " block5_sepconv2 (SeparableConv  (None, 19, 19, 728)  536536     ['block5_sepconv2_act[0][0]']    \n",
      " 2D)                                                                                              \n",
      "                                                                                                  \n",
      " block5_sepconv2_bn (BatchNorma  (None, 19, 19, 728)  2912       ['block5_sepconv2[0][0]']        \n",
      " lization)                                                                                        \n",
      "                                                                                                  \n",
      " block5_sepconv3_act (Activatio  (None, 19, 19, 728)  0          ['block5_sepconv2_bn[0][0]']     \n",
      " n)                                                                                               \n",
      "                                                                                                  \n",
      " block5_sepconv3 (SeparableConv  (None, 19, 19, 728)  536536     ['block5_sepconv3_act[0][0]']    \n",
      " 2D)                                                                                              \n",
      "                                                                                                  \n",
      " block5_sepconv3_bn (BatchNorma  (None, 19, 19, 728)  2912       ['block5_sepconv3[0][0]']        \n",
      " lization)                                                                                        \n",
      "                                                                                                  \n",
      " add_15 (Add)                   (None, 19, 19, 728)  0           ['block5_sepconv3_bn[0][0]',     \n",
      "                                                                  'add_14[0][0]']                 \n",
      "                                                                                                  \n",
      " block6_sepconv1_act (Activatio  (None, 19, 19, 728)  0          ['add_15[0][0]']                 \n",
      " n)                                                                                               \n",
      "                                                                                                  \n",
      " block6_sepconv1 (SeparableConv  (None, 19, 19, 728)  536536     ['block6_sepconv1_act[0][0]']    \n",
      " 2D)                                                                                              \n",
      "                                                                                                  \n",
      " block6_sepconv1_bn (BatchNorma  (None, 19, 19, 728)  2912       ['block6_sepconv1[0][0]']        \n",
      " lization)                                                                                        \n",
      "                                                                                                  \n",
      " block6_sepconv2_act (Activatio  (None, 19, 19, 728)  0          ['block6_sepconv1_bn[0][0]']     \n",
      " n)                                                                                               \n",
      "                                                                                                  \n",
      " block6_sepconv2 (SeparableConv  (None, 19, 19, 728)  536536     ['block6_sepconv2_act[0][0]']    \n",
      " 2D)                                                                                              \n",
      "                                                                                                  \n",
      " block6_sepconv2_bn (BatchNorma  (None, 19, 19, 728)  2912       ['block6_sepconv2[0][0]']        \n",
      " lization)                                                                                        \n",
      "                                                                                                  \n",
      " block6_sepconv3_act (Activatio  (None, 19, 19, 728)  0          ['block6_sepconv2_bn[0][0]']     \n",
      " n)                                                                                               \n",
      "                                                                                                  \n",
      " block6_sepconv3 (SeparableConv  (None, 19, 19, 728)  536536     ['block6_sepconv3_act[0][0]']    \n",
      " 2D)                                                                                              \n",
      "                                                                                                  \n",
      " block6_sepconv3_bn (BatchNorma  (None, 19, 19, 728)  2912       ['block6_sepconv3[0][0]']        \n",
      " lization)                                                                                        \n",
      "                                                                                                  \n",
      " add_16 (Add)                   (None, 19, 19, 728)  0           ['block6_sepconv3_bn[0][0]',     \n",
      "                                                                  'add_15[0][0]']                 \n",
      "                                                                                                  \n",
      " block7_sepconv1_act (Activatio  (None, 19, 19, 728)  0          ['add_16[0][0]']                 \n"
     ]
    },
    {
     "name": "stdout",
     "output_type": "stream",
     "text": [
      " n)                                                                                               \n",
      "                                                                                                  \n",
      " block7_sepconv1 (SeparableConv  (None, 19, 19, 728)  536536     ['block7_sepconv1_act[0][0]']    \n",
      " 2D)                                                                                              \n",
      "                                                                                                  \n",
      " block7_sepconv1_bn (BatchNorma  (None, 19, 19, 728)  2912       ['block7_sepconv1[0][0]']        \n",
      " lization)                                                                                        \n",
      "                                                                                                  \n",
      " block7_sepconv2_act (Activatio  (None, 19, 19, 728)  0          ['block7_sepconv1_bn[0][0]']     \n",
      " n)                                                                                               \n",
      "                                                                                                  \n",
      " block7_sepconv2 (SeparableConv  (None, 19, 19, 728)  536536     ['block7_sepconv2_act[0][0]']    \n",
      " 2D)                                                                                              \n",
      "                                                                                                  \n",
      " block7_sepconv2_bn (BatchNorma  (None, 19, 19, 728)  2912       ['block7_sepconv2[0][0]']        \n",
      " lization)                                                                                        \n",
      "                                                                                                  \n",
      " block7_sepconv3_act (Activatio  (None, 19, 19, 728)  0          ['block7_sepconv2_bn[0][0]']     \n",
      " n)                                                                                               \n",
      "                                                                                                  \n",
      " block7_sepconv3 (SeparableConv  (None, 19, 19, 728)  536536     ['block7_sepconv3_act[0][0]']    \n",
      " 2D)                                                                                              \n",
      "                                                                                                  \n",
      " block7_sepconv3_bn (BatchNorma  (None, 19, 19, 728)  2912       ['block7_sepconv3[0][0]']        \n",
      " lization)                                                                                        \n",
      "                                                                                                  \n",
      " add_17 (Add)                   (None, 19, 19, 728)  0           ['block7_sepconv3_bn[0][0]',     \n",
      "                                                                  'add_16[0][0]']                 \n",
      "                                                                                                  \n",
      " block8_sepconv1_act (Activatio  (None, 19, 19, 728)  0          ['add_17[0][0]']                 \n",
      " n)                                                                                               \n",
      "                                                                                                  \n",
      " block8_sepconv1 (SeparableConv  (None, 19, 19, 728)  536536     ['block8_sepconv1_act[0][0]']    \n",
      " 2D)                                                                                              \n",
      "                                                                                                  \n",
      " block8_sepconv1_bn (BatchNorma  (None, 19, 19, 728)  2912       ['block8_sepconv1[0][0]']        \n",
      " lization)                                                                                        \n",
      "                                                                                                  \n",
      " block8_sepconv2_act (Activatio  (None, 19, 19, 728)  0          ['block8_sepconv1_bn[0][0]']     \n",
      " n)                                                                                               \n",
      "                                                                                                  \n",
      " block8_sepconv2 (SeparableConv  (None, 19, 19, 728)  536536     ['block8_sepconv2_act[0][0]']    \n",
      " 2D)                                                                                              \n",
      "                                                                                                  \n",
      " block8_sepconv2_bn (BatchNorma  (None, 19, 19, 728)  2912       ['block8_sepconv2[0][0]']        \n",
      " lization)                                                                                        \n",
      "                                                                                                  \n",
      " block8_sepconv3_act (Activatio  (None, 19, 19, 728)  0          ['block8_sepconv2_bn[0][0]']     \n",
      " n)                                                                                               \n",
      "                                                                                                  \n",
      " block8_sepconv3 (SeparableConv  (None, 19, 19, 728)  536536     ['block8_sepconv3_act[0][0]']    \n",
      " 2D)                                                                                              \n",
      "                                                                                                  \n",
      " block8_sepconv3_bn (BatchNorma  (None, 19, 19, 728)  2912       ['block8_sepconv3[0][0]']        \n",
      " lization)                                                                                        \n",
      "                                                                                                  \n",
      " add_18 (Add)                   (None, 19, 19, 728)  0           ['block8_sepconv3_bn[0][0]',     \n",
      "                                                                  'add_17[0][0]']                 \n",
      "                                                                                                  \n",
      " block9_sepconv1_act (Activatio  (None, 19, 19, 728)  0          ['add_18[0][0]']                 \n",
      " n)                                                                                               \n",
      "                                                                                                  \n",
      " block9_sepconv1 (SeparableConv  (None, 19, 19, 728)  536536     ['block9_sepconv1_act[0][0]']    \n",
      " 2D)                                                                                              \n",
      "                                                                                                  \n",
      " block9_sepconv1_bn (BatchNorma  (None, 19, 19, 728)  2912       ['block9_sepconv1[0][0]']        \n",
      " lization)                                                                                        \n",
      "                                                                                                  \n",
      " block9_sepconv2_act (Activatio  (None, 19, 19, 728)  0          ['block9_sepconv1_bn[0][0]']     \n",
      " n)                                                                                               \n",
      "                                                                                                  \n",
      " block9_sepconv2 (SeparableConv  (None, 19, 19, 728)  536536     ['block9_sepconv2_act[0][0]']    \n",
      " 2D)                                                                                              \n",
      "                                                                                                  \n",
      " block9_sepconv2_bn (BatchNorma  (None, 19, 19, 728)  2912       ['block9_sepconv2[0][0]']        \n",
      " lization)                                                                                        \n",
      "                                                                                                  \n",
      " block9_sepconv3_act (Activatio  (None, 19, 19, 728)  0          ['block9_sepconv2_bn[0][0]']     \n",
      " n)                                                                                               \n",
      "                                                                                                  \n",
      " block9_sepconv3 (SeparableConv  (None, 19, 19, 728)  536536     ['block9_sepconv3_act[0][0]']    \n",
      " 2D)                                                                                              \n",
      "                                                                                                  \n"
     ]
    },
    {
     "name": "stdout",
     "output_type": "stream",
     "text": [
      " block9_sepconv3_bn (BatchNorma  (None, 19, 19, 728)  2912       ['block9_sepconv3[0][0]']        \n",
      " lization)                                                                                        \n",
      "                                                                                                  \n",
      " add_19 (Add)                   (None, 19, 19, 728)  0           ['block9_sepconv3_bn[0][0]',     \n",
      "                                                                  'add_18[0][0]']                 \n",
      "                                                                                                  \n",
      " block10_sepconv1_act (Activati  (None, 19, 19, 728)  0          ['add_19[0][0]']                 \n",
      " on)                                                                                              \n",
      "                                                                                                  \n",
      " block10_sepconv1 (SeparableCon  (None, 19, 19, 728)  536536     ['block10_sepconv1_act[0][0]']   \n",
      " v2D)                                                                                             \n",
      "                                                                                                  \n",
      " block10_sepconv1_bn (BatchNorm  (None, 19, 19, 728)  2912       ['block10_sepconv1[0][0]']       \n",
      " alization)                                                                                       \n",
      "                                                                                                  \n",
      " block10_sepconv2_act (Activati  (None, 19, 19, 728)  0          ['block10_sepconv1_bn[0][0]']    \n",
      " on)                                                                                              \n",
      "                                                                                                  \n",
      " block10_sepconv2 (SeparableCon  (None, 19, 19, 728)  536536     ['block10_sepconv2_act[0][0]']   \n",
      " v2D)                                                                                             \n",
      "                                                                                                  \n",
      " block10_sepconv2_bn (BatchNorm  (None, 19, 19, 728)  2912       ['block10_sepconv2[0][0]']       \n",
      " alization)                                                                                       \n",
      "                                                                                                  \n",
      " block10_sepconv3_act (Activati  (None, 19, 19, 728)  0          ['block10_sepconv2_bn[0][0]']    \n",
      " on)                                                                                              \n",
      "                                                                                                  \n",
      " block10_sepconv3 (SeparableCon  (None, 19, 19, 728)  536536     ['block10_sepconv3_act[0][0]']   \n",
      " v2D)                                                                                             \n",
      "                                                                                                  \n",
      " block10_sepconv3_bn (BatchNorm  (None, 19, 19, 728)  2912       ['block10_sepconv3[0][0]']       \n",
      " alization)                                                                                       \n",
      "                                                                                                  \n",
      " add_20 (Add)                   (None, 19, 19, 728)  0           ['block10_sepconv3_bn[0][0]',    \n",
      "                                                                  'add_19[0][0]']                 \n",
      "                                                                                                  \n",
      " block11_sepconv1_act (Activati  (None, 19, 19, 728)  0          ['add_20[0][0]']                 \n",
      " on)                                                                                              \n",
      "                                                                                                  \n",
      " block11_sepconv1 (SeparableCon  (None, 19, 19, 728)  536536     ['block11_sepconv1_act[0][0]']   \n",
      " v2D)                                                                                             \n",
      "                                                                                                  \n",
      " block11_sepconv1_bn (BatchNorm  (None, 19, 19, 728)  2912       ['block11_sepconv1[0][0]']       \n",
      " alization)                                                                                       \n",
      "                                                                                                  \n",
      " block11_sepconv2_act (Activati  (None, 19, 19, 728)  0          ['block11_sepconv1_bn[0][0]']    \n",
      " on)                                                                                              \n",
      "                                                                                                  \n",
      " block11_sepconv2 (SeparableCon  (None, 19, 19, 728)  536536     ['block11_sepconv2_act[0][0]']   \n",
      " v2D)                                                                                             \n",
      "                                                                                                  \n",
      " block11_sepconv2_bn (BatchNorm  (None, 19, 19, 728)  2912       ['block11_sepconv2[0][0]']       \n",
      " alization)                                                                                       \n",
      "                                                                                                  \n",
      " block11_sepconv3_act (Activati  (None, 19, 19, 728)  0          ['block11_sepconv2_bn[0][0]']    \n",
      " on)                                                                                              \n",
      "                                                                                                  \n",
      " block11_sepconv3 (SeparableCon  (None, 19, 19, 728)  536536     ['block11_sepconv3_act[0][0]']   \n",
      " v2D)                                                                                             \n",
      "                                                                                                  \n",
      " block11_sepconv3_bn (BatchNorm  (None, 19, 19, 728)  2912       ['block11_sepconv3[0][0]']       \n",
      " alization)                                                                                       \n",
      "                                                                                                  \n",
      " add_21 (Add)                   (None, 19, 19, 728)  0           ['block11_sepconv3_bn[0][0]',    \n",
      "                                                                  'add_20[0][0]']                 \n",
      "                                                                                                  \n",
      " block12_sepconv1_act (Activati  (None, 19, 19, 728)  0          ['add_21[0][0]']                 \n",
      " on)                                                                                              \n",
      "                                                                                                  \n",
      " block12_sepconv1 (SeparableCon  (None, 19, 19, 728)  536536     ['block12_sepconv1_act[0][0]']   \n",
      " v2D)                                                                                             \n",
      "                                                                                                  \n",
      " block12_sepconv1_bn (BatchNorm  (None, 19, 19, 728)  2912       ['block12_sepconv1[0][0]']       \n",
      " alization)                                                                                       \n",
      "                                                                                                  \n",
      " block12_sepconv2_act (Activati  (None, 19, 19, 728)  0          ['block12_sepconv1_bn[0][0]']    \n",
      " on)                                                                                              \n",
      "                                                                                                  \n",
      " block12_sepconv2 (SeparableCon  (None, 19, 19, 728)  536536     ['block12_sepconv2_act[0][0]']   \n",
      " v2D)                                                                                             \n",
      "                                                                                                  \n",
      " block12_sepconv2_bn (BatchNorm  (None, 19, 19, 728)  2912       ['block12_sepconv2[0][0]']       \n",
      " alization)                                                                                       \n"
     ]
    },
    {
     "name": "stdout",
     "output_type": "stream",
     "text": [
      "                                                                                                  \n",
      " block12_sepconv3_act (Activati  (None, 19, 19, 728)  0          ['block12_sepconv2_bn[0][0]']    \n",
      " on)                                                                                              \n",
      "                                                                                                  \n",
      " block12_sepconv3 (SeparableCon  (None, 19, 19, 728)  536536     ['block12_sepconv3_act[0][0]']   \n",
      " v2D)                                                                                             \n",
      "                                                                                                  \n",
      " block12_sepconv3_bn (BatchNorm  (None, 19, 19, 728)  2912       ['block12_sepconv3[0][0]']       \n",
      " alization)                                                                                       \n",
      "                                                                                                  \n",
      " add_22 (Add)                   (None, 19, 19, 728)  0           ['block12_sepconv3_bn[0][0]',    \n",
      "                                                                  'add_21[0][0]']                 \n",
      "                                                                                                  \n",
      " block13_sepconv1_act (Activati  (None, 19, 19, 728)  0          ['add_22[0][0]']                 \n",
      " on)                                                                                              \n",
      "                                                                                                  \n",
      " block13_sepconv1 (SeparableCon  (None, 19, 19, 728)  536536     ['block13_sepconv1_act[0][0]']   \n",
      " v2D)                                                                                             \n",
      "                                                                                                  \n",
      " block13_sepconv1_bn (BatchNorm  (None, 19, 19, 728)  2912       ['block13_sepconv1[0][0]']       \n",
      " alization)                                                                                       \n",
      "                                                                                                  \n",
      " block13_sepconv2_act (Activati  (None, 19, 19, 728)  0          ['block13_sepconv1_bn[0][0]']    \n",
      " on)                                                                                              \n",
      "                                                                                                  \n",
      " block13_sepconv2 (SeparableCon  (None, 19, 19, 1024  752024     ['block13_sepconv2_act[0][0]']   \n",
      " v2D)                           )                                                                 \n",
      "                                                                                                  \n",
      " block13_sepconv2_bn (BatchNorm  (None, 19, 19, 1024  4096       ['block13_sepconv2[0][0]']       \n",
      " alization)                     )                                                                 \n",
      "                                                                                                  \n",
      " conv2d_7 (Conv2D)              (None, 10, 10, 1024  745472      ['add_22[0][0]']                 \n",
      "                                )                                                                 \n",
      "                                                                                                  \n",
      " block13_pool (MaxPooling2D)    (None, 10, 10, 1024  0           ['block13_sepconv2_bn[0][0]']    \n",
      "                                )                                                                 \n",
      "                                                                                                  \n",
      " batch_normalization_7 (BatchNo  (None, 10, 10, 1024  4096       ['conv2d_7[0][0]']               \n",
      " rmalization)                   )                                                                 \n",
      "                                                                                                  \n",
      " add_23 (Add)                   (None, 10, 10, 1024  0           ['block13_pool[0][0]',           \n",
      "                                )                                 'batch_normalization_7[0][0]']  \n",
      "                                                                                                  \n",
      " block14_sepconv1 (SeparableCon  (None, 10, 10, 1536  1582080    ['add_23[0][0]']                 \n",
      " v2D)                           )                                                                 \n",
      "                                                                                                  \n",
      " block14_sepconv1_bn (BatchNorm  (None, 10, 10, 1536  6144       ['block14_sepconv1[0][0]']       \n",
      " alization)                     )                                                                 \n",
      "                                                                                                  \n",
      " block14_sepconv1_act (Activati  (None, 10, 10, 1536  0          ['block14_sepconv1_bn[0][0]']    \n",
      " on)                            )                                                                 \n",
      "                                                                                                  \n",
      " block14_sepconv2 (SeparableCon  (None, 10, 10, 2048  3159552    ['block14_sepconv1_act[0][0]']   \n",
      " v2D)                           )                                                                 \n",
      "                                                                                                  \n",
      " block14_sepconv2_bn (BatchNorm  (None, 10, 10, 2048  8192       ['block14_sepconv2[0][0]']       \n",
      " alization)                     )                                                                 \n",
      "                                                                                                  \n",
      " block14_sepconv2_act (Activati  (None, 10, 10, 2048  0          ['block14_sepconv2_bn[0][0]']    \n",
      " on)                            )                                                                 \n",
      "                                                                                                  \n",
      " global_average_pooling2d_1 (Gl  (None, 2048)        0           ['block14_sepconv2_act[0][0]']   \n",
      " obalAveragePooling2D)                                                                            \n",
      "                                                                                                  \n",
      " fc1 (Dense)                    (None, 128)          262272      ['global_average_pooling2d_1[0][0\n",
      "                                                                 ]']                              \n",
      "                                                                                                  \n",
      " fc2 (Dense)                    (None, 64)           8256        ['fc1[0][0]']                    \n",
      "                                                                                                  \n",
      " y1 (Dense)                     (None, 4)            260         ['fc2[0][0]']                    \n",
      "                                                                                                  \n",
      " y2 (Dense)                     (None, 4)            260         ['fc2[0][0]']                    \n",
      "                                                                                                  \n",
      " y3 (Dense)                     (None, 4)            260         ['fc2[0][0]']                    \n",
      "                                                                                                  \n",
      " y4 (Dense)                     (None, 4)            260         ['fc2[0][0]']                    \n",
      "                                                                                                  \n",
      "==================================================================================================\n",
      "Total params: 21,133,048\n",
      "Trainable params: 7,059,952\n",
      "Non-trainable params: 14,073,096\n",
      "__________________________________________________________________________________________________\n"
     ]
    }
   ],
   "source": [
    "ER_model.summary()"
   ]
  },
  {
   "cell_type": "code",
   "execution_count": 4,
   "id": "19ac307d",
   "metadata": {
    "scrolled": true
   },
   "outputs": [
    {
     "data": {
      "text/plain": [
       "[array([[ 0.11875295,  0.3779491 , -0.2794306 , -0.5486835 ]],\n",
       "       dtype=float32),\n",
       " array([[-1.3864887 , -0.86402214,  0.1468235 ,  0.10713997]],\n",
       "       dtype=float32),\n",
       " array([[ 0.33809486,  0.13875915, -0.32996583, -1.7506933 ]],\n",
       "       dtype=float32),\n",
       " array([[ 0.06940885, -0.1062819 , -0.8146593 , -1.0521727 ]],\n",
       "       dtype=float32)]"
      ]
     },
     "execution_count": 4,
     "metadata": {},
     "output_type": "execute_result"
    }
   ],
   "source": [
    "#ER_model.predict(, 299, 299, 3)\n",
    "ER_model.predict(np.zeros(shape=(1, 299, 299, 3)))"
   ]
  },
  {
   "cell_type": "code",
   "execution_count": 5,
   "id": "5368b983",
   "metadata": {},
   "outputs": [
    {
     "data": {
      "text/plain": [
       "[<KerasTensor: shape=(None, 4) dtype=float32 (created by layer 'y1')>,\n",
       " <KerasTensor: shape=(None, 4) dtype=float32 (created by layer 'y2')>,\n",
       " <KerasTensor: shape=(None, 4) dtype=float32 (created by layer 'y3')>,\n",
       " <KerasTensor: shape=(None, 4) dtype=float32 (created by layer 'y4')>]"
      ]
     },
     "execution_count": 5,
     "metadata": {},
     "output_type": "execute_result"
    }
   ],
   "source": [
    "ER_model.output"
   ]
  },
  {
   "cell_type": "markdown",
   "id": "5f70559d",
   "metadata": {},
   "source": [
    "# Define functions for finding faces"
   ]
  },
  {
   "cell_type": "code",
   "execution_count": 6,
   "id": "ea27c4d1",
   "metadata": {},
   "outputs": [],
   "source": [
    "def get_faces(img):\n",
    "    \n",
    "    gray = cv2.cvtColor(img, cv2.COLOR_BGR2GRAY)\n",
    "    \n",
    "    faceCascade = cv2.CascadeClassifier(cv2.data.haarcascades + \"haarcascade_frontalface_default.xml\")\n",
    "    faces = faceCascade.detectMultiScale(gray,\n",
    "                                         scaleFactor=1.3,\n",
    "                                         minNeighbors=3,\n",
    "                                         minSize=(30, 30))\n",
    "    return faces"
   ]
  },
  {
   "cell_type": "markdown",
   "id": "cf9fb553",
   "metadata": {},
   "source": [
    "# testing whole sample"
   ]
  },
  {
   "cell_type": "code",
   "execution_count": 7,
   "id": "ef3f0a17",
   "metadata": {},
   "outputs": [],
   "source": [
    "sample = './test_image/photo.jpg'\n",
    "sample_image = cv2.imread(sample)"
   ]
  },
  {
   "cell_type": "code",
   "execution_count": 8,
   "id": "2a450648",
   "metadata": {},
   "outputs": [],
   "source": [
    "sample = './test_image/photo.jpg'\n",
    "sample = './test_Image/sandwich.png'\n",
    "sample_image = cv2.imread(sample)    \n",
    "class_names = ['Boredom', 'Engagement', 'Confusion', 'Frustration']\n",
    "img_width = 299\n",
    "img_height = 299\n",
    "roi_image = tf.keras.applications.xception.preprocess_input(sample_image)\n",
    "    \n",
    "roi_image = tf.image.resize(images=roi_image,\n",
    "                            size=[img_width, img_height],\n",
    "                            method=tf.image.ResizeMethod.BILINEAR)\n",
    "roi_image = tf.reshape(roi_image, [1, img_width, img_height, 3]) #Reshaped it to (1,299,299,3)\n",
    "result = ER_model.predict(roi_image)"
   ]
  },
  {
   "cell_type": "code",
   "execution_count": 9,
   "id": "573278b2",
   "metadata": {},
   "outputs": [
    {
     "data": {
      "text/plain": [
       "[array([[ 0.905078 ,  0.3685838, -0.4386261, -1.7148715]], dtype=float32),\n",
       " array([[-2.911052  , -1.2696586 ,  0.37679374,  0.70323706]],\n",
       "       dtype=float32),\n",
       " array([[ 0.38908923, -0.3620838 , -1.5549212 , -1.9940208 ]],\n",
       "       dtype=float32),\n",
       " array([[ 0.24219827, -0.58111227, -1.1151416 , -2.1389942 ]],\n",
       "       dtype=float32)]"
      ]
     },
     "execution_count": 9,
     "metadata": {},
     "output_type": "execute_result"
    }
   ],
   "source": [
    "result"
   ]
  },
  {
   "cell_type": "code",
   "execution_count": 10,
   "id": "cb953277",
   "metadata": {
    "scrolled": true
   },
   "outputs": [
    {
     "data": {
      "text/plain": [
       "array([3], dtype=int64)"
      ]
     },
     "execution_count": 10,
     "metadata": {},
     "output_type": "execute_result"
    }
   ],
   "source": [
    "np.argmax(result[1],axis=1)"
   ]
  },
  {
   "cell_type": "markdown",
   "id": "e1e9b1b1",
   "metadata": {},
   "source": [
    "# Testing cropped sample vs full frame sample"
   ]
  },
  {
   "cell_type": "code",
   "execution_count": 11,
   "id": "8e7e8536",
   "metadata": {},
   "outputs": [],
   "source": [
    "sample = './test_image/photo.jpg'\n",
    "face_set = []\n",
    "\n",
    "datum_img = cv2.imread(sample) \n",
    "datum_img = cv2.cvtColor(datum_img, cv2.COLOR_BGR2RGB)\n",
    "faces = get_faces(datum_img)\n",
    "for (x,y,w,h) in faces:\n",
    "    ROI = datum_img[y:y+h, x:x+w]\n",
    "    face_set.append((ROI, datum_img))"
   ]
  },
  {
   "cell_type": "code",
   "execution_count": 12,
   "id": "28780091",
   "metadata": {},
   "outputs": [
    {
     "data": {
      "text/plain": [
       "<matplotlib.image.AxesImage at 0x1e50f5e7100>"
      ]
     },
     "execution_count": 12,
     "metadata": {},
     "output_type": "execute_result"
    },
    {
     "data": {
      "image/png": "[encoded data removed]",
      "text/plain": [
       "<Figure size 432x288 with 1 Axes>"
      ]
     },
     "metadata": {
      "needs_background": "light"
     },
     "output_type": "display_data"
    }
   ],
   "source": [
    "plt.imshow(face_set[0][0])"
   ]
  },
  {
   "cell_type": "code",
   "execution_count": 13,
   "id": "e5bddf7d",
   "metadata": {
    "scrolled": true
   },
   "outputs": [
    {
     "data": {
      "text/plain": [
       "<matplotlib.image.AxesImage at 0x1e50f111390>"
      ]
     },
     "execution_count": 13,
     "metadata": {},
     "output_type": "execute_result"
    },
    {
     "data": {
      "image/png": "[encoded data removed]",
      "text/plain": [
       "<Figure size 432x288 with 1 Axes>"
      ]
     },
     "metadata": {
      "needs_background": "light"
     },
     "output_type": "display_data"
    }
   ],
   "source": [
    "plt.imshow(face_set[0][1])"
   ]
  },
  {
   "cell_type": "code",
   "execution_count": 14,
   "id": "e2d6c633",
   "metadata": {},
   "outputs": [
    {
     "data": {
      "text/plain": [
       "[array([[ 0.49354792,  0.48499987,  0.23223245, -1.1370686 ]],\n",
       "       dtype=float32),\n",
       " array([[-2.8212984 , -0.89220077,  0.9673065 ,  0.6161226 ]],\n",
       "       dtype=float32),\n",
       " array([[ 0.7256668 , -0.04602811, -1.1157286 , -2.8234532 ]],\n",
       "       dtype=float32),\n",
       " array([[-0.48412633, -0.5324375 , -0.79238003, -1.8717617 ]],\n",
       "       dtype=float32)]"
      ]
     },
     "execution_count": 14,
     "metadata": {},
     "output_type": "execute_result"
    }
   ],
   "source": [
    "roi_image = tf.keras.applications.xception.preprocess_input(face_set[0][0])\n",
    "    \n",
    "roi_image = tf.image.resize(images=roi_image,\n",
    "                            size=[img_width, img_height],\n",
    "                            method=tf.image.ResizeMethod.BILINEAR)\n",
    "roi_image = tf.reshape(roi_image, [1, img_width, img_height, 3]) #Reshaped it to (1,299,299,3)\n",
    "result = ER_model.predict(roi_image)\n",
    "result"
   ]
  },
  {
   "cell_type": "code",
   "execution_count": 15,
   "id": "0133fc1b",
   "metadata": {},
   "outputs": [
    {
     "data": {
      "text/plain": [
       "array([2], dtype=int64)"
      ]
     },
     "execution_count": 15,
     "metadata": {},
     "output_type": "execute_result"
    }
   ],
   "source": [
    "np.argmax(result[1],axis=1)"
   ]
  },
  {
   "cell_type": "code",
   "execution_count": 16,
   "id": "c799353c",
   "metadata": {
    "scrolled": true
   },
   "outputs": [
    {
     "data": {
      "text/plain": [
       "[array([[ 0.22731718,  0.36836693,  0.3336102 , -1.9060788 ]],\n",
       "       dtype=float32),\n",
       " array([[-3.6483254 , -1.1214774 ,  0.7965554 ,  0.36537027]],\n",
       "       dtype=float32),\n",
       " array([[ 0.8121222 , -0.42142883, -1.0359799 , -2.761542  ]],\n",
       "       dtype=float32),\n",
       " array([[-0.6855735 , -0.77247924, -1.0635126 , -2.8650286 ]],\n",
       "       dtype=float32)]"
      ]
     },
     "execution_count": 16,
     "metadata": {},
     "output_type": "execute_result"
    }
   ],
   "source": [
    "roi_image = tf.keras.applications.xception.preprocess_input(face_set[0][1])\n",
    "    \n",
    "roi_image = tf.image.resize(images=roi_image,\n",
    "                            size=[img_width, img_height],\n",
    "                            method=tf.image.ResizeMethod.BILINEAR)\n",
    "roi_image = tf.reshape(roi_image, [1, img_width, img_height, 3]) #Reshaped it to (1,299,299,3)\n",
    "result = ER_model.predict(roi_image)\n",
    "result"
   ]
  },
  {
   "cell_type": "code",
   "execution_count": 17,
   "id": "ab0c7771",
   "metadata": {},
   "outputs": [
    {
     "data": {
      "text/plain": [
       "array([2], dtype=int64)"
      ]
     },
     "execution_count": 17,
     "metadata": {},
     "output_type": "execute_result"
    }
   ],
   "source": [
    "np.argmax(result[1],axis=1)"
   ]
  },
  {
   "cell_type": "markdown",
   "id": "0b13b570",
   "metadata": {},
   "source": [
    "# Preparation methods"
   ]
  },
  {
   "cell_type": "code",
   "execution_count": 158,
   "id": "f20b279c",
   "metadata": {},
   "outputs": [],
   "source": [
    "def prepare_sample(sample, face_only=False):\n",
    "    \n",
    "    #raise NotImplementedError\n",
    "    \n",
    "    if face_only:\n",
    "        try:\n",
    "            #datum_img = cv2.imread(sample) \n",
    "            datum_img = cv2.cvtColor(sample, cv2.COLOR_BGR2RGB)\n",
    "            faces = get_faces(datum_img)\n",
    "            face_set = []\n",
    "            for (x,y,w,h) in faces:\n",
    "                ROI = datum_img[y:y+h, x:x+w]\n",
    "                face_set.append(ROI)\n",
    "            sample = face_set[0]\n",
    "        except IndexError:\n",
    "            print('could not find a face for this sample')\n",
    "    \n",
    "    preprocessed = tf.keras.applications.xception.preprocess_input(sample)\n",
    "    \n",
    "    resized = tf.image.resize(images=preprocessed,\n",
    "                                size=[img_width, img_height],\n",
    "                                method=tf.image.ResizeMethod.BILINEAR)\n",
    "    \n",
    "    reshaped = tf.reshape(resized, [1, img_width, img_height, 3]) #Reshaped it to (1,299,299,3)\n",
    "    \n",
    "    return reshaped\n",
    "   "
   ]
  },
  {
   "cell_type": "code",
   "execution_count": 105,
   "id": "e0d57f8a",
   "metadata": {},
   "outputs": [
    {
     "data": {
      "text/plain": [
       "['photo.jpg', 'sandwich.png', 'source.txt']"
      ]
     },
     "execution_count": 105,
     "metadata": {},
     "output_type": "execute_result"
    }
   ],
   "source": [
    "os.listdir('./test_image/')"
   ]
  },
  {
   "cell_type": "code",
   "execution_count": 160,
   "id": "83cffc6d",
   "metadata": {
    "scrolled": true
   },
   "outputs": [
    {
     "name": "stderr",
     "output_type": "stream",
     "text": [
      "Clipping input data to the valid range for imshow with RGB data ([0..1] for floats or [0..255] for integers).\n"
     ]
    },
    {
     "name": "stdout",
     "output_type": "stream",
     "text": [
      "could not find a face for this sample\n"
     ]
    },
    {
     "data": {
      "text/plain": [
       "<matplotlib.image.AxesImage at 0x1e53c67a4a0>"
      ]
     },
     "execution_count": 160,
     "metadata": {},
     "output_type": "execute_result"
    },
    {
     "data": {
      "image/png": "[encoded data removed]",
      "text/plain": [
       "<Figure size 432x288 with 1 Axes>"
      ]
     },
     "metadata": {
      "needs_background": "light"
     },
     "output_type": "display_data"
    }
   ],
   "source": [
    "#sample = './test_image/photo.jpg'\n",
    "sample = './test_image/sandwich.png'\n",
    "face_set = []\n",
    "\n",
    "datum_img = cv2.imread(sample) \n",
    "\n",
    "datum_img = cv2.cvtColor(datum_img, cv2.COLOR_BGR2RGB)\n",
    "\n",
    "prepared = prepare_sample(datum_img, face_only=True)\n",
    "plt.imshow(prepared[0])"
   ]
  },
  {
   "cell_type": "code",
   "execution_count": 162,
   "id": "dee8393d",
   "metadata": {},
   "outputs": [
    {
     "data": {
      "text/plain": [
       "array([3], dtype=int64)"
      ]
     },
     "execution_count": 162,
     "metadata": {},
     "output_type": "execute_result"
    }
   ],
   "source": [
    "sandwich_engagement = ER_model.predict(prepared)\n",
    "np.argmax(sandwich_engagement[1],axis=1)"
   ]
  },
  {
   "cell_type": "code",
   "execution_count": 165,
   "id": "7cbbb5b2",
   "metadata": {},
   "outputs": [],
   "source": [
    "#The sandwich appears to be fully engaged!"
   ]
  },
  {
   "cell_type": "markdown",
   "id": "503c588a",
   "metadata": {},
   "source": [
    "# Look over the entire validation dataset"
   ]
  },
  {
   "cell_type": "code",
   "execution_count": 21,
   "id": "06055fc1",
   "metadata": {},
   "outputs": [],
   "source": [
    "validation_dataset_location = './dataset/Validation'"
   ]
  },
  {
   "cell_type": "code",
   "execution_count": 25,
   "id": "ffb2c777",
   "metadata": {},
   "outputs": [],
   "source": [
    "labels = pd.read_csv(os.path.join(os.getcwd(), 'dataset', 'Labels', 'AllLabels.csv'))\n",
    "females = pd.read_csv(os.path.join(os.getcwd(), 'dataset', 'GenderClips', 'Females'), header=None)\n",
    "males = pd.read_csv(os.path.join(os.getcwd(), 'dataset', 'GenderClips', 'Males'), header=None)\n",
    "\n",
    "females_list = [x[0] for x in females.values.tolist()]\n",
    "males_list = [x[0] for x in males.values.tolist()]"
   ]
  },
  {
   "cell_type": "code",
   "execution_count": 26,
   "id": "623e0c51",
   "metadata": {},
   "outputs": [
    {
     "data": {
      "text/plain": [
       "['1110031003.avi',\n",
       " '1110031007.avi',\n",
       " '1110031010.avi',\n",
       " '1110031011.avi',\n",
       " '1110031012.avi',\n",
       " '1110031014.avi',\n",
       " '1110031019.avi',\n",
       " '1110031020.avi',\n",
       " '1110031021.avi',\n",
       " '1110031025.avi',\n",
       " '1110031027.avi',\n",
       " '1110031031.avi',\n",
       " '1110031033.avi',\n",
       " '1110031037.avi',\n",
       " '1110031038.avi',\n",
       " '1110031039.avi',\n",
       " '1110031040.avi',\n",
       " '1110031042.avi',\n",
       " '1110031048.avi',\n",
       " '1110031049.avi',\n",
       " '1110031050.avi',\n",
       " '1110031056.avi',\n",
       " '1110031061.avi',\n",
       " '1110031062.avi',\n",
       " '1110031063.avi',\n",
       " '1110031064.avi',\n",
       " '1110031065.avi',\n",
       " '1110032002.avi',\n",
       " '1110032004.avi',\n",
       " '1110032006.avi',\n",
       " '1110032008.avi',\n",
       " '1110032010.avi',\n",
       " '1110032014.avi',\n",
       " '1110032015.avi',\n",
       " '1110032018.avi',\n",
       " '1110032019.avi',\n",
       " '1110032020.avi',\n",
       " '1110032021.avi',\n",
       " '1110032022.avi',\n",
       " '1110032023.avi',\n",
       " '1110032024.avi',\n",
       " '1110032025.avi',\n",
       " '1110032027.avi',\n",
       " '1110032029.avi',\n",
       " '1110032031.avi',\n",
       " '1110032032.avi',\n",
       " '1110032033.avi',\n",
       " '1110032034.avi',\n",
       " '1110032036.avi',\n",
       " '1110032037.avi',\n",
       " '1110032042.avi',\n",
       " '1110032043.avi',\n",
       " '1110032045.avi',\n",
       " '1110032047.avi',\n",
       " '1110032048.avi',\n",
       " '1110032049.avi',\n",
       " '1110032050.avi',\n",
       " '1110032051.avi',\n",
       " '1110032052.avi',\n",
       " '1110032053.avi',\n",
       " '1110032055.avi',\n",
       " '1110032056.avi',\n",
       " '1110032058.avi',\n",
       " '1110032059.avi',\n",
       " '1110032060.avi',\n",
       " '1110032061.avi',\n",
       " '1110032062.avi',\n",
       " '1110032063.avi',\n",
       " '1813740111.avi',\n",
       " '1813740112.avi',\n",
       " '1813740115.avi',\n",
       " '1813740116.avi',\n",
       " '1813740118.avi',\n",
       " '1813740119.avi',\n",
       " '1813740122.avi',\n",
       " '1813740123.avi',\n",
       " '1813740124.avi',\n",
       " '1813740126.avi',\n",
       " '1813740127.avi',\n",
       " '1813740128.avi',\n",
       " '1813740131.avi',\n",
       " '1813740133.avi',\n",
       " '1813740135.avi',\n",
       " '1813740137.avi',\n",
       " '1813740138.avi',\n",
       " '1813740143.avi',\n",
       " '1813740144.avi',\n",
       " '1813740149.avi',\n",
       " '181374015.avi',\n",
       " '1813740150.avi',\n",
       " '1813740153.avi',\n",
       " '1813740155.avi',\n",
       " '1813740157.avi',\n",
       " '1813740159.avi',\n",
       " '181374016.avi',\n",
       " '1813740162.avi',\n",
       " '1813740164.avi',\n",
       " '1813740165.avi',\n",
       " '1813740167.avi',\n",
       " '1813740168.avi',\n",
       " '1813740169.avi',\n",
       " '181374017.avi',\n",
       " '1813740171.avi',\n",
       " '1813740172.avi',\n",
       " '1813740173.avi',\n",
       " '1813740174.avi',\n",
       " '1813740176.avi',\n",
       " '1813740178.avi',\n",
       " '1813740179.avi',\n",
       " '1813740180.avi',\n",
       " '1813740181.avi',\n",
       " '1813740182.avi',\n",
       " '1813740183.avi',\n",
       " '1813740184.avi',\n",
       " '1813740185.avi',\n",
       " '181374019.avi',\n",
       " '1813740210.avi',\n",
       " '1813740211.avi',\n",
       " '1813740212.avi',\n",
       " '1813740213.avi',\n",
       " '1813740214.avi',\n",
       " '1813740218.avi',\n",
       " '1813740219.avi',\n",
       " '1813740220.avi',\n",
       " '1813740221.avi',\n",
       " '1813740224.avi',\n",
       " '1813740225.avi',\n",
       " '1813740226.avi',\n",
       " '1813740227.avi',\n",
       " '1813740229.avi',\n",
       " '181374023.avi',\n",
       " '1813740231.avi',\n",
       " '1813740232.avi',\n",
       " '1813740233.avi',\n",
       " '1813740234.avi',\n",
       " '1813740235.avi',\n",
       " '1813740236.avi',\n",
       " '1813740237.avi',\n",
       " '1813740238.avi',\n",
       " '181374024.avi',\n",
       " '1813740240.avi',\n",
       " '1813740241.avi',\n",
       " '1813740242.avi',\n",
       " '1813740243.avi',\n",
       " '1813740245.avi',\n",
       " '1813740249.avi',\n",
       " '181374025.avi',\n",
       " '1813740250.avi',\n",
       " '1813740251.avi',\n",
       " '1813740252.avi',\n",
       " '1813740253.avi',\n",
       " '1813740255.avi',\n",
       " '1813740256.avi',\n",
       " '1813740257.avi',\n",
       " '1813740258.avi',\n",
       " '1813740259.avi',\n",
       " '181374026.avi',\n",
       " '1813740260.avi',\n",
       " '1813740261.avi',\n",
       " '1813740262.avi',\n",
       " '1813740263.avi',\n",
       " '1813740264.avi',\n",
       " '1813740265.avi',\n",
       " '1813740266.avi',\n",
       " '1813740267.avi',\n",
       " '1813740268.avi',\n",
       " '1813740269.avi',\n",
       " '181374027.avi',\n",
       " '1813740270.avi',\n",
       " '1813740271.avi',\n",
       " '1813740272.avi',\n",
       " '1813740273.avi',\n",
       " '1813740274.avi',\n",
       " '1813740275.avi',\n",
       " '1813740276.avi',\n",
       " '1813740277.avi',\n",
       " '1813740278.avi',\n",
       " '1813740279.avi',\n",
       " '181374028.avi',\n",
       " '181374029.avi',\n",
       " '2026140111.mp4',\n",
       " '2026140113.mp4',\n",
       " '2026140116.mp4',\n",
       " '2026140117.mp4',\n",
       " '2026140118.mp4',\n",
       " '2026140119.mp4',\n",
       " '2026140120.mp4',\n",
       " '2026140122.mp4',\n",
       " '2026140124.mp4',\n",
       " '2026140125.mp4',\n",
       " '2026140126.mp4',\n",
       " '2026140128.mp4',\n",
       " '2026140129.mp4',\n",
       " '2026140130.mp4',\n",
       " '2026140131.mp4',\n",
       " '2026140133.mp4',\n",
       " '2026140134.mp4',\n",
       " '2026140135.mp4',\n",
       " '2026140138.mp4',\n",
       " '2026140141.mp4',\n",
       " '2026140145.mp4',\n",
       " '2026140147.mp4',\n",
       " '2026140149.mp4',\n",
       " '202614015.mp4',\n",
       " '2026140151.mp4',\n",
       " '2026140154.mp4',\n",
       " '2026140158.mp4',\n",
       " '2026140159.mp4',\n",
       " '202614016.mp4',\n",
       " '2026140160.mp4',\n",
       " '2026140161.mp4',\n",
       " '2026140165.mp4',\n",
       " '2026140169.mp4',\n",
       " '202614017.mp4',\n",
       " '2026140170.mp4',\n",
       " '2026140172.mp4',\n",
       " '202614018.mp4',\n",
       " '202614019.mp4',\n",
       " '202614020.mp4',\n",
       " '202614021.mp4',\n",
       " '2026140210.mp4',\n",
       " '2026140212.mp4',\n",
       " '2026140213.mp4',\n",
       " '2026140220.mp4',\n",
       " '2026140221.mp4',\n",
       " '2026140223.mp4',\n",
       " '2026140224.mp4',\n",
       " '2026140225.mp4',\n",
       " '202614023.mp4',\n",
       " '2026140230.mp4',\n",
       " '2026140233.mp4',\n",
       " '2026140236.mp4',\n",
       " '2026140237.mp4',\n",
       " '2026140239.mp4',\n",
       " '2026140241.mp4',\n",
       " '2026140243.mp4',\n",
       " '2026140246.mp4',\n",
       " '2026140247.mp4',\n",
       " '2026140249.mp4',\n",
       " '202614025.mp4',\n",
       " '2026140250.mp4',\n",
       " '2026140253.mp4',\n",
       " '2026140254.mp4',\n",
       " '2026140255.mp4',\n",
       " '2026140257.mp4',\n",
       " '2026140259.mp4',\n",
       " '2026140260.mp4',\n",
       " '2026140263.mp4',\n",
       " '2026140264.mp4',\n",
       " '2026140272.mp4',\n",
       " '2026140273.mp4',\n",
       " '2026140275.mp4',\n",
       " '2026140276.mp4',\n",
       " '2026140277.mp4',\n",
       " '2026140279.mp4',\n",
       " '2026140281.mp4',\n",
       " '202614029.mp4',\n",
       " '205601011.avi',\n",
       " '2056010112.avi',\n",
       " '2056010113.avi',\n",
       " '2056010114.avi',\n",
       " '2056010116.avi',\n",
       " '2056010118.avi',\n",
       " '2056010119.avi',\n",
       " '205601012.avi',\n",
       " '2056010120.avi',\n",
       " '2056010122.avi',\n",
       " '2056010123.avi',\n",
       " '2056010124.avi',\n",
       " '2056010126.avi',\n",
       " '2056010130.avi',\n",
       " '2056010133.avi',\n",
       " '2056010134.avi',\n",
       " '2056010136.avi',\n",
       " '2056010137.avi',\n",
       " '2056010139.avi',\n",
       " '2056010141.avi',\n",
       " '2056010142.avi',\n",
       " '2056010148.avi',\n",
       " '2056010149.avi',\n",
       " '2056010153.avi',\n",
       " '2056010155.avi',\n",
       " '2056010156.avi',\n",
       " '2056010157.avi',\n",
       " '205601016.avi',\n",
       " '2056010160.avi',\n",
       " '2056010162.avi',\n",
       " '2056010164.avi',\n",
       " '2056010165.avi',\n",
       " '2056010167.avi',\n",
       " '205601017.avi',\n",
       " '205601018.avi',\n",
       " '2056010210.avi',\n",
       " '2056010212.avi',\n",
       " '2056010213.avi',\n",
       " '2056010214.avi',\n",
       " '2056010215.avi',\n",
       " '2056010218.avi',\n",
       " '2056010219.avi',\n",
       " '2056010222.avi',\n",
       " '2056010224.avi',\n",
       " '2056010225.avi',\n",
       " '2056010226.avi',\n",
       " '2056010228.avi',\n",
       " '2056010229.avi',\n",
       " '2056010230.avi',\n",
       " '2056010232.avi',\n",
       " '2056010233.avi',\n",
       " '2056010234.avi',\n",
       " '2056010235.avi',\n",
       " '2056010236.avi',\n",
       " '2056010238.avi',\n",
       " '2056010239.avi',\n",
       " '205601024.avi',\n",
       " '2056010240.avi',\n",
       " '2056010241.avi',\n",
       " '2056010242.avi',\n",
       " '2056010244.avi',\n",
       " '2056010245.avi',\n",
       " '2056010247.avi',\n",
       " '2056010249.avi',\n",
       " '205601025.avi',\n",
       " '2056010250.avi',\n",
       " '2056010252.avi',\n",
       " '2056010253.avi',\n",
       " '2056010254.avi',\n",
       " '2056010255.avi',\n",
       " '2056010258.avi',\n",
       " '2056010260.avi',\n",
       " '2056010261.avi',\n",
       " '2056010262.avi',\n",
       " '2056010263.avi',\n",
       " '2056010265.avi',\n",
       " '2056010267.avi',\n",
       " '2056010269.avi',\n",
       " '205601027.avi',\n",
       " '2056010272.avi',\n",
       " '2056010274.avi',\n",
       " '2056010275.avi',\n",
       " '2056010276.avi',\n",
       " '2056010277.avi',\n",
       " '2056010279.avi',\n",
       " '205601028.avi',\n",
       " '2056010281.avi',\n",
       " '2056010283.avi',\n",
       " '2260510110.avi',\n",
       " '2260510113.avi',\n",
       " '2260510114.avi',\n",
       " '2260510115.avi',\n",
       " '2260510116.avi',\n",
       " '2260510118.avi',\n",
       " '2260510122.avi',\n",
       " '2260510124.avi',\n",
       " '2260510125.avi',\n",
       " '2260510126.avi',\n",
       " '2260510127.avi',\n",
       " '2260510129.avi',\n",
       " '226051013.avi',\n",
       " '2260510131.avi',\n",
       " '2260510134.avi',\n",
       " '2260510136.avi',\n",
       " '2260510138.avi',\n",
       " '2260510139.avi',\n",
       " '226051014.avi',\n",
       " '2260510140.avi',\n",
       " '2260510141.avi',\n",
       " '2260510142.avi',\n",
       " '2260510143.avi',\n",
       " '2260510146.avi',\n",
       " '2260510147.avi',\n",
       " '2260510148.avi',\n",
       " '2260510151.avi',\n",
       " '2260510152.avi',\n",
       " '2260510155.avi',\n",
       " '2260510156.avi',\n",
       " '2260510158.avi',\n",
       " '2260510159.avi',\n",
       " '226051016.avi',\n",
       " '2260510160.avi',\n",
       " '2260510162.avi',\n",
       " '2260510163.avi',\n",
       " '2260510167.avi',\n",
       " '2260510168.avi',\n",
       " '226051017.avi',\n",
       " '2260510172.avi',\n",
       " '2260510174.avi',\n",
       " '2260510176.avi',\n",
       " '2260510177.avi',\n",
       " '2260510180.avi',\n",
       " '2260510182.avi',\n",
       " '2260510183.avi',\n",
       " '2260510185.avi',\n",
       " '226051019.avi',\n",
       " '226051021.avi',\n",
       " '2260510212.avi',\n",
       " '2260510213.avi',\n",
       " '2260510214.avi',\n",
       " '2260510217.avi',\n",
       " '226051022.avi',\n",
       " '2260510220.avi',\n",
       " '2260510221.avi',\n",
       " '2260510222.avi',\n",
       " '2260510223.avi',\n",
       " '2260510227.avi',\n",
       " '2260510228.avi',\n",
       " '2260510229.avi',\n",
       " '226051023.avi',\n",
       " '2260510230.avi',\n",
       " '2260510231.avi',\n",
       " '2260510232.avi',\n",
       " '2260510233.avi',\n",
       " '2260510237.avi',\n",
       " '2260510238.avi',\n",
       " '2260510240.avi',\n",
       " '2260510241.avi',\n",
       " '2260510242.avi',\n",
       " '2260510243.avi',\n",
       " '2260510244.avi',\n",
       " '2260510247.avi',\n",
       " '2260510248.avi',\n",
       " '226051025.avi',\n",
       " '2260510250.avi',\n",
       " '2260510252.avi',\n",
       " '2260510253.avi',\n",
       " '2260510254.avi',\n",
       " '2260510257.avi',\n",
       " '2260510258.avi',\n",
       " '2260510259.avi',\n",
       " '226051026.avi',\n",
       " '2260510260.avi',\n",
       " '2260510262.avi',\n",
       " '2260510266.avi',\n",
       " '2260510267.avi',\n",
       " '226051027.avi',\n",
       " '2260510270.avi',\n",
       " '2260510271.avi',\n",
       " '2260510272.avi',\n",
       " '2260510276.avi',\n",
       " '2260510277.avi',\n",
       " '2260510278.avi',\n",
       " '240846010.avi',\n",
       " '240846011.avi',\n",
       " '2408460110.avi',\n",
       " '2408460111.avi',\n",
       " '2408460118.avi',\n",
       " '240846012.avi',\n",
       " '2408460120.avi',\n",
       " '2408460123.avi',\n",
       " '2408460125.avi',\n",
       " '2408460126.avi',\n",
       " '2408460127.avi',\n",
       " '2408460129.avi',\n",
       " '240846013.avi',\n",
       " '2408460130.avi',\n",
       " '2408460131.avi',\n",
       " '2408460132.avi',\n",
       " '2408460133.avi',\n",
       " '2408460134.avi',\n",
       " '2408460135.avi',\n",
       " '2408460137.avi',\n",
       " '2408460139.avi',\n",
       " '2408460143.avi',\n",
       " '2408460145.avi',\n",
       " '2408460146.avi',\n",
       " '2408460148.avi',\n",
       " '2408460149.avi',\n",
       " '240846015.avi',\n",
       " '2408460150.avi',\n",
       " '2408460151.avi',\n",
       " '2408460152.avi',\n",
       " '2408460154.avi',\n",
       " '2408460155.avi',\n",
       " '2408460156.avi',\n",
       " '2408460158.avi',\n",
       " '2408460159.avi',\n",
       " '240846016.avi',\n",
       " '2408460163.avi',\n",
       " '2408460166.avi',\n",
       " '240846017.avi',\n",
       " '240846018.avi',\n",
       " '240846019.avi',\n",
       " '2408460211.avi',\n",
       " '2408460212.avi',\n",
       " '2408460213.avi',\n",
       " '2408460215.avi',\n",
       " '2408460217.avi',\n",
       " '2408460219.avi',\n",
       " '240846022.avi',\n",
       " '2408460220.avi',\n",
       " '2408460221.avi',\n",
       " '2408460222.avi',\n",
       " '2408460223.avi',\n",
       " '2408460225.avi',\n",
       " '2408460226.avi',\n",
       " '2408460227.avi',\n",
       " '2408460229.avi',\n",
       " '240846023.avi',\n",
       " '2408460234.avi',\n",
       " '2408460236.avi',\n",
       " '2408460237.avi',\n",
       " '2408460238.avi',\n",
       " '240846024.avi',\n",
       " '2408460240.avi',\n",
       " '2408460242.avi',\n",
       " '2408460243.avi',\n",
       " '2408460244.avi',\n",
       " '2408460246.avi',\n",
       " '2408460247.avi',\n",
       " '2408460249.avi',\n",
       " '2408460252.avi',\n",
       " '2408460254.avi',\n",
       " '2408460255.avi',\n",
       " '2408460257.avi',\n",
       " '2408460260.avi',\n",
       " '2408460261.avi',\n",
       " '2408460265.avi',\n",
       " '2408460266.avi',\n",
       " '2408460268.avi',\n",
       " '2408460269.avi',\n",
       " '240846027.avi',\n",
       " '2408460271.avi',\n",
       " '2408460272.avi',\n",
       " '2408460274.avi',\n",
       " '2408460276.avi',\n",
       " '2408460277.avi',\n",
       " '2408460278.avi',\n",
       " '240846028.avi',\n",
       " '2408460280.avi',\n",
       " '240846029.avi',\n",
       " '24851011.mp4',\n",
       " '248510111.mp4',\n",
       " '248510112.mp4',\n",
       " '248510114.mp4',\n",
       " '248510116.mp4',\n",
       " '248510117.mp4',\n",
       " '248510118.mp4',\n",
       " '248510119.mp4',\n",
       " '248510120.mp4',\n",
       " '248510125.mp4',\n",
       " '248510127.mp4',\n",
       " '248510128.mp4',\n",
       " '248510129.mp4',\n",
       " '24851013.mp4',\n",
       " '248510131.mp4',\n",
       " '248510136.mp4',\n",
       " '248510137.mp4',\n",
       " '24851014.mp4',\n",
       " '248510142.mp4',\n",
       " '248510147.mp4',\n",
       " '248510148.mp4',\n",
       " '24851015.mp4',\n",
       " '248510150.mp4',\n",
       " '248510151.mp4',\n",
       " '248510153.mp4',\n",
       " '248510155.mp4',\n",
       " '248510156.mp4',\n",
       " '248510157.mp4',\n",
       " '248510160.mp4',\n",
       " '248510161.mp4',\n",
       " '248510163.mp4',\n",
       " '248510164.mp4',\n",
       " '248510167.mp4',\n",
       " '248510170.mp4',\n",
       " '24851018.mp4',\n",
       " '24851019.mp4',\n",
       " '248510211.mp4',\n",
       " '248510212.mp4',\n",
       " '248510213.mp4',\n",
       " '248510214.mp4',\n",
       " '248510215.mp4',\n",
       " '248510216.mp4',\n",
       " '24851022.mp4',\n",
       " '248510220.mp4',\n",
       " '248510223.mp4',\n",
       " '248510225.mp4',\n",
       " '248510227.mp4',\n",
       " '248510229.mp4',\n",
       " '248510230.mp4',\n",
       " '248510232.mp4',\n",
       " '248510233.mp4',\n",
       " '248510235.mp4',\n",
       " '248510236.mp4',\n",
       " '24851024.mp4',\n",
       " '248510241.mp4',\n",
       " '248510242.mp4',\n",
       " '248510245.mp4',\n",
       " '248510246.mp4',\n",
       " '248510248.mp4',\n",
       " '248510249.mp4',\n",
       " '248510250.mp4',\n",
       " '248510251.mp4',\n",
       " '248510253.mp4',\n",
       " '248510255.mp4',\n",
       " '248510256.mp4',\n",
       " '248510259.mp4',\n",
       " '24851026.mp4',\n",
       " '248510260.mp4',\n",
       " '248510262.mp4',\n",
       " '248510264.mp4',\n",
       " '248510265.mp4',\n",
       " '248510267.mp4',\n",
       " '248510268.mp4',\n",
       " '24851027.mp4',\n",
       " '248510271.mp4',\n",
       " '248510272.mp4',\n",
       " '248510273.mp4',\n",
       " '248510276.mp4',\n",
       " '248510278.mp4',\n",
       " '24851028.mp4',\n",
       " '2904280110.mp4',\n",
       " '29042801110.mp4',\n",
       " '29042801170.mp4',\n",
       " '29042801180.mp4',\n",
       " '2904280120.mp4',\n",
       " '29042801220.mp4',\n",
       " '29042801230.mp4',\n",
       " '29042801250.mp4',\n",
       " '29042801260.mp4',\n",
       " '29042801290.mp4',\n",
       " '29042801300.mp4',\n",
       " '29042801320.mp4',\n",
       " '29042801340.mp4',\n",
       " '29042801350.mp4',\n",
       " '29042801370.mp4',\n",
       " '29042801390.mp4',\n",
       " '2904280140.mp4',\n",
       " '29042801440.mp4',\n",
       " '29042801450.mp4',\n",
       " '29042801470.mp4',\n",
       " '29042801480.mp4',\n",
       " '2904280150.mp4',\n",
       " '29042801500.mp4',\n",
       " '29042801550.mp4',\n",
       " '29042801570.mp4',\n",
       " '29042801580.mp4',\n",
       " '2904280160.mp4',\n",
       " '29042801600.mp4',\n",
       " '29042801630.mp4',\n",
       " '29042801640.mp4',\n",
       " '29042801650.mp4',\n",
       " '29042801680.mp4',\n",
       " '29042801690.mp4',\n",
       " '2904280170.mp4',\n",
       " '29042801710.mp4',\n",
       " '29042801740.mp4',\n",
       " '29042801750.mp4',\n",
       " '29042801770.mp4',\n",
       " '29042801780.mp4',\n",
       " '29042801790.mp4',\n",
       " '2904280180.mp4',\n",
       " '2904280190.mp4',\n",
       " '29042802110.mp4',\n",
       " '29042802140.mp4',\n",
       " '29042802150.mp4',\n",
       " '29042802180.mp4',\n",
       " '29042802200.mp4',\n",
       " '29042802220.mp4',\n",
       " '29042802240.mp4',\n",
       " '29042802260.mp4',\n",
       " '29042802280.mp4',\n",
       " '2904280230.mp4',\n",
       " '29042802310.mp4',\n",
       " '29042802320.mp4',\n",
       " '29042802340.mp4',\n",
       " '29042802350.mp4',\n",
       " '29042802380.mp4',\n",
       " '29042802390.mp4',\n",
       " '29042802410.mp4',\n",
       " '29042802420.mp4',\n",
       " '29042802430.mp4',\n",
       " '29042802440.mp4',\n",
       " '29042802450.mp4',\n",
       " '29042802460.mp4',\n",
       " '29042802470.mp4',\n",
       " '29042802480.mp4',\n",
       " '2904280250.mp4',\n",
       " '29042802500.mp4',\n",
       " '29042802510.mp4',\n",
       " '29042802520.mp4',\n",
       " '29042802530.mp4',\n",
       " '29042802560.mp4',\n",
       " '29042802570.mp4',\n",
       " '2904280260.mp4',\n",
       " '29042802600.mp4',\n",
       " '29042802640.mp4',\n",
       " '29042802660.mp4',\n",
       " '29042802670.mp4',\n",
       " '29042802680.mp4',\n",
       " '29042802690.mp4',\n",
       " '2904280270.mp4',\n",
       " '29042802700.mp4',\n",
       " '29042802720.mp4',\n",
       " '29042802740.mp4',\n",
       " '29042802750.mp4',\n",
       " '29042802760.mp4',\n",
       " '29042802770.mp4',\n",
       " '29042802790.mp4',\n",
       " '2904280280.mp4',\n",
       " '29042802800.mp4',\n",
       " '29042802830.mp4',\n",
       " '29042802860.mp4',\n",
       " '2904280290.mp4',\n",
       " '303830110.mp4',\n",
       " '303830113.mp4',\n",
       " '303830115.mp4',\n",
       " '303830117.mp4',\n",
       " '303830118.mp4',\n",
       " '303830121.mp4',\n",
       " '303830122.mp4',\n",
       " '303830123.mp4',\n",
       " '303830126.mp4',\n",
       " '303830127.mp4',\n",
       " '303830128.mp4',\n",
       " '30383013.mp4',\n",
       " '303830131.mp4',\n",
       " '303830132.mp4',\n",
       " '303830133.mp4',\n",
       " '303830138.mp4',\n",
       " '303830139.mp4',\n",
       " '30383014.mp4',\n",
       " '303830141.mp4',\n",
       " '303830143.mp4',\n",
       " '303830144.mp4',\n",
       " '303830146.mp4',\n",
       " '303830147.mp4',\n",
       " '303830148.mp4',\n",
       " '303830149.mp4',\n",
       " '30383015.mp4',\n",
       " '303830151.mp4',\n",
       " '303830155.mp4',\n",
       " '303830156.mp4',\n",
       " '303830157.mp4',\n",
       " '303830158.mp4',\n",
       " '303830159.mp4',\n",
       " '30383016.mp4',\n",
       " '303830160.mp4',\n",
       " '303830161.mp4',\n",
       " '303830162.mp4',\n",
       " '303830166.mp4',\n",
       " '303830167.mp4',\n",
       " '303830169.mp4',\n",
       " '303830171.mp4',\n",
       " '303830174.mp4',\n",
       " '303830175.mp4',\n",
       " '303830178.mp4',\n",
       " '303830182.mp4',\n",
       " '303830183.mp4',\n",
       " '303830184.mp4',\n",
       " '303830210.mp4',\n",
       " '303830211.mp4',\n",
       " '303830212.mp4',\n",
       " '303830216.mp4',\n",
       " '303830217.mp4',\n",
       " '303830218.mp4',\n",
       " '30383022.mp4',\n",
       " '303830220.mp4',\n",
       " '303830221.mp4',\n",
       " '303830223.mp4',\n",
       " '303830224.mp4',\n",
       " '303830225.mp4',\n",
       " '303830227.mp4',\n",
       " '303830229.mp4',\n",
       " '30383023.mp4',\n",
       " '303830234.mp4',\n",
       " '303830236.mp4',\n",
       " '303830239.mp4',\n",
       " '303830240.mp4',\n",
       " '303830241.mp4',\n",
       " '303830242.mp4',\n",
       " '303830245.mp4',\n",
       " '303830246.mp4',\n",
       " '303830247.mp4',\n",
       " '303830249.mp4',\n",
       " '30383025.mp4',\n",
       " '303830250.mp4',\n",
       " '303830255.mp4',\n",
       " '303830258.mp4',\n",
       " '303830259.mp4',\n",
       " '303830263.mp4',\n",
       " '303830269.mp4',\n",
       " '303830270.mp4',\n",
       " '303830273.mp4',\n",
       " '303830274.mp4',\n",
       " '303830278.mp4',\n",
       " '30383028.mp4',\n",
       " '3344630110.avi',\n",
       " '33446301100.avi',\n",
       " '33446301101.avi',\n",
       " '33446301103.avi',\n",
       " '33446301104.avi',\n",
       " '33446301107.avi',\n",
       " '3344630112.avi',\n",
       " '3344630113.avi',\n",
       " '3344630115.avi',\n",
       " '3344630116.avi',\n",
       " '3344630117.avi',\n",
       " '3344630119.avi',\n",
       " '334463012.avi',\n",
       " '3344630120.avi',\n",
       " '3344630121.avi',\n",
       " '3344630127.avi',\n",
       " '3344630130.avi',\n",
       " '3344630131.avi',\n",
       " '3344630132.avi',\n",
       " '3344630133.avi',\n",
       " '3344630136.avi',\n",
       " '3344630139.avi',\n",
       " '334463014.avi',\n",
       " '3344630140.avi',\n",
       " '3344630141.avi',\n",
       " '3344630142.avi',\n",
       " '3344630143.avi',\n",
       " '3344630146.avi',\n",
       " '3344630147.avi',\n",
       " '3344630148.avi',\n",
       " '3344630149.avi',\n",
       " '3344630150.avi',\n",
       " '3344630151.avi',\n",
       " '3344630153.avi',\n",
       " '3344630156.avi',\n",
       " '3344630161.avi',\n",
       " '3344630162.avi',\n",
       " '3344630163.avi',\n",
       " '3344630164.avi',\n",
       " '3344630166.avi',\n",
       " '3344630170.avi',\n",
       " '3344630171.avi',\n",
       " '3344630172.avi',\n",
       " '3344630173.avi',\n",
       " '3344630176.avi',\n",
       " '3344630179.avi',\n",
       " '3344630180.avi',\n",
       " '3344630181.avi',\n",
       " '3344630182.avi',\n",
       " '3344630184.avi',\n",
       " '3344630185.avi',\n",
       " '3344630186.avi',\n",
       " '3344630188.avi',\n",
       " '3344630189.avi',\n",
       " '334463019.avi',\n",
       " '3344630190.avi',\n",
       " '3344630196.avi',\n",
       " '3344630197.avi',\n",
       " '3344630198.avi',\n",
       " '3344630199.avi',\n",
       " '334463021.avi',\n",
       " '3344630210.avi',\n",
       " '3344630211.avi',\n",
       " '3344630213.avi',\n",
       " '3344630215.avi',\n",
       " '3344630216.avi',\n",
       " '3344630219.avi',\n",
       " '334463022.avi',\n",
       " '3344630220.avi',\n",
       " '3344630221.avi',\n",
       " '3344630224.avi',\n",
       " '3344630225.avi',\n",
       " '3344630226.avi',\n",
       " '3344630231.avi',\n",
       " '3344630232.avi',\n",
       " '3344630233.avi',\n",
       " '3344630236.avi',\n",
       " '3344630238.avi',\n",
       " '3344630240.avi',\n",
       " '3344630241.avi',\n",
       " '3344630242.avi',\n",
       " '3344630243.avi',\n",
       " '3344630245.avi',\n",
       " '3344630247.avi',\n",
       " '3344630248.avi',\n",
       " '334463025.avi',\n",
       " '3344630251.avi',\n",
       " '3344630252.avi',\n",
       " '3344630255.avi',\n",
       " '3344630257.avi',\n",
       " '334463026.avi',\n",
       " '3344630260.avi',\n",
       " '3344630262.avi',\n",
       " '3344630264.avi',\n",
       " '3344630265.avi',\n",
       " '3344630266.avi',\n",
       " '3344630267.avi',\n",
       " '334463027.avi',\n",
       " '3344630270.avi',\n",
       " '3344630271.avi',\n",
       " '3344630273.avi',\n",
       " '3344630276.avi',\n",
       " '3344630278.avi',\n",
       " '334463028.avi',\n",
       " '3344630280.avi',\n",
       " '3344630281.avi',\n",
       " '3344630282.avi',\n",
       " '334463029.avi',\n",
       " '33702101100.mp4',\n",
       " '33702101110.mp4',\n",
       " '33702101130.mp4',\n",
       " '33702101140.mp4',\n",
       " '33702101150.mp4',\n",
       " '33702101180.mp4',\n",
       " '33702101200.mp4',\n",
       " '33702101210.mp4',\n",
       " '33702101250.mp4',\n",
       " '33702101260.mp4',\n",
       " '33702101270.mp4',\n",
       " '33702101280.mp4',\n",
       " '33702101290.mp4',\n",
       " '33702101300.mp4',\n",
       " '33702101340.mp4',\n",
       " '33702101350.mp4',\n",
       " '33702101360.mp4',\n",
       " '33702101370.mp4',\n",
       " '33702101410.mp4',\n",
       " '33702101430.mp4',\n",
       " '33702101450.mp4',\n",
       " '33702101460.mp4',\n",
       " '33702101470.mp4',\n",
       " '33702101480.mp4',\n",
       " '33702101490.mp4',\n",
       " '3370210150.mp4',\n",
       " '33702101500.mp4',\n",
       " '33702101530.mp4',\n",
       " '33702101540.mp4',\n",
       " '33702101550.mp4',\n",
       " '33702101580.mp4',\n",
       " '33702101590.mp4',\n",
       " '33702101600.mp4',\n",
       " '33702101620.mp4',\n",
       " '33702101630.mp4',\n",
       " '33702101640.mp4',\n",
       " '33702101650.mp4',\n",
       " '33702101660.mp4',\n",
       " '33702101700.mp4',\n",
       " '33702101710.mp4',\n",
       " '33702101730.mp4',\n",
       " '33702101740.mp4',\n",
       " '33702101750.mp4',\n",
       " '33702101760.mp4',\n",
       " '3370210180.mp4',\n",
       " '33702102100.mp4',\n",
       " '33702102110.mp4',\n",
       " '33702102130.mp4',\n",
       " '33702102140.mp4',\n",
       " '33702102160.mp4',\n",
       " '33702102170.mp4',\n",
       " '33702102180.mp4',\n",
       " '33702102190.mp4',\n",
       " '33702102200.mp4',\n",
       " '33702102220.mp4',\n",
       " '33702102230.mp4',\n",
       " '33702102240.mp4',\n",
       " '33702102250.mp4',\n",
       " '33702102280.mp4',\n",
       " '3370210230.mp4',\n",
       " '33702102300.mp4',\n",
       " '33702102310.mp4',\n",
       " '33702102330.mp4',\n",
       " '33702102350.mp4',\n",
       " '33702102390.mp4',\n",
       " '3370210240.mp4',\n",
       " '33702102400.mp4',\n",
       " '33702102420.mp4',\n",
       " '33702102430.mp4',\n",
       " '33702102470.mp4',\n",
       " '33702102500.mp4',\n",
       " '33702102530.mp4',\n",
       " '33702102540.mp4',\n",
       " '33702102550.mp4',\n",
       " '33702102570.mp4',\n",
       " '33702102580.mp4',\n",
       " '33702102590.mp4',\n",
       " '3370210260.mp4',\n",
       " '33702102600.mp4',\n",
       " '33702102640.mp4',\n",
       " '33702102670.mp4',\n",
       " '33702102690.mp4',\n",
       " '33702102710.mp4',\n",
       " '33702102740.mp4',\n",
       " '3370210280.mp4',\n",
       " '33702102820.mp4',\n",
       " '33702102840.mp4',\n",
       " '33702102850.mp4',\n",
       " '33702102870.mp4',\n",
       " '33702102880.mp4',\n",
       " '342227010.avi',\n",
       " '342227011.avi',\n",
       " '3422270111.avi',\n",
       " '3422270112.avi',\n",
       " '3422270115.avi',\n",
       " '3422270116.avi',\n",
       " '3422270117.avi',\n",
       " '3422270118.avi',\n",
       " '3422270121.avi',\n",
       " '3422270122.avi',\n",
       " '3422270123.avi',\n",
       " '3422270126.avi',\n",
       " '3422270127.avi',\n",
       " '3422270128.avi',\n",
       " '3422270129.avi',\n",
       " '342227013.avi',\n",
       " '3422270130.avi',\n",
       " ...]"
      ]
     },
     "execution_count": 26,
     "metadata": {},
     "output_type": "execute_result"
    }
   ],
   "source": [
    "females_list"
   ]
  },
  {
   "cell_type": "code",
   "execution_count": 31,
   "id": "f611f4c2",
   "metadata": {},
   "outputs": [],
   "source": [
    "# Add gender feature columns\n",
    "labels['male'] = labels.apply(lambda x: x['ClipID'] in males_list, axis=1)\n",
    "labels['female'] = labels.apply(lambda x: x['ClipID'] in females_list, axis=1)"
   ]
  },
  {
   "cell_type": "code",
   "execution_count": 32,
   "id": "27096207",
   "metadata": {},
   "outputs": [
    {
     "data": {
      "text/html": [
       "<div>\n",
       "<style scoped>\n",
       "    .dataframe tbody tr th:only-of-type {\n",
       "        vertical-align: middle;\n",
       "    }\n",
       "\n",
       "    .dataframe tbody tr th {\n",
       "        vertical-align: top;\n",
       "    }\n",
       "\n",
       "    .dataframe thead th {\n",
       "        text-align: right;\n",
       "    }\n",
       "</style>\n",
       "<table border=\"1\" class=\"dataframe\">\n",
       "  <thead>\n",
       "    <tr style=\"text-align: right;\">\n",
       "      <th></th>\n",
       "      <th>ClipID</th>\n",
       "      <th>Boredom</th>\n",
       "      <th>Engagement</th>\n",
       "      <th>Confusion</th>\n",
       "      <th>Frustration</th>\n",
       "      <th>male</th>\n",
       "      <th>female</th>\n",
       "    </tr>\n",
       "  </thead>\n",
       "  <tbody>\n",
       "    <tr>\n",
       "      <th>0</th>\n",
       "      <td>1100011002.avi</td>\n",
       "      <td>0</td>\n",
       "      <td>2</td>\n",
       "      <td>0</td>\n",
       "      <td>0</td>\n",
       "      <td>True</td>\n",
       "      <td>False</td>\n",
       "    </tr>\n",
       "    <tr>\n",
       "      <th>1</th>\n",
       "      <td>1100011003.avi</td>\n",
       "      <td>0</td>\n",
       "      <td>2</td>\n",
       "      <td>0</td>\n",
       "      <td>0</td>\n",
       "      <td>True</td>\n",
       "      <td>False</td>\n",
       "    </tr>\n",
       "    <tr>\n",
       "      <th>2</th>\n",
       "      <td>1100011004.avi</td>\n",
       "      <td>0</td>\n",
       "      <td>3</td>\n",
       "      <td>0</td>\n",
       "      <td>0</td>\n",
       "      <td>True</td>\n",
       "      <td>False</td>\n",
       "    </tr>\n",
       "    <tr>\n",
       "      <th>3</th>\n",
       "      <td>1100011005.avi</td>\n",
       "      <td>0</td>\n",
       "      <td>3</td>\n",
       "      <td>0</td>\n",
       "      <td>0</td>\n",
       "      <td>True</td>\n",
       "      <td>False</td>\n",
       "    </tr>\n",
       "    <tr>\n",
       "      <th>4</th>\n",
       "      <td>1100011006.avi</td>\n",
       "      <td>0</td>\n",
       "      <td>3</td>\n",
       "      <td>0</td>\n",
       "      <td>0</td>\n",
       "      <td>True</td>\n",
       "      <td>False</td>\n",
       "    </tr>\n",
       "    <tr>\n",
       "      <th>...</th>\n",
       "      <td>...</td>\n",
       "      <td>...</td>\n",
       "      <td>...</td>\n",
       "      <td>...</td>\n",
       "      <td>...</td>\n",
       "      <td>...</td>\n",
       "      <td>...</td>\n",
       "    </tr>\n",
       "    <tr>\n",
       "      <th>8920</th>\n",
       "      <td>9877360164.avi</td>\n",
       "      <td>1</td>\n",
       "      <td>3</td>\n",
       "      <td>0</td>\n",
       "      <td>0</td>\n",
       "      <td>False</td>\n",
       "      <td>True</td>\n",
       "    </tr>\n",
       "    <tr>\n",
       "      <th>8921</th>\n",
       "      <td>9877360165.avi</td>\n",
       "      <td>0</td>\n",
       "      <td>3</td>\n",
       "      <td>0</td>\n",
       "      <td>0</td>\n",
       "      <td>False</td>\n",
       "      <td>True</td>\n",
       "    </tr>\n",
       "    <tr>\n",
       "      <th>8922</th>\n",
       "      <td>9877360166.avi</td>\n",
       "      <td>1</td>\n",
       "      <td>3</td>\n",
       "      <td>0</td>\n",
       "      <td>2</td>\n",
       "      <td>False</td>\n",
       "      <td>True</td>\n",
       "    </tr>\n",
       "    <tr>\n",
       "      <th>8923</th>\n",
       "      <td>9877360168.avi</td>\n",
       "      <td>1</td>\n",
       "      <td>3</td>\n",
       "      <td>1</td>\n",
       "      <td>1</td>\n",
       "      <td>False</td>\n",
       "      <td>True</td>\n",
       "    </tr>\n",
       "    <tr>\n",
       "      <th>8924</th>\n",
       "      <td>9877360169.avi</td>\n",
       "      <td>0</td>\n",
       "      <td>1</td>\n",
       "      <td>0</td>\n",
       "      <td>0</td>\n",
       "      <td>False</td>\n",
       "      <td>True</td>\n",
       "    </tr>\n",
       "  </tbody>\n",
       "</table>\n",
       "<p>8925 rows × 7 columns</p>\n",
       "</div>"
      ],
      "text/plain": [
       "              ClipID  Boredom  Engagement  Confusion  Frustration    male  \\\n",
       "0     1100011002.avi        0           2          0             0   True   \n",
       "1     1100011003.avi        0           2          0             0   True   \n",
       "2     1100011004.avi        0           3          0             0   True   \n",
       "3     1100011005.avi        0           3          0             0   True   \n",
       "4     1100011006.avi        0           3          0             0   True   \n",
       "...              ...      ...         ...        ...           ...    ...   \n",
       "8920  9877360164.avi        1           3          0             0  False   \n",
       "8921  9877360165.avi        0           3          0             0  False   \n",
       "8922  9877360166.avi        1           3          0             2  False   \n",
       "8923  9877360168.avi        1           3          1             1  False   \n",
       "8924  9877360169.avi        0           1          0             0  False   \n",
       "\n",
       "      female  \n",
       "0      False  \n",
       "1      False  \n",
       "2      False  \n",
       "3      False  \n",
       "4      False  \n",
       "...      ...  \n",
       "8920    True  \n",
       "8921    True  \n",
       "8922    True  \n",
       "8923    True  \n",
       "8924    True  \n",
       "\n",
       "[8925 rows x 7 columns]"
      ]
     },
     "execution_count": 32,
     "metadata": {},
     "output_type": "execute_result"
    }
   ],
   "source": [
    "labels"
   ]
  },
  {
   "cell_type": "code",
   "execution_count": 33,
   "id": "46b68cc9",
   "metadata": {},
   "outputs": [],
   "source": [
    "# we want to make sure that there is a binary constraint\n",
    "assert labels.loc[labels['male']!=labels['female']].shape == labels.shape"
   ]
  },
  {
   "cell_type": "code",
   "execution_count": 34,
   "id": "1fa3bf8d",
   "metadata": {},
   "outputs": [],
   "source": [
    "# Create a single column for gender\n",
    "labels['gender'] = labels.apply(lambda x: 1 if x['ClipID'] in males_list else 0, axis=1)"
   ]
  },
  {
   "cell_type": "code",
   "execution_count": 35,
   "id": "7e9d5319",
   "metadata": {},
   "outputs": [
    {
     "data": {
      "text/plain": [
       "Index(['ClipID', 'Boredom', 'Engagement', 'Confusion', 'Frustration ', 'male',\n",
       "       'female', 'gender'],\n",
       "      dtype='object')"
      ]
     },
     "execution_count": 35,
     "metadata": {},
     "output_type": "execute_result"
    }
   ],
   "source": [
    "labels.columns"
   ]
  },
  {
   "cell_type": "code",
   "execution_count": 36,
   "id": "d784d8da",
   "metadata": {},
   "outputs": [],
   "source": [
    "labels.drop(['male', 'female'], axis=1, inplace=True)"
   ]
  },
  {
   "cell_type": "code",
   "execution_count": 37,
   "id": "c1092e89",
   "metadata": {},
   "outputs": [],
   "source": [
    "# We're only concerned with engagement\n",
    "labels.drop(['Boredom', 'Confusion', 'Frustration '], axis=1, inplace=True)"
   ]
  },
  {
   "cell_type": "code",
   "execution_count": 38,
   "id": "a97e9fb5",
   "metadata": {},
   "outputs": [
    {
     "data": {
      "text/plain": [
       "array([[<AxesSubplot:title={'center':'Engagement'}>,\n",
       "        <AxesSubplot:title={'center':'gender'}>]], dtype=object)"
      ]
     },
     "execution_count": 38,
     "metadata": {},
     "output_type": "execute_result"
    },
    {
     "data": {
      "image/png": "[encoded data removed]",
      "text/plain": [
       "<Figure size 432x288 with 2 Axes>"
      ]
     },
     "metadata": {
      "needs_background": "light"
     },
     "output_type": "display_data"
    }
   ],
   "source": [
    "# Now we can view some basic statistics on the dataset\n",
    "labels.hist()"
   ]
  },
  {
   "cell_type": "code",
   "execution_count": 122,
   "id": "fddf8737",
   "metadata": {},
   "outputs": [
    {
     "data": {
      "text/plain": [
       "<AxesSubplot:>"
      ]
     },
     "execution_count": 122,
     "metadata": {},
     "output_type": "execute_result"
    },
    {
     "data": {
      "image/png": "[encoded data removed]",
      "text/plain": [
       "<Figure size 432x288 with 1 Axes>"
      ]
     },
     "metadata": {
      "needs_background": "light"
     },
     "output_type": "display_data"
    }
   ],
   "source": [
    "# Female Sample\n",
    "labels[labels['gender']==0]['Engagement'].hist()"
   ]
  },
  {
   "cell_type": "code",
   "execution_count": 121,
   "id": "79ad9b56",
   "metadata": {},
   "outputs": [
    {
     "data": {
      "text/plain": [
       "<AxesSubplot:>"
      ]
     },
     "execution_count": 121,
     "metadata": {},
     "output_type": "execute_result"
    },
    {
     "data": {
      "image/png": "[encoded data removed]",
      "text/plain": [
       "<Figure size 432x288 with 1 Axes>"
      ]
     },
     "metadata": {
      "needs_background": "light"
     },
     "output_type": "display_data"
    }
   ],
   "source": [
    "# Male Samples\n",
    "labels[labels['gender']==1]['Engagement'].hist()"
   ]
  },
  {
   "cell_type": "code",
   "execution_count": 41,
   "id": "360c4a77",
   "metadata": {},
   "outputs": [],
   "source": [
    "labels['ID'] = labels['ClipID'].str[:-4]"
   ]
  },
  {
   "cell_type": "code",
   "execution_count": 42,
   "id": "4243607c",
   "metadata": {},
   "outputs": [],
   "source": [
    "labels['ID'] = pd.to_numeric(labels['ID'])"
   ]
  },
  {
   "cell_type": "code",
   "execution_count": 43,
   "id": "6efc3629",
   "metadata": {},
   "outputs": [
    {
     "data": {
      "text/plain": [
       "1"
      ]
     },
     "execution_count": 43,
     "metadata": {},
     "output_type": "execute_result"
    }
   ],
   "source": [
    "labels[labels['ID']==int(1100011006)]['gender'].values[0]"
   ]
  },
  {
   "cell_type": "markdown",
   "id": "6d8ddbd7",
   "metadata": {},
   "source": [
    "# Load the samples\n",
    "[Can jump to load pickled data](#load-pickled-data)"
   ]
  },
  {
   "cell_type": "code",
   "execution_count": 150,
   "id": "556998bf",
   "metadata": {
    "collapsed": true
   },
   "outputs": [
    {
     "ename": "AssertionError",
     "evalue": "This step can be skipped, it takes about 30min. Can proceed to data loading",
     "output_type": "error",
     "traceback": [
      "\u001b[1;31m---------------------------------------------------------------------------\u001b[0m",
      "\u001b[1;31mAssertionError\u001b[0m                            Traceback (most recent call last)",
      "Input \u001b[1;32mIn [150]\u001b[0m, in \u001b[0;36m<module>\u001b[1;34m\u001b[0m\n\u001b[1;32m----> 1\u001b[0m \u001b[38;5;28;01massert\u001b[39;00m \u001b[38;5;28;01mFalse\u001b[39;00m, \u001b[38;5;124m'\u001b[39m\u001b[38;5;124mThis step can be skipped, it takes about 30min. Can proceed to data loading\u001b[39m\u001b[38;5;124m'\u001b[39m\n",
      "\u001b[1;31mAssertionError\u001b[0m: This step can be skipped, it takes about 30min. Can proceed to data loading"
     ]
    }
   ],
   "source": [
    "assert False, 'This step can be skipped, it takes about 30min. Can proceed to data loading'"
   ]
  },
  {
   "cell_type": "code",
   "execution_count": 45,
   "id": "2a7112c4",
   "metadata": {},
   "outputs": [],
   "source": [
    "# TODO: I think this is no longer needed\n",
    "def get_img_array(img_path, size):\n",
    "    # `img` is a PIL image of size 299x299\n",
    "    img = keras.preprocessing.image.load_img(img_path, target_size=size)\n",
    "    # `array` is a float32 Numpy array of shape (299, 299, 3)\n",
    "    array = keras.preprocessing.image.img_to_array(img)\n",
    "    # We add a dimension to transform our array into a \"batch\"\n",
    "    # of size (1, 299, 299, 3)\n",
    "    array = np.expand_dims(array, axis=0)\n",
    "    return array"
   ]
  },
  {
   "cell_type": "code",
   "execution_count": 46,
   "id": "87105dc8",
   "metadata": {},
   "outputs": [],
   "source": [
    "model = ER_model"
   ]
  },
  {
   "cell_type": "code",
   "execution_count": 50,
   "id": "e56fda09",
   "metadata": {},
   "outputs": [
    {
     "data": {
      "text/plain": [
       "2"
      ]
     },
     "execution_count": 50,
     "metadata": {},
     "output_type": "execute_result"
    }
   ],
   "source": [
    "labels[labels['ID']==int(1100011002)]['Engagement'].values[0]"
   ]
  },
  {
   "cell_type": "code",
   "execution_count": 51,
   "id": "3b4a2362",
   "metadata": {},
   "outputs": [
    {
     "data": {
      "text/plain": [
       "1"
      ]
     },
     "execution_count": 51,
     "metadata": {},
     "output_type": "execute_result"
    }
   ],
   "source": [
    "labels[labels['ID']==int(1100011002)].values.tolist()[0][1:-1][1]"
   ]
  },
  {
   "cell_type": "code",
   "execution_count": null,
   "id": "8dc1a105",
   "metadata": {
    "scrolled": true
   },
   "outputs": [],
   "source": [
    "dataset = os.path.join(os.getcwd(), 'dataset', 'Validation')\n",
    "\n",
    "# Results should be a list in the form of:\n",
    "# (y_pred, y_actual, gender)\n",
    "results = []\n",
    "\n",
    "img_size = (299, 299)\n",
    "preprocess_input = keras.applications.xception.preprocess_input\n",
    "\n",
    "#just look at train set for now\n",
    "for filename in tqdm(os.listdir(dataset)):\n",
    "\n",
    "    img_path = os.path.join(dataset, filename)\n",
    "\n",
    "    # Prepare image\n",
    "    img = image.imread(img_path)\n",
    "    #img_array = preprocess_input(get_img_array(img_path, size=img_size))\n",
    "    \n",
    "    img_array = prepare_sample(img, face_only=True)\n",
    "\n",
    "    # Predict\n",
    "    preds = model.predict(img_array)\n",
    "    sample_ID = filename[:filename.index('-')]\n",
    "    \n",
    "    y_actual = labels[labels['ID']==int(sample_ID)]['Engagement'].values[0]\n",
    "    gender = labels[labels['ID']==int(sample_ID)]['gender'].values[0]\n",
    "\n",
    "    results.append((np.argmax(preds[1]), y_actual, gender))"
   ]
  },
  {
   "cell_type": "code",
   "execution_count": 149,
   "id": "160464c3",
   "metadata": {},
   "outputs": [],
   "source": [
    "# Check for any issues with results\n",
    "for result in results:\n",
    "    assert not result[2] == None, 'Error in prediciton'"
   ]
  },
  {
   "cell_type": "code",
   "execution_count": 116,
   "id": "dbf3a8d9",
   "metadata": {},
   "outputs": [],
   "source": [
    "result_df = pd.DataFrame(results, columns=['y_pred', 'y_true', 'gender'])"
   ]
  },
  {
   "cell_type": "code",
   "execution_count": 117,
   "id": "7c7601f1",
   "metadata": {},
   "outputs": [],
   "source": [
    "# pickle the dataframe\n",
    "result_df.to_pickle('results-faces.pkl')"
   ]
  },
  {
   "cell_type": "markdown",
   "id": "4b24011d",
   "metadata": {},
   "source": [
    "# Notes:\n",
    "- 1151 samples could not locate a face with the cv2 Haar cascade face detector"
   ]
  },
  {
   "cell_type": "markdown",
   "id": "93cbc21e",
   "metadata": {},
   "source": [
    "<a class=\"anchor\" name=\"load-pickled-data\"></a>\n",
    "# Load pickled data"
   ]
  },
  {
   "cell_type": "code",
   "execution_count": 2,
   "id": "6b09dd9e",
   "metadata": {},
   "outputs": [],
   "source": [
    "# load the pickled data\n",
    "results_faces = pd.read_pickle('results-faces.pkl')\n",
    "results_full_frame = pd.read_pickle('results-full-frame.pkl')"
   ]
  },
  {
   "cell_type": "markdown",
   "id": "657bc3cd",
   "metadata": {},
   "source": [
    "# Metrics"
   ]
  },
  {
   "cell_type": "code",
   "execution_count": 3,
   "id": "04e4c913",
   "metadata": {},
   "outputs": [],
   "source": [
    "#!pip install fairlearn"
   ]
  },
  {
   "cell_type": "code",
   "execution_count": 5,
   "id": "63b12a51",
   "metadata": {},
   "outputs": [],
   "source": [
    "from sklearn.metrics import accuracy_score\n",
    "from fairlearn.metrics import MetricFrame\n",
    "\n",
    "from fairlearn.metrics import (\n",
    "    MetricFrame,\n",
    "    false_positive_rate,\n",
    "    true_positive_rate,\n",
    "    selection_rate,\n",
    "    count\n",
    ")\n",
    "from sklearn.metrics import accuracy_score, precision_score, recall_score\n",
    "\n",
    "from sklearn.metrics import ConfusionMatrixDisplay\n",
    "from sklearn.metrics import confusion_matrix\n",
    "\n",
    "from sklearn.metrics import f1_score, precision_score, recall_score\n",
    "\n",
    "from sklearn.metrics import classification_report "
   ]
  },
  {
   "cell_type": "markdown",
   "id": "f40fe233",
   "metadata": {},
   "source": [
    "### Get results for face-crop samples"
   ]
  },
  {
   "cell_type": "code",
   "execution_count": 5,
   "id": "9d813744",
   "metadata": {},
   "outputs": [
    {
     "data": {
      "text/plain": [
       "0.5489658609519064"
      ]
     },
     "execution_count": 5,
     "metadata": {},
     "output_type": "execute_result"
    }
   ],
   "source": [
    "# overall accuracy\n",
    "accuracy_score(results_faces['y_true'], results_faces['y_pred'])"
   ]
  },
  {
   "cell_type": "code",
   "execution_count": 8,
   "id": "005f92ea",
   "metadata": {},
   "outputs": [
    {
     "data": {
      "text/plain": [
       "0.4605860602320384"
      ]
     },
     "execution_count": 8,
     "metadata": {},
     "output_type": "execute_result"
    }
   ],
   "source": [
    "f1_score(results_faces['y_true'], results_faces['y_pred'], average='weighted')"
   ]
  },
  {
   "cell_type": "code",
   "execution_count": 9,
   "id": "a2980009",
   "metadata": {},
   "outputs": [
    {
     "data": {
      "text/plain": [
       "0.2377671167581768"
      ]
     },
     "execution_count": 9,
     "metadata": {},
     "output_type": "execute_result"
    }
   ],
   "source": [
    "f1_score(results_faces['y_true'], results_faces['y_pred'], average='macro')"
   ]
  },
  {
   "cell_type": "code",
   "execution_count": 10,
   "id": "cf7e1f0f",
   "metadata": {},
   "outputs": [
    {
     "data": {
      "text/plain": [
       "0.5489658609519064"
      ]
     },
     "execution_count": 10,
     "metadata": {},
     "output_type": "execute_result"
    }
   ],
   "source": [
    "f1_score(results_faces['y_true'], results_faces['y_pred'], average='micro')"
   ]
  },
  {
   "cell_type": "code",
   "execution_count": 9,
   "id": "0e2ed328",
   "metadata": {},
   "outputs": [
    {
     "name": "stdout",
     "output_type": "stream",
     "text": [
      "11169\n",
      "24948\n"
     ]
    }
   ],
   "source": [
    "# male to female counts\n",
    "print(results_faces[results_faces['gender']==0].size)\n",
    "print(results_faces[results_faces['gender']==1].size)"
   ]
  },
  {
   "cell_type": "code",
   "execution_count": 10,
   "id": "077d7bbe",
   "metadata": {},
   "outputs": [
    {
     "data": {
      "text/plain": [
       "2.233682514101531"
      ]
     },
     "execution_count": 10,
     "metadata": {},
     "output_type": "execute_result"
    }
   ],
   "source": [
    "results_faces[results_faces['gender']==1].size / results_faces[results_faces['gender']==0].size"
   ]
  },
  {
   "cell_type": "code",
   "execution_count": 8,
   "id": "e05e2d4f",
   "metadata": {},
   "outputs": [
    {
     "name": "stderr",
     "output_type": "stream",
     "text": [
      "C:\\Users\\netwo\\anaconda3\\envs\\Thesis-minimum\\lib\\site-packages\\fairlearn\\metrics\\_metric_frame.py:73: FutureWarning: The positional argument 'metric' has been replaced by a keyword argument 'metrics'. From version 0.10.0 passing it as a positional argument or as a keyword argument 'metric' will result in an error\n",
      "  warnings.warn(f\"The positional argument 'metric' has been replaced \"\n"
     ]
    }
   ],
   "source": [
    "mf_faces = MetricFrame(\n",
    "    metric=accuracy_score, \n",
    "    y_true=results_faces['y_true'],\n",
    "    y_pred=results_faces['y_pred'], \n",
    "    sensitive_features=results_faces['gender']\n",
    ")"
   ]
  },
  {
   "cell_type": "code",
   "execution_count": 9,
   "id": "4228b239",
   "metadata": {
    "scrolled": true
   },
   "outputs": [
    {
     "name": "stdout",
     "output_type": "stream",
     "text": [
      "gender\n",
      "0    0.452323\n",
      "1    0.592232\n",
      "Name: accuracy_score, dtype: object\n",
      "0.13990844712037298\n"
     ]
    }
   ],
   "source": [
    "print(mf_faces.by_group) # series with accuracy for each sensitive group\n",
    "print(mf_faces.difference()) # difference in accuracy between the two sensitive groups"
   ]
  },
  {
   "cell_type": "code",
   "execution_count": 10,
   "id": "366d2fa9",
   "metadata": {},
   "outputs": [
    {
     "name": "stderr",
     "output_type": "stream",
     "text": [
      "C:\\Users\\netwo\\anaconda3\\envs\\Thesis-minimum\\lib\\site-packages\\fairlearn\\metrics\\_metric_frame.py:73: FutureWarning: The positional argument 'metric' has been replaced by a keyword argument 'metrics'. From version 0.10.0 passing it as a positional argument or as a keyword argument 'metric' will result in an error\n",
      "  warnings.warn(f\"The positional argument 'metric' has been replaced \"\n"
     ]
    }
   ],
   "source": [
    "mf_full_frame = MetricFrame(\n",
    "    metric=accuracy_score, \n",
    "    y_true=results_full_frame['y_true'],\n",
    "    y_pred=results_full_frame['y_pred'], \n",
    "    sensitive_features=results_full_frame['gender']\n",
    ")"
   ]
  },
  {
   "cell_type": "code",
   "execution_count": 11,
   "id": "25010401",
   "metadata": {},
   "outputs": [
    {
     "name": "stdout",
     "output_type": "stream",
     "text": [
      "gender\n",
      "0    0.463873\n",
      "1    0.537879\n",
      "Name: accuracy_score, dtype: object\n",
      "0.0740055673577027\n"
     ]
    }
   ],
   "source": [
    "print(mf_full_frame.by_group) # series with accuracy for each sensitive group\n",
    "print(mf_full_frame.difference()) # difference in accuracy between the two sensitive groups"
   ]
  },
  {
   "cell_type": "code",
   "execution_count": 12,
   "id": "d202c72e",
   "metadata": {},
   "outputs": [
    {
     "name": "stdout",
     "output_type": "stream",
     "text": [
      "The weighted f1 score for the cropped samples is 0.4605860602320384\n",
      "The weighted f1 score for full frame samples is 0.47267728544763865\n"
     ]
    }
   ],
   "source": [
    "f1_faces = f1_score(\n",
    "    results_faces['y_true'],\n",
    "    results_faces['y_pred'],\n",
    "    average='weighted'\n",
    ")\n",
    "\n",
    "f1_full_frame = f1_score(\n",
    "    results_full_frame['y_true'],\n",
    "    results_full_frame['y_pred'],\n",
    "    average='weighted'\n",
    ")\n",
    "print(f'The weighted f1 score for the cropped samples is {f1_faces}')\n",
    "print(f'The weighted f1 score for full frame samples is {f1_full_frame}')"
   ]
  },
  {
   "cell_type": "code",
   "execution_count": 7,
   "id": "e8c6f267",
   "metadata": {},
   "outputs": [],
   "source": [
    "# Since the f1 score for the full frame samples is higher, we'll use that going forward...\n",
    "result_df = results_full_frame"
   ]
  },
  {
   "cell_type": "markdown",
   "id": "4aa0df8f",
   "metadata": {},
   "source": [
    "## Analysis of full frame results"
   ]
  },
  {
   "cell_type": "code",
   "execution_count": 28,
   "id": "8d4acf40",
   "metadata": {},
   "outputs": [],
   "source": [
    "labels = ['Very Low Engagement', 'Low Engagement', 'High Engagement', 'Very High Engagement']"
   ]
  },
  {
   "cell_type": "code",
   "execution_count": 29,
   "id": "3c6499de",
   "metadata": {
    "scrolled": true
   },
   "outputs": [
    {
     "name": "stdout",
     "output_type": "stream",
     "text": [
      "                      precision    recall  f1-score   support\n",
      "\n",
      " Very Low Engagement       0.00      0.00      0.00       161\n",
      "      Low Engagement       0.00      0.00      0.00      1120\n",
      "     High Engagement       0.55      0.73      0.63      6384\n",
      "Very High Engagement       0.43      0.34      0.38      4374\n",
      "\n",
      "            accuracy                           0.51     12039\n",
      "           macro avg       0.24      0.27      0.25     12039\n",
      "        weighted avg       0.45      0.51      0.47     12039\n",
      "\n"
     ]
    }
   ],
   "source": [
    "report = classification_report(result_df['y_true'], result_df['y_pred'], target_names=labels, zero_division=0) \n",
    "print(report)"
   ]
  },
  {
   "cell_type": "code",
   "execution_count": null,
   "id": "d1ae1354",
   "metadata": {},
   "outputs": [],
   "source": [
    "report = classification_report(result_df['y_true'], result_df['y_pred'], labels=[0,1,2,3], zero_division=0) \n",
    "print(report)"
   ]
  },
  {
   "cell_type": "code",
   "execution_count": 14,
   "id": "1feed90b",
   "metadata": {},
   "outputs": [
    {
     "data": {
      "text/plain": [
       "array([0.        , 0.        , 0.62937626, 0.38240142])"
      ]
     },
     "execution_count": 14,
     "metadata": {},
     "output_type": "execute_result"
    }
   ],
   "source": [
    "# F1 scores per label\n",
    "f1_score(\n",
    "    result_df['y_true'],\n",
    "    result_df['y_pred'],\n",
    "    average=None\n",
    ")"
   ]
  },
  {
   "cell_type": "code",
   "execution_count": 15,
   "id": "72ccd56c",
   "metadata": {},
   "outputs": [
    {
     "name": "stderr",
     "output_type": "stream",
     "text": [
      "C:\\Users\\netwo\\anaconda3\\envs\\Thesis-minimum\\lib\\site-packages\\fairlearn\\metrics\\_metric_frame.py:73: FutureWarning: The positional argument 'metric' has been replaced by a keyword argument 'metrics'. From version 0.10.0 passing it as a positional argument or as a keyword argument 'metric' will result in an error\n",
      "  warnings.warn(f\"The positional argument 'metric' has been replaced \"\n"
     ]
    }
   ],
   "source": [
    "# alternate set of metrics\n",
    "metrics = {\n",
    "    'accuracy': accuracy_score,\n",
    "#    'precision': precision_score,\n",
    "#    'recall': recall_score,\n",
    "#    'false positive rate': false_positive_rate,\n",
    "#    'true positive rate': true_positive_rate,\n",
    "    'selection rate': selection_rate,\n",
    "    'count': count\n",
    "}\n",
    "mf = MetricFrame(\n",
    "    metric=metrics, \n",
    "    y_true=result_df['y_true'],\n",
    "    y_pred=result_df['y_pred'], \n",
    "    sensitive_features=result_df['gender']\n",
    ")"
   ]
  },
  {
   "cell_type": "code",
   "execution_count": 16,
   "id": "cef979c2",
   "metadata": {
    "scrolled": true
   },
   "outputs": [
    {
     "name": "stdout",
     "output_type": "stream",
     "text": [
      "        accuracy selection rate count\n",
      "gender                               \n",
      "0       0.463873            0.0  3723\n",
      "1       0.537879            0.0  8316\n"
     ]
    }
   ],
   "source": [
    "print(mf.by_group) # series with accuracy for each sensitive group"
   ]
  },
  {
   "cell_type": "code",
   "execution_count": 17,
   "id": "6a8cbf97",
   "metadata": {
    "scrolled": true
   },
   "outputs": [
    {
     "name": "stdout",
     "output_type": "stream",
     "text": [
      "accuracy          0.074006\n",
      "selection rate         0.0\n",
      "count                 4593\n",
      "dtype: object\n"
     ]
    }
   ],
   "source": [
    "print(mf.difference()) # difference in accuracy between the two sensitive groups"
   ]
  },
  {
   "cell_type": "markdown",
   "id": "53ae3274",
   "metadata": {},
   "source": [
    "### notes:\n",
    "- The accuracy difference between genders is 7.4%"
   ]
  },
  {
   "cell_type": "code",
   "execution_count": 18,
   "id": "03c345ba",
   "metadata": {},
   "outputs": [
    {
     "data": {
      "text/plain": [
       "accuracy          0.05112\n",
       "selection rate        0.0\n",
       "count                8316\n",
       "dtype: object"
      ]
     },
     "execution_count": 18,
     "metadata": {},
     "output_type": "execute_result"
    }
   ],
   "source": [
    "mf.difference(method='to_overall')"
   ]
  },
  {
   "cell_type": "code",
   "execution_count": 19,
   "id": "eb85a43d",
   "metadata": {},
   "outputs": [
    {
     "data": {
      "text/plain": [
       "accuracy          0.862412\n",
       "selection rate         NaN\n",
       "count             0.447691\n",
       "dtype: object"
      ]
     },
     "execution_count": 19,
     "metadata": {},
     "output_type": "execute_result"
    }
   ],
   "source": [
    "mf.ratio()"
   ]
  },
  {
   "cell_type": "code",
   "execution_count": 20,
   "id": "299766d3",
   "metadata": {},
   "outputs": [
    {
     "name": "stderr",
     "output_type": "stream",
     "text": [
      "C:\\Users\\netwo\\anaconda3\\envs\\Thesis-minimum\\lib\\site-packages\\fairlearn\\metrics\\_metric_frame.py:73: FutureWarning: The positional argument 'metric' has been replaced by a keyword argument 'metrics'. From version 0.10.0 passing it as a positional argument or as a keyword argument 'metric' will result in an error\n",
      "  warnings.warn(f\"The positional argument 'metric' has been replaced \"\n"
     ]
    }
   ],
   "source": [
    "mf = MetricFrame(\n",
    "    metric=confusion_matrix, \n",
    "    y_true=result_df['y_true'],\n",
    "    y_pred=result_df['y_pred'], \n",
    "    sensitive_features=result_df['gender']\n",
    ")"
   ]
  },
  {
   "cell_type": "code",
   "execution_count": 21,
   "id": "fe7fcf59",
   "metadata": {
    "scrolled": true
   },
   "outputs": [
    {
     "name": "stdout",
     "output_type": "stream",
     "text": [
      "gender\n",
      "0    [[0, 0, 14, 7], [0, 0, 117, 135], [0, 0, 795, ...\n",
      "1    [[0, 0, 131, 9], [0, 0, 706, 162], [0, 0, 3897...\n",
      "Name: confusion_matrix, dtype: object\n"
     ]
    }
   ],
   "source": [
    "print(mf.by_group)"
   ]
  },
  {
   "cell_type": "code",
   "execution_count": 22,
   "id": "5f81f92d",
   "metadata": {
    "scrolled": true
   },
   "outputs": [
    {
     "data": {
      "image/png": "[encoded data removed]",
      "text/plain": [
       "<Figure size 640x480 with 2 Axes>"
      ]
     },
     "metadata": {},
     "output_type": "display_data"
    }
   ],
   "source": [
    "ConfusionMatrixDisplay.from_predictions(result_df['y_true'], result_df['y_pred'])\n",
    "plt.title('Validation set predictions and GT')\n",
    "plt.show()"
   ]
  },
  {
   "cell_type": "markdown",
   "id": "062e2531",
   "metadata": {},
   "source": [
    "## Male Predictions Confusion Matrix"
   ]
  },
  {
   "cell_type": "code",
   "execution_count": 14,
   "id": "9251f9d7",
   "metadata": {
    "scrolled": false
   },
   "outputs": [
    {
     "data": {
      "image/png": "[encoded data removed]",
      "text/plain": [
       "<Figure size 432x288 with 2 Axes>"
      ]
     },
     "metadata": {
      "needs_background": "light"
     },
     "output_type": "display_data"
    }
   ],
   "source": [
    "male_results = result_df[result_df['gender']==1]\n",
    "ConfusionMatrixDisplay.from_predictions(male_results['y_true'], male_results['y_pred'])\n",
    "plt.title('Male subset of validation set predictions and GT')\n",
    "plt.show()"
   ]
  },
  {
   "cell_type": "code",
   "execution_count": 24,
   "id": "909f8653",
   "metadata": {},
   "outputs": [
    {
     "data": {
      "text/plain": [
       "array([0.        , 0.        , 0.67974882, 0.27705628])"
      ]
     },
     "execution_count": 24,
     "metadata": {},
     "output_type": "execute_result"
    }
   ],
   "source": [
    "f1_score(\n",
    "    male_results['y_true'],\n",
    "    male_results['y_pred'],\n",
    "    average=None\n",
    ")"
   ]
  },
  {
   "cell_type": "code",
   "execution_count": 25,
   "id": "e374eb40",
   "metadata": {},
   "outputs": [
    {
     "data": {
      "text/plain": [
       "0.4892246201770011"
      ]
     },
     "execution_count": 25,
     "metadata": {},
     "output_type": "execute_result"
    }
   ],
   "source": [
    "f1_score(\n",
    "    male_results['y_true'],\n",
    "    male_results['y_pred'],\n",
    "    average='weighted'\n",
    ")"
   ]
  },
  {
   "cell_type": "code",
   "execution_count": 26,
   "id": "407fa927",
   "metadata": {},
   "outputs": [
    {
     "name": "stderr",
     "output_type": "stream",
     "text": [
      "C:\\Users\\netwo\\anaconda3\\envs\\Thesis-minimum\\lib\\site-packages\\sklearn\\metrics\\_classification.py:1334: UndefinedMetricWarning: Precision is ill-defined and being set to 0.0 in labels with no predicted samples. Use `zero_division` parameter to control this behavior.\n",
      "  _warn_prf(average, modifier, msg_start, len(result))\n"
     ]
    },
    {
     "data": {
      "text/plain": [
       "array([0.        , 0.        , 0.60976373, 0.29922078])"
      ]
     },
     "execution_count": 26,
     "metadata": {},
     "output_type": "execute_result"
    }
   ],
   "source": [
    "#precision_score, recall_score\n",
    "precision_score(\n",
    "    male_results['y_true'],\n",
    "    male_results['y_pred'],\n",
    "    average=None\n",
    ")"
   ]
  },
  {
   "cell_type": "code",
   "execution_count": 27,
   "id": "8228a141",
   "metadata": {},
   "outputs": [
    {
     "data": {
      "text/plain": [
       "array([0.        , 0.        , 0.76788177, 0.25794895])"
      ]
     },
     "execution_count": 27,
     "metadata": {},
     "output_type": "execute_result"
    }
   ],
   "source": [
    "recall_score(\n",
    "    male_results['y_true'],\n",
    "    male_results['y_pred'],\n",
    "    average=None\n",
    ")"
   ]
  },
  {
   "cell_type": "markdown",
   "id": "5fa2ffce",
   "metadata": {},
   "source": [
    "# Female Prediction Confusion Matrix"
   ]
  },
  {
   "cell_type": "code",
   "execution_count": 15,
   "id": "b6cfe635",
   "metadata": {
    "scrolled": true
   },
   "outputs": [
    {
     "data": {
      "image/png": "[encoded data removed]",
      "text/plain": [
       "<Figure size 432x288 with 2 Axes>"
      ]
     },
     "metadata": {
      "needs_background": "light"
     },
     "output_type": "display_data"
    }
   ],
   "source": [
    "female_results = result_df[result_df['gender']==0]\n",
    "ConfusionMatrixDisplay.from_predictions(female_results['y_true'], female_results['y_pred'])\n",
    "plt.title('Female subset of validation set predictions and GT')\n",
    "plt.show()"
   ]
  },
  {
   "cell_type": "code",
   "execution_count": 29,
   "id": "31080cdd",
   "metadata": {},
   "outputs": [
    {
     "data": {
      "text/plain": [
       "array([0.        , 0.        , 0.46167247, 0.49986592])"
      ]
     },
     "execution_count": 29,
     "metadata": {},
     "output_type": "execute_result"
    }
   ],
   "source": [
    "f1_score(\n",
    "    female_results['y_true'],\n",
    "    female_results['y_pred'],\n",
    "    average=None\n",
    ")"
   ]
  },
  {
   "cell_type": "code",
   "execution_count": 30,
   "id": "b79660b5",
   "metadata": {},
   "outputs": [
    {
     "data": {
      "text/plain": [
       "0.44978302283374516"
      ]
     },
     "execution_count": 30,
     "metadata": {},
     "output_type": "execute_result"
    }
   ],
   "source": [
    "f1_score(\n",
    "    female_results['y_true'],\n",
    "    female_results['y_pred'],\n",
    "    average='weighted'\n",
    ")"
   ]
  },
  {
   "cell_type": "code",
   "execution_count": 31,
   "id": "44a0d66e",
   "metadata": {},
   "outputs": [
    {
     "name": "stderr",
     "output_type": "stream",
     "text": [
      "C:\\Users\\netwo\\anaconda3\\envs\\Thesis-minimum\\lib\\site-packages\\sklearn\\metrics\\_classification.py:1334: UndefinedMetricWarning: Precision is ill-defined and being set to 0.0 in labels with no predicted samples. Use `zero_division` parameter to control this behavior.\n",
      "  _warn_prf(average, modifier, msg_start, len(result))\n"
     ]
    },
    {
     "data": {
      "text/plain": [
       "array([0.        , 0.        , 0.37236534, 0.58690176])"
      ]
     },
     "execution_count": 31,
     "metadata": {},
     "output_type": "execute_result"
    }
   ],
   "source": [
    "#precision_score, recall_score\n",
    "precision_score(\n",
    "    female_results['y_true'],\n",
    "    female_results['y_pred'],\n",
    "    average=None\n",
    ")"
   ]
  },
  {
   "cell_type": "code",
   "execution_count": 32,
   "id": "374125fe",
   "metadata": {},
   "outputs": [
    {
     "data": {
      "text/plain": [
       "array([0.        , 0.        , 0.60733384, 0.4353106 ])"
      ]
     },
     "execution_count": 32,
     "metadata": {},
     "output_type": "execute_result"
    }
   ],
   "source": [
    "recall_score(\n",
    "    female_results['y_true'],\n",
    "    female_results['y_pred'],\n",
    "    average=None\n",
    ")"
   ]
  },
  {
   "cell_type": "markdown",
   "id": "7801fcf7",
   "metadata": {},
   "source": [
    "# Classification report broken down by gender"
   ]
  },
  {
   "cell_type": "code",
   "execution_count": 16,
   "id": "950dc7b6",
   "metadata": {},
   "outputs": [
    {
     "name": "stdout",
     "output_type": "stream",
     "text": [
      "              precision    recall  f1-score   support\n",
      "\n",
      "           0       0.00      0.00      0.00       140\n",
      "           1       0.00      0.00      0.00       868\n",
      "           2       0.61      0.77      0.68      5075\n",
      "           3       0.30      0.26      0.28      2233\n",
      "\n",
      "    accuracy                           0.54      8316\n",
      "   macro avg       0.23      0.26      0.24      8316\n",
      "weighted avg       0.45      0.54      0.49      8316\n",
      "\n"
     ]
    }
   ],
   "source": [
    "report = classification_report(male_results['y_true'], male_results['y_pred'], labels=[0,1,2,3], zero_division=0) \n",
    "print(report)"
   ]
  },
  {
   "cell_type": "code",
   "execution_count": 17,
   "id": "7dea35e1",
   "metadata": {},
   "outputs": [
    {
     "name": "stdout",
     "output_type": "stream",
     "text": [
      "              precision    recall  f1-score   support\n",
      "\n",
      "           0       0.00      0.00      0.00        21\n",
      "           1       0.00      0.00      0.00       252\n",
      "           2       0.37      0.61      0.46      1309\n",
      "           3       0.59      0.44      0.50      2141\n",
      "\n",
      "    accuracy                           0.46      3723\n",
      "   macro avg       0.24      0.26      0.24      3723\n",
      "weighted avg       0.47      0.46      0.45      3723\n",
      "\n"
     ]
    }
   ],
   "source": [
    "report = classification_report(female_results['y_true'], female_results['y_pred'], labels=[0,1,2,3], zero_division=0) \n",
    "print(report)"
   ]
  },
  {
   "cell_type": "markdown",
   "id": "401e8606",
   "metadata": {},
   "source": [
    "# Other Metrics\n",
    "- These are not supported for multi-class problems"
   ]
  },
  {
   "cell_type": "code",
   "execution_count": 33,
   "id": "d1589a74",
   "metadata": {},
   "outputs": [
    {
     "data": {
      "text/plain": [
       "0.0"
      ]
     },
     "execution_count": 33,
     "metadata": {},
     "output_type": "execute_result"
    }
   ],
   "source": [
    "from fairlearn.metrics import demographic_parity_difference\n",
    "demographic_parity_difference(\n",
    "    y_true=result_df['y_true'],\n",
    "    y_pred=result_df['y_pred'], \n",
    "    sensitive_features=result_df['gender']\n",
    ")"
   ]
  },
  {
   "cell_type": "code",
   "execution_count": 34,
   "id": "5ea29532",
   "metadata": {},
   "outputs": [
    {
     "name": "stderr",
     "output_type": "stream",
     "text": [
      "C:\\Users\\netwo\\anaconda3\\envs\\Thesis-minimum\\lib\\site-packages\\fairlearn\\metrics\\_metric_frame.py:515: RuntimeWarning: invalid value encountered in double_scalars\n",
      "  result = self.group_min() / self.group_max()\n"
     ]
    },
    {
     "data": {
      "text/plain": [
       "nan"
      ]
     },
     "execution_count": 34,
     "metadata": {},
     "output_type": "execute_result"
    }
   ],
   "source": [
    "from fairlearn.metrics import demographic_parity_ratio\n",
    "demographic_parity_ratio(\n",
    "    y_true=result_df['y_true'],\n",
    "    y_pred=result_df['y_pred'], \n",
    "    sensitive_features=result_df['gender']\n",
    ")"
   ]
  },
  {
   "cell_type": "markdown",
   "id": "cb774dd9",
   "metadata": {},
   "source": [
    "# References for multiclass metrics:\n",
    "\n",
    "https://datascience.stackexchange.com/questions/81034/how-to-properly-compare-these-two-confusion-matrix\n",
    "\n",
    "https://towardsdatascience.com/micro-macro-weighted-averages-of-f1-score-clearly-explained-b603420b292f"
   ]
  },
  {
   "cell_type": "markdown",
   "id": "99d69249",
   "metadata": {},
   "source": [
    "notes from https://towardsdatascience.com/the-f1-score-bec2bbc38aa6:\n",
    "- A model will obtain a high F1 score if both Precision and Recall are high\n",
    "- A model will obtain a low F1 score if both Precision and Recall are low\n",
    "- A model will obtain a medium F1 score if one of Precision and Recall is low and the other is high"
   ]
  },
  {
   "cell_type": "code",
   "execution_count": 35,
   "id": "d3e6cd71",
   "metadata": {},
   "outputs": [],
   "source": [
    "# F1 Scores"
   ]
  },
  {
   "cell_type": "code",
   "execution_count": 36,
   "id": "4bd38ba3",
   "metadata": {},
   "outputs": [
    {
     "data": {
      "text/plain": [
       "array([0.        , 0.        , 0.62937626, 0.38240142])"
      ]
     },
     "execution_count": 36,
     "metadata": {},
     "output_type": "execute_result"
    }
   ],
   "source": [
    "f1_score(\n",
    "    result_df['y_true'],\n",
    "    result_df['y_pred'],\n",
    "    average=None\n",
    ")"
   ]
  },
  {
   "cell_type": "code",
   "execution_count": 37,
   "id": "87417f10",
   "metadata": {},
   "outputs": [],
   "source": [
    "# notes from https://www.baeldung.com/cs/multi-class-f1-score"
   ]
  },
  {
   "cell_type": "code",
   "execution_count": 38,
   "id": "c0bf500d",
   "metadata": {},
   "outputs": [
    {
     "data": {
      "text/plain": [
       "0.5149929396129247"
      ]
     },
     "execution_count": 38,
     "metadata": {},
     "output_type": "execute_result"
    }
   ],
   "source": [
    "# The first method, micro calculates positive and negative values globally:\n",
    "f1_score(\n",
    "    result_df['y_true'],\n",
    "    result_df['y_pred'],\n",
    "    average='micro'\n",
    ")"
   ]
  },
  {
   "cell_type": "code",
   "execution_count": 39,
   "id": "e5a574c0",
   "metadata": {},
   "outputs": [
    {
     "data": {
      "text/plain": [
       "0.25294441940089885"
      ]
     },
     "execution_count": 39,
     "metadata": {},
     "output_type": "execute_result"
    }
   ],
   "source": [
    "# Another averaging method, macro, take the average of each class’s F-1 score:\n",
    "f1_score(\n",
    "    result_df['y_true'],\n",
    "    result_df['y_pred'],\n",
    "    average='macro'\n",
    ")"
   ]
  },
  {
   "cell_type": "markdown",
   "id": "564fbe6f",
   "metadata": {},
   "source": [
    "Note that the macro method treats all classes as equal, independent of the sample sizes.\n",
    "\n",
    "As expected, the micro average is higher than the macro average since the F-1 score of the majority class (class a) is the highest.\n",
    "\n",
    "The third parameter we’ll consider in this tutorial is weighted. The class F-1 scores are averaged by using the number of instances in a class as weights:\n"
   ]
  },
  {
   "cell_type": "code",
   "execution_count": 40,
   "id": "1dcaaaa5",
   "metadata": {},
   "outputs": [
    {
     "data": {
      "text/plain": [
       "0.47267728544763865"
      ]
     },
     "execution_count": 40,
     "metadata": {},
     "output_type": "execute_result"
    }
   ],
   "source": [
    "f1_score(\n",
    "    result_df['y_true'],\n",
    "    result_df['y_pred'],\n",
    "    average='weighted'\n",
    ")"
   ]
  },
  {
   "cell_type": "markdown",
   "id": "47416bfc",
   "metadata": {},
   "source": [
    "# Additional Metrics"
   ]
  },
  {
   "cell_type": "code",
   "execution_count": 41,
   "id": "5d9061d6",
   "metadata": {},
   "outputs": [],
   "source": [
    "#precision_score, recall_score"
   ]
  },
  {
   "cell_type": "code",
   "execution_count": 42,
   "id": "1e21af36",
   "metadata": {},
   "outputs": [
    {
     "name": "stderr",
     "output_type": "stream",
     "text": [
      "C:\\Users\\netwo\\anaconda3\\envs\\Thesis-minimum\\lib\\site-packages\\sklearn\\metrics\\_classification.py:1334: UndefinedMetricWarning: Precision is ill-defined and being set to 0.0 in labels with no predicted samples. Use `zero_division` parameter to control this behavior.\n",
      "  _warn_prf(average, modifier, msg_start, len(result))\n"
     ]
    },
    {
     "data": {
      "text/plain": [
       "array([0.        , 0.        , 0.55031668, 0.42926274])"
      ]
     },
     "execution_count": 42,
     "metadata": {},
     "output_type": "execute_result"
    }
   ],
   "source": [
    "precision_score(\n",
    "    result_df['y_true'],\n",
    "    result_df['y_pred'],\n",
    "    average=None\n",
    ")"
   ]
  },
  {
   "cell_type": "code",
   "execution_count": 43,
   "id": "e6e15fd0",
   "metadata": {},
   "outputs": [
    {
     "data": {
      "text/plain": [
       "array([0.        , 0.        , 0.73496241, 0.34476452])"
      ]
     },
     "execution_count": 43,
     "metadata": {},
     "output_type": "execute_result"
    }
   ],
   "source": [
    "recall_score(\n",
    "    result_df['y_true'],\n",
    "    result_df['y_pred'],\n",
    "    average=None\n",
    ")"
   ]
  },
  {
   "cell_type": "markdown",
   "id": "06d1b0a6",
   "metadata": {},
   "source": [
    "# Label Prediction Distribution"
   ]
  },
  {
   "cell_type": "code",
   "execution_count": 44,
   "id": "a2b780e8",
   "metadata": {
    "scrolled": true
   },
   "outputs": [
    {
     "data": {
      "text/plain": [
       "<AxesSubplot: >"
      ]
     },
     "execution_count": 44,
     "metadata": {},
     "output_type": "execute_result"
    },
    {
     "data": {
      "image/png": "[encoded data removed]",
      "text/plain": [
       "<Figure size 640x480 with 1 Axes>"
      ]
     },
     "metadata": {},
     "output_type": "display_data"
    }
   ],
   "source": [
    "female_results['y_pred'].hist(bins=4)"
   ]
  },
  {
   "cell_type": "code",
   "execution_count": 45,
   "id": "c290df0e",
   "metadata": {
    "scrolled": true
   },
   "outputs": [
    {
     "data": {
      "text/plain": [
       "<AxesSubplot: >"
      ]
     },
     "execution_count": 45,
     "metadata": {},
     "output_type": "execute_result"
    },
    {
     "data": {
      "image/png": "[encoded data removed]",
      "text/plain": [
       "<Figure size 640x480 with 1 Axes>"
      ]
     },
     "metadata": {},
     "output_type": "display_data"
    }
   ],
   "source": [
    "male_results['y_pred'].hist(bins=4)"
   ]
  },
  {
   "cell_type": "code",
   "execution_count": 46,
   "id": "c9f1b080",
   "metadata": {
    "scrolled": true
   },
   "outputs": [
    {
     "data": {
      "text/plain": [
       "<function matplotlib.pyplot.show(close=None, block=None)>"
      ]
     },
     "execution_count": 46,
     "metadata": {},
     "output_type": "execute_result"
    },
    {
     "data": {
      "image/png": "[encoded data removed]",
      "text/plain": [
       "<Figure size 640x480 with 1 Axes>"
      ]
     },
     "metadata": {},
     "output_type": "display_data"
    }
   ],
   "source": [
    "male_count_list = [0, 0, 0, 0]\n",
    "for pred in male_results['y_pred'].value_counts().keys():\n",
    "    male_count_list[pred] = male_results['y_pred'].value_counts()[pred] / sum(male_results['y_pred'].value_counts())\n",
    "    \n",
    "plt.title('Male subset predictions')\n",
    "plt.bar([0,1,2,3], male_count_list, width=0.8, tick_label=[0,1,2,3])\n",
    "for idx, value in enumerate(male_count_list):\n",
    "    plt.text(idx, value, round(value, 2))\n",
    "plt.show"
   ]
  },
  {
   "cell_type": "code",
   "execution_count": 47,
   "id": "1bf1e1ef",
   "metadata": {},
   "outputs": [
    {
     "data": {
      "text/plain": [
       "<function matplotlib.pyplot.show(close=None, block=None)>"
      ]
     },
     "execution_count": 47,
     "metadata": {},
     "output_type": "execute_result"
    },
    {
     "data": {
      "image/png": "[encoded data removed]",
      "text/plain": [
       "<Figure size 640x480 with 1 Axes>"
      ]
     },
     "metadata": {},
     "output_type": "display_data"
    }
   ],
   "source": [
    "female_count_list = [0, 0, 0, 0]\n",
    "for pred in female_results['y_pred'].value_counts().keys():\n",
    "    female_count_list[pred] = female_results['y_pred'].value_counts()[pred] / sum(female_results['y_pred'].value_counts())\n",
    "    \n",
    "plt.title('Female subset predictions')\n",
    "plt.bar([0,1,2,3], female_count_list, width=0.8, tick_label=[0,1,2,3])\n",
    "for idx, value in enumerate(female_count_list):\n",
    "    plt.text(idx, value, round(value, 2))\n",
    "plt.show"
   ]
  }
 ],
 "metadata": {
  "kernelspec": {
   "display_name": "Python 3 (ipykernel)",
   "language": "python",
   "name": "python3"
  },
  "language_info": {
   "codemirror_mode": {
    "name": "ipython",
    "version": 3
   },
   "file_extension": ".py",
   "mimetype": "text/x-python",
   "name": "python",
   "nbconvert_exporter": "python",
   "pygments_lexer": "ipython3",
   "version": "3.9.13"
  }
 },
 "nbformat": 4,
 "nbformat_minor": 5
}
