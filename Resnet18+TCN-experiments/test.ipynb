{
 "cells": [
  {
   "cell_type": "code",
   "execution_count": 6,
   "id": "63245f2e-37c4-4b79-a4ca-07e6c1d22659",
   "metadata": {},
   "outputs": [],
   "source": [
    "import os\n",
    "import cv2\n",
    "import torchvision"
   ]
  },
  {
   "cell_type": "code",
   "execution_count": null,
   "id": "9c81c31e-3cd7-470a-816c-aac6c0294471",
   "metadata": {},
   "outputs": [],
   "source": []
  },
  {
   "cell_type": "code",
   "execution_count": 18,
   "id": "10d8b4cd-7924-4862-9829-35e0b9a2fb56",
   "metadata": {},
   "outputs": [],
   "source": [
    "capture = cv2.VideoCapture(\"not_attentive-2.mp4\")\n",
    "os.makedirs(\"NA2_Test_Frames\", exist_ok=True)"
   ]
  },
  {
   "cell_type": "code",
   "execution_count": 19,
   "id": "03287b88-5454-4f57-bff2-39755f4bc1f4",
   "metadata": {},
   "outputs": [],
   "source": [
    "frame_count = 300 #int(capture.get(cv2.CAP_PROP_FRAME_COUNT))\n",
    "count = 0\n",
    "i = 0\n",
    "retaining = True\n",
    "arr = []\n",
    "capture = cv2.VideoCapture(\"not_attentive-2.mp4\")\n",
    "while count < frame_count and retaining:\n",
    "    retaining, frame = capture.read()\n",
    "    if frame is None:\n",
    "        continue\n",
    "    frame = cv2.resize(frame, (256,256))\n",
    "    arr.append(frame)\n",
    "    cv2.imwrite(filename=os.path.join(\"NA2_Test_Frames\", '{}.jpg'.format(str(i))), img=frame)\n",
    "    i += 1\n",
    "    count+=1\n",
    "capture.release()"
   ]
  },
  {
   "cell_type": "code",
   "execution_count": 88,
   "id": "9564ec1e-f306-41ec-83ef-f9dcf745ce0d",
   "metadata": {},
   "outputs": [
    {
     "data": {
      "text/plain": [
       "(256, 256, 3)"
      ]
     },
     "execution_count": 88,
     "metadata": {},
     "output_type": "execute_result"
    }
   ],
   "source": [
    "img = cv2.imread(\"Test_Frames/0.jpg\")\n",
    "\n",
    "img.shape"
   ]
  },
  {
   "cell_type": "code",
   "execution_count": null,
   "id": "0fd316e2-65bf-4e46-adee-c8fef586c27d",
   "metadata": {},
   "outputs": [],
   "source": []
  },
  {
   "cell_type": "code",
   "execution_count": null,
   "id": "a6db2553-e3f5-4902-a328-8db83ade8dc7",
   "metadata": {},
   "outputs": [],
   "source": []
  },
  {
   "cell_type": "code",
   "execution_count": 40,
   "id": "7998c068-7adb-4bbe-827c-a0a0c0d3d42b",
   "metadata": {},
   "outputs": [],
   "source": [
    "import torch\n",
    "import transforms\n",
    "\n",
    "def load_model_and_test(model_name, test_path):\n",
    "    model_loaded = torch.load(model_name) \n",
    "    model_loaded.eval()\n",
    "    transformer=torchvision.transforms.Compose([transforms.VideoFolderPathToTensor()])\n",
    "    transformed = transformer(test_path)\n",
    "    transformed = transformed.cuda()\n",
    "    return model_loaded(transformed.unsqueeze(0))"
   ]
  },
  {
   "cell_type": "code",
   "execution_count": 39,
   "id": "2b4b9cb7-07e0-4e29-a7e1-98b70b101281",
   "metadata": {},
   "outputs": [
    {
     "name": "stdout",
     "output_type": "stream",
     "text": [
      "tensor([[-3.1345, -1.3844,  4.7970,  0.4885]], device='cuda:0',\n",
      "       grad_fn=<AddmmBackward0>) tensor([[-3.6529, -0.3956,  3.4343,  0.2015]], device='cuda:0',\n",
      "       grad_fn=<AddmmBackward0>) tensor([[-4.1266, -1.9213,  5.1119,  0.6839]], device='cuda:0',\n",
      "       grad_fn=<AddmmBackward0>)\n"
     ]
    }
   ],
   "source": [
    "print(load_model_and_test(\"model.pt\",os.path.join(os.getcwd(), \"A_Test_Frames\")),\n",
    "    load_model_and_test(\"model-aug.pt\",os.path.join(os.getcwd(), \"A_Test_Frames\")),\n",
    "    load_model_and_test(\"model-v2.pt\",os.path.join(os.getcwd(), \"A_Test_Frames\")))"
   ]
  },
  {
   "cell_type": "code",
   "execution_count": 16,
   "id": "faf63112-e1cf-4b66-81b1-d80b0198b556",
   "metadata": {},
   "outputs": [
    {
     "name": "stdout",
     "output_type": "stream",
     "text": [
      "tensor([[-2.2744, -2.1154,  4.8632,  0.5693]], device='cuda:0',\n",
      "       grad_fn=<AddmmBackward0>) tensor([[-3.9617, -0.9388,  4.5669, -0.1978]], device='cuda:0',\n",
      "       grad_fn=<AddmmBackward0>) tensor([[-1.1270, -3.2207,  2.6952,  0.7034]], device='cuda:0',\n",
      "       grad_fn=<AddmmBackward0>)\n"
     ]
    }
   ],
   "source": [
    "print(load_model_and_test(\"model.pt\",os.path.join(os.getcwd(), \"NA_Test_Frames\")),\n",
    "    load_model_and_test(\"model-aug.pt\",os.path.join(os.getcwd(), \"NA_Test_Frames\")),\n",
    "    load_model_and_test(\"model-v2.pt\",os.path.join(os.getcwd(), \"NA_Test_Frames\")))"
   ]
  },
  {
   "cell_type": "code",
   "execution_count": 21,
   "id": "99f6ee82-4a8d-4d01-b033-24101b3eb2b7",
   "metadata": {},
   "outputs": [
    {
     "name": "stdout",
     "output_type": "stream",
     "text": [
      "tensor([[-2.2647,  0.4216,  3.3362, -0.8334]], device='cuda:0',\n",
      "       grad_fn=<AddmmBackward0>) tensor([[-3.0005, -0.8041,  0.5108,  3.8707]], device='cuda:0',\n",
      "       grad_fn=<AddmmBackward0>) tensor([[-2.5865, -1.6734,  2.4280,  1.6015]], device='cuda:0',\n",
      "       grad_fn=<AddmmBackward0>)\n"
     ]
    }
   ],
   "source": [
    "print(load_model_and_test(\"model.pt\",os.path.join(os.getcwd(), \"NA2_Test_Frames\")),\n",
    "    load_model_and_test(\"model-aug.pt\",os.path.join(os.getcwd(), \"NA2_Test_Frames\")),\n",
    "    load_model_and_test(\"model-v2.pt\",os.path.join(os.getcwd(), \"NA2_Test_Frames\")))"
   ]
  },
  {
   "cell_type": "code",
   "execution_count": 14,
   "id": "66bbe011-92e7-4856-b765-4569c97bd2dd",
   "metadata": {},
   "outputs": [],
   "source": [
    "# load_model_and_test(\"model-v2.pt\",os.path.join(os.getcwd(), \"A_Test_Frames\"))"
   ]
  },
  {
   "cell_type": "code",
   "execution_count": 108,
   "id": "db12c577-ba35-4e93-b441-d9b4e26d5ce2",
   "metadata": {},
   "outputs": [],
   "source": [
    "def key_function(s):\n",
    "    # Use a regular expression to find numeric parts in the string\n",
    "    import re\n",
    "    s = os.path.split(s)[1]\n",
    "    numeric_part = re.search(r'\\d+', s)\n",
    "    if numeric_part:\n",
    "        return int(numeric_part.group())  # Convert the numeric part to an integer\n",
    "    else:\n",
    "        return float('inf')"
   ]
  },
  {
   "cell_type": "code",
   "execution_count": 102,
   "id": "62e58755-725a-4d34-b501-20e9041179d3",
   "metadata": {},
   "outputs": [],
   "source": [
    "path = os.path.join(os.getcwd(), \"A_Test_Frames\")\n",
    "file_names = sorted([os.path.join(path, f) for f in os.listdir(path) if os.path.isfile(os.path.join(path, f))])"
   ]
  },
  {
   "cell_type": "code",
   "execution_count": null,
   "id": "5f8f1a0e-726e-4b8d-983b-6be200167cd2",
   "metadata": {
    "scrolled": true
   },
   "outputs": [],
   "source": [
    "\n"
   ]
  },
  {
   "cell_type": "code",
   "execution_count": 110,
   "id": "3391580b-3bdb-46f3-b6e0-888503397ac1",
   "metadata": {},
   "outputs": [],
   "source": [
    "path = os.path.join(os.getcwd(), \"A_Test_Frames\")\n",
    "file_names = sorted([os.path.join(path, f) for f in os.listdir(path) if os.path.isfile(os.path.join(path, f))], key=key_function)"
   ]
  },
  {
   "cell_type": "code",
   "execution_count": null,
   "id": "169a1232-91ae-43a1-b774-99b725cfa995",
   "metadata": {
    "scrolled": true
   },
   "outputs": [],
   "source": []
  },
  {
   "cell_type": "code",
   "execution_count": null,
   "id": "c5fe631e-730f-49b3-a887-6d8f95be4dc3",
   "metadata": {},
   "outputs": [],
   "source": [
    "# use_cuda = True\n",
    "# device = torch.device(\"cuda\" if use_cuda else \"cpu\")\n",
    "# model_loaded.eval()\n",
    "# inputs = torch.randn([1, 30, 3, 256, 256]).to(device)\n",
    "# model_loaded(inputs)"
   ]
  },
  {
   "cell_type": "code",
   "execution_count": null,
   "id": "329c67f6-39fe-4adb-8799-2ea73f1c77a0",
   "metadata": {},
   "outputs": [],
   "source": []
  },
  {
   "cell_type": "code",
   "execution_count": 22,
   "id": "a9cd82b9-713e-47bb-ab3a-81374d346e7a",
   "metadata": {},
   "outputs": [],
   "source": [
    "import pandas as pd"
   ]
  },
  {
   "cell_type": "code",
   "execution_count": 36,
   "id": "8ef10ce9-eee2-4e67-9c5a-28a30feca14f",
   "metadata": {},
   "outputs": [],
   "source": [
    "train_df = pd.read_csv(\"Test.csv\")"
   ]
  },
  {
   "cell_type": "code",
   "execution_count": 37,
   "id": "fb3f4654-50a1-4199-bceb-a229d9c0dc18",
   "metadata": {},
   "outputs": [
    {
     "data": {
      "text/plain": [
       "label\n",
       "2    882\n",
       "3    814\n",
       "1     84\n",
       "0      4\n",
       "Name: count, dtype: int64"
      ]
     },
     "execution_count": 37,
     "metadata": {},
     "output_type": "execute_result"
    }
   ],
   "source": [
    "train_df[\"label\"].value_counts()"
   ]
  },
  {
   "cell_type": "code",
   "execution_count": 38,
   "id": "2c6546fb-38cc-4c09-ab45-434681ef6e6b",
   "metadata": {},
   "outputs": [
    {
     "data": {
      "text/plain": [
       "1784"
      ]
     },
     "execution_count": 38,
     "metadata": {},
     "output_type": "execute_result"
    }
   ],
   "source": [
    "len(train_df)"
   ]
  },
  {
   "cell_type": "code",
   "execution_count": 31,
   "id": "279ecbe1-66ac-45c2-9653-bb24356edd63",
   "metadata": {},
   "outputs": [
    {
     "name": "stdout",
     "output_type": "stream",
     "text": [
      "label\n",
      "2    2617\n",
      "3    2494\n",
      "0     34\n",
      "1     213\n"
     ]
    }
   ],
   "source": [
    "# print(\"\"\"label\n",
    "# 2    2617\n",
    "# 3    2494\n",
    "# 0     34\n",
    "# 1     213\"\"\")\n",
    "train_df[\"label\"].value_counts()"
   ]
  },
  {
   "cell_type": "code",
   "execution_count": 32,
   "id": "39c7a2cf-887c-4e6b-95e3-6e792f4f81b3",
   "metadata": {},
   "outputs": [
    {
     "data": {
      "text/html": [
       "<div>\n",
       "<style scoped>\n",
       "    .dataframe tbody tr th:only-of-type {\n",
       "        vertical-align: middle;\n",
       "    }\n",
       "\n",
       "    .dataframe tbody tr th {\n",
       "        vertical-align: top;\n",
       "    }\n",
       "\n",
       "    .dataframe thead th {\n",
       "        text-align: right;\n",
       "    }\n",
       "</style>\n",
       "<table border=\"1\" class=\"dataframe\">\n",
       "  <thead>\n",
       "    <tr style=\"text-align: right;\">\n",
       "      <th></th>\n",
       "      <th>Unnamed: 0.1</th>\n",
       "      <th>Unnamed: 0</th>\n",
       "      <th>path</th>\n",
       "      <th>label</th>\n",
       "    </tr>\n",
       "  </thead>\n",
       "  <tbody>\n",
       "    <tr>\n",
       "      <th>0</th>\n",
       "      <td>0</td>\n",
       "      <td>0.0</td>\n",
       "      <td>DAiSEE/DataSet/TrainFrames/310071/3100711049</td>\n",
       "      <td>2</td>\n",
       "    </tr>\n",
       "    <tr>\n",
       "      <th>1</th>\n",
       "      <td>1</td>\n",
       "      <td>1.0</td>\n",
       "      <td>DAiSEE/DataSet/TrainFrames/310071/3100712014</td>\n",
       "      <td>2</td>\n",
       "    </tr>\n",
       "    <tr>\n",
       "      <th>2</th>\n",
       "      <td>2</td>\n",
       "      <td>2.0</td>\n",
       "      <td>DAiSEE/DataSet/TrainFrames/310071/3100711043</td>\n",
       "      <td>3</td>\n",
       "    </tr>\n",
       "    <tr>\n",
       "      <th>3</th>\n",
       "      <td>3</td>\n",
       "      <td>3.0</td>\n",
       "      <td>DAiSEE/DataSet/TrainFrames/310071/3100711007</td>\n",
       "      <td>2</td>\n",
       "    </tr>\n",
       "    <tr>\n",
       "      <th>4</th>\n",
       "      <td>4</td>\n",
       "      <td>4.0</td>\n",
       "      <td>DAiSEE/DataSet/TrainFrames/310071/3100711042</td>\n",
       "      <td>2</td>\n",
       "    </tr>\n",
       "  </tbody>\n",
       "</table>\n",
       "</div>"
      ],
      "text/plain": [
       "   Unnamed: 0.1  Unnamed: 0                                          path  \\\n",
       "0             0         0.0  DAiSEE/DataSet/TrainFrames/310071/3100711049   \n",
       "1             1         1.0  DAiSEE/DataSet/TrainFrames/310071/3100712014   \n",
       "2             2         2.0  DAiSEE/DataSet/TrainFrames/310071/3100711043   \n",
       "3             3         3.0  DAiSEE/DataSet/TrainFrames/310071/3100711007   \n",
       "4             4         4.0  DAiSEE/DataSet/TrainFrames/310071/3100711042   \n",
       "\n",
       "   label  \n",
       "0      2  \n",
       "1      2  \n",
       "2      3  \n",
       "3      2  \n",
       "4      2  "
      ]
     },
     "execution_count": 32,
     "metadata": {},
     "output_type": "execute_result"
    }
   ],
   "source": [
    "train_df.head()"
   ]
  },
  {
   "cell_type": "code",
   "execution_count": 33,
   "id": "fa7b5f08-ce6b-4a06-adc3-221903a4508a",
   "metadata": {},
   "outputs": [],
   "source": [
    "train_df.drop([\"Unnamed: 0.1\",\"Unnamed: 0\"], axis=1, inplace=True) "
   ]
  },
  {
   "cell_type": "code",
   "execution_count": 35,
   "id": "0136a924-4c6d-4381-ab90-7a448c35af08",
   "metadata": {},
   "outputs": [
    {
     "data": {
      "text/html": [
       "<div>\n",
       "<style scoped>\n",
       "    .dataframe tbody tr th:only-of-type {\n",
       "        vertical-align: middle;\n",
       "    }\n",
       "\n",
       "    .dataframe tbody tr th {\n",
       "        vertical-align: top;\n",
       "    }\n",
       "\n",
       "    .dataframe thead th {\n",
       "        text-align: right;\n",
       "    }\n",
       "</style>\n",
       "<table border=\"1\" class=\"dataframe\">\n",
       "  <thead>\n",
       "    <tr style=\"text-align: right;\">\n",
       "      <th></th>\n",
       "      <th>path</th>\n",
       "      <th>label</th>\n",
       "    </tr>\n",
       "  </thead>\n",
       "  <tbody>\n",
       "    <tr>\n",
       "      <th>0</th>\n",
       "      <td>DAiSEE/DataSet/TrainFrames/310071/3100711049</td>\n",
       "      <td>2</td>\n",
       "    </tr>\n",
       "    <tr>\n",
       "      <th>1</th>\n",
       "      <td>DAiSEE/DataSet/TrainFrames/310071/3100712014</td>\n",
       "      <td>2</td>\n",
       "    </tr>\n",
       "    <tr>\n",
       "      <th>2</th>\n",
       "      <td>DAiSEE/DataSet/TrainFrames/310071/3100711043</td>\n",
       "      <td>3</td>\n",
       "    </tr>\n",
       "    <tr>\n",
       "      <th>3</th>\n",
       "      <td>DAiSEE/DataSet/TrainFrames/310071/3100711007</td>\n",
       "      <td>2</td>\n",
       "    </tr>\n",
       "    <tr>\n",
       "      <th>4</th>\n",
       "      <td>DAiSEE/DataSet/TrainFrames/310071/3100711042</td>\n",
       "      <td>2</td>\n",
       "    </tr>\n",
       "  </tbody>\n",
       "</table>\n",
       "</div>"
      ],
      "text/plain": [
       "                                           path  label\n",
       "0  DAiSEE/DataSet/TrainFrames/310071/3100711049      2\n",
       "1  DAiSEE/DataSet/TrainFrames/310071/3100712014      2\n",
       "2  DAiSEE/DataSet/TrainFrames/310071/3100711043      3\n",
       "3  DAiSEE/DataSet/TrainFrames/310071/3100711007      2\n",
       "4  DAiSEE/DataSet/TrainFrames/310071/3100711042      2"
      ]
     },
     "execution_count": 35,
     "metadata": {},
     "output_type": "execute_result"
    }
   ],
   "source": [
    "train_df.head()"
   ]
  },
  {
   "cell_type": "code",
   "execution_count": null,
   "id": "03a32772-e223-44af-9224-42ed57977b79",
   "metadata": {},
   "outputs": [],
   "source": []
  },
  {
   "cell_type": "code",
   "execution_count": null,
   "id": "6f1401d0-657e-4738-ba8c-57a52f549c6c",
   "metadata": {},
   "outputs": [],
   "source": []
  },
  {
   "cell_type": "code",
   "execution_count": null,
   "id": "042acd57-3719-4b68-8c50-f5bcaa741b43",
   "metadata": {},
   "outputs": [],
   "source": []
  },
  {
   "cell_type": "code",
   "execution_count": 50,
   "id": "517bf2ee-8ad1-4a3c-89f8-d70b9ad47c45",
   "metadata": {},
   "outputs": [],
   "source": [
    "import torch\n",
    "import transforms\n",
    "\n",
    "def load_model_and_test(model_name, test_path):\n",
    "    model_loaded = torch.load(model_name) \n",
    "    model_loaded.eval()\n",
    "    transformer=torchvision.transforms.Compose([transforms.VideoFolderPathToTensor()])\n",
    "    transformed = transformer(test_path)\n",
    "    transformed = transformed.cuda()\n",
    "    return model_loaded(transformed.unsqueeze(0))"
   ]
  },
  {
   "cell_type": "code",
   "execution_count": 51,
   "id": "b72585b1-f8bd-479e-9daa-8493d3bc696c",
   "metadata": {},
   "outputs": [
    {
     "name": "stdout",
     "output_type": "stream",
     "text": [
      "tensor([[-4.1266, -1.9213,  5.1119,  0.6839]], device='cuda:0',\n",
      "       grad_fn=<AddmmBackward0>)\n"
     ]
    }
   ],
   "source": [
    "print(load_model_and_test(\"model-v2.pt\",os.path.join(os.getcwd(), \"A_Test_Frames\")))"
   ]
  },
  {
   "cell_type": "code",
   "execution_count": null,
   "id": "1b2ce568-a8f1-4678-bb5d-95118a1851f2",
   "metadata": {},
   "outputs": [],
   "source": []
  }
 ],
 "metadata": {
  "kernelspec": {
   "display_name": "venv-p310-torch210-abx4kb",
   "language": "python",
   "name": "venv-p310-torch210-abx4kb"
  },
  "language_info": {
   "codemirror_mode": {
    "name": "ipython",
    "version": 3
   },
   "file_extension": ".py",
   "mimetype": "text/x-python",
   "name": "python",
   "nbconvert_exporter": "python",
   "pygments_lexer": "ipython3",
   "version": "3.10.13"
  }
 },
 "nbformat": 4,
 "nbformat_minor": 5
}
